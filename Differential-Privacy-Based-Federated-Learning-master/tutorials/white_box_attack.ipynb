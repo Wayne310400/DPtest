{
 "cells": [
  {
   "attachments": {},
   "cell_type": "markdown",
   "metadata": {},
   "source": [
    "# Whitebox attack using privacy meter"
   ]
  },
  {
   "attachments": {},
   "cell_type": "markdown",
   "metadata": {},
   "source": [
    "## Introduction\n",
    "\n",
    "In this tutorial we will see:\n",
    "\n",
    "- How to use the privacy meter to audit model implemented on Pytorch\n",
    "- How to extract the white-box signal (i.e., gradient norm)\n",
    "- How to run membership inference attack based on white-box attack based on the population attack"
   ]
  },
  {
   "attachments": {},
   "cell_type": "markdown",
   "metadata": {},
   "source": [
    "<table class=\"tfo-notebook-buttons\" align=\"left\">\n",
    "<td>\n",
    "    <a target=\"_blank\" href=\"https://colab.research.google.com/github/privacytrustlab/ml_privacy_meter/blob/master/tutorials/white_box_attack.ipynb\"><img src=\"https://www.tensorflow.org/images/colab_logo_32px.png\" />Run in Google Colab</a>\n",
    "  </td>\n",
    "  <td>\n",
    "    <a target=\"_blank\" href=\"https://github.com/privacytrustlab/ml_privacy_meter/blob/master/tutorials/white_box_attack.ipynb\"><img src=\"https://www.tensorflow.org/images/GitHub-Mark-32px.png\" />View GitHub</a>\n",
    "  </td>\n",
    "</table>"
   ]
  },
  {
   "attachments": {},
   "cell_type": "markdown",
   "metadata": {},
   "source": [
    "# Import"
   ]
  },
  {
   "cell_type": "code",
   "execution_count": 1,
   "metadata": {},
   "outputs": [
    {
     "name": "stderr",
     "output_type": "stream",
     "text": [
      "/home/wayne/.local/lib/python3.9/site-packages/tqdm/auto.py:21: TqdmWarning: IProgress not found. Please update jupyter and ipywidgets. See https://ipywidgets.readthedocs.io/en/stable/user_install.html\n",
      "  from .autonotebook import tqdm as notebook_tqdm\n"
     ]
    }
   ],
   "source": [
    "import numpy as np\n",
    "import matplotlib.pyplot as plt\n",
    "import torch.nn.functional as F\n",
    "import torch\n",
    "import torchvision\n",
    "import os\n",
    "import pickle\n",
    "import time\n",
    "import copy\n",
    "\n",
    "from torch import nn\n",
    "from ast import List\n",
    "from torchvision import transforms\n",
    "from decimal import *\n",
    "from torch.utils.data import Dataset, DataLoader, TensorDataset\n",
    "from scipy.special import comb"
   ]
  },
  {
   "cell_type": "code",
   "execution_count": 2,
   "metadata": {},
   "outputs": [
    {
     "name": "stderr",
     "output_type": "stream",
     "text": [
      "2023-04-20 18:13:48.953791: I tensorflow/core/platform/cpu_feature_guard.cc:193] This TensorFlow binary is optimized with oneAPI Deep Neural Network Library (oneDNN) to use the following CPU instructions in performance-critical operations:  AVX2 FMA\n",
      "To enable them in other operations, rebuild TensorFlow with the appropriate compiler flags.\n",
      "2023-04-20 18:13:49.457199: W tensorflow/compiler/xla/stream_executor/platform/default/dso_loader.cc:64] Could not load dynamic library 'libnvinfer.so.7'; dlerror: libnvinfer.so.7: cannot open shared object file: No such file or directory\n",
      "2023-04-20 18:13:49.457249: W tensorflow/compiler/xla/stream_executor/platform/default/dso_loader.cc:64] Could not load dynamic library 'libnvinfer_plugin.so.7'; dlerror: libnvinfer_plugin.so.7: cannot open shared object file: No such file or directory\n",
      "2023-04-20 18:13:49.457255: W tensorflow/compiler/tf2tensorrt/utils/py_utils.cc:38] TF-TRT Warning: Cannot dlopen some TensorRT libraries. If you would like to use Nvidia GPU with TensorRT, please make sure the missing libraries mentioned above are installed properly.\n"
     ]
    }
   ],
   "source": [
    "from privacy_meter.audit import Audit, MetricEnum\n",
    "from privacy_meter.metric import PopulationMetric\n",
    "from privacy_meter.information_source_signal import ModelGradientNorm, ModelGradient, ModelLoss\n",
    "from privacy_meter.hypothesis_test import linear_itp_threshold_func\n",
    "from privacy_meter.audit_report import ROCCurveReport, SignalHistogramReport\n",
    "from privacy_meter.constants import InferenceGame\n",
    "from privacy_meter.dataset import Dataset\n",
    "from privacy_meter.information_source import InformationSource\n",
    "from privacy_meter.model import PytorchModelTensor"
   ]
  },
  {
   "attachments": {},
   "cell_type": "markdown",
   "metadata": {},
   "source": [
    "# Define hyper-parameters"
   ]
  },
  {
   "cell_type": "code",
   "execution_count": 3,
   "metadata": {},
   "outputs": [],
   "source": [
    "def rdp2dp(rdp, bad_event, alpha):\n",
    "    \"\"\"\n",
    "    convert RDP to DP, Ref:\n",
    "    - Canonne, Clément L., Gautam Kamath, and Thomas Steinke. The discrete gaussian for differential privacy. In NeurIPS, 2020. (See Proposition 12)\n",
    "    - Asoodeh, S., Liao, J., Calmon, F.P., Kosut, O. and Sankar, L., A better bound gives a hundred rounds: Enhanced privacy guarantees via f-divergences. In ISIT, 2020. (See Lemma 1)\n",
    "    \"\"\"\n",
    "    return rdp + 1.0/(alpha-1) * (np.log(1.0/bad_event) + (alpha-1)*np.log(1-1.0/alpha) - np.log(alpha))\n",
    "\n",
    "\n",
    "def compute_rdp(alpha, q, sigma):\n",
    "    \"\"\"\n",
    "    RDP for subsampled Gaussian mechanism, Ref:\n",
    "    - Mironov, Ilya, Kunal Talwar, and Li Zhang. R\\'enyi differential privacy of the sampled gaussian mechanism. arXiv preprint 2019.\n",
    "    \"\"\"\n",
    "    sum_ = Decimal(0.0)\n",
    "    for k in range(0, alpha+1):\n",
    "        sum_ += Decimal(comb(alpha, k)) * Decimal(1-q)**Decimal(alpha-k) * Decimal(q**k) * Decimal(np.e)**(Decimal(k**2-k)/Decimal(2*sigma**2))\n",
    "    rdp = sum_.ln() / Decimal(alpha-1)\n",
    "    return float(rdp)\n",
    "\n",
    "def search_dp(q, sigma, bad_event, iters=1):\n",
    "    \"\"\"\n",
    "    Given the sampling rate, variance of Gaussian noise, and privacy parameter delta, \n",
    "    this function returns the corresponding DP budget.\n",
    "    \"\"\"\n",
    "    min_dp = 1e5\n",
    "    for alpha in list(range(2, 101)):\n",
    "        rdp = iters * compute_rdp(alpha, q, sigma)\n",
    "        dp = rdp2dp(rdp, bad_event, alpha)\n",
    "        min_dp = min(min_dp, dp)\n",
    "    return min_dp\n",
    "\n",
    "def calibrating_sampled_gaussian(q, eps, bad_event, iters=1, err=1e-3):\n",
    "    \"\"\"\n",
    "    Calibrate noise to privacy budgets\n",
    "    \"\"\"\n",
    "    sigma_max = 100\n",
    "    sigma_min = 0.1\n",
    "    \n",
    "    def binary_search(left, right):\n",
    "        mid = (left + right) / 2\n",
    "        \n",
    "        lbd = search_dp(q, mid, bad_event, iters)\n",
    "        ubd = search_dp(q, left, bad_event, iters)\n",
    "        \n",
    "        if ubd > eps and lbd > eps:    # min noise & mid noise are too small\n",
    "            left = mid\n",
    "        elif ubd > eps and lbd < eps:  # mid noise is too large\n",
    "            right = mid\n",
    "        else:\n",
    "            print(\"an error occurs in func: binary search!\")\n",
    "            return -1\n",
    "        return left, right\n",
    "        \n",
    "    # check\n",
    "    if search_dp(q, sigma_max, bad_event, iters) > eps:\n",
    "        print(\"noise > 100\")\n",
    "        return -1\n",
    "    \n",
    "    while sigma_max-sigma_min > err:\n",
    "        sigma_min, sigma_max = binary_search(sigma_min, sigma_max)\n",
    "    return sigma_max"
   ]
  },
  {
   "cell_type": "code",
   "execution_count": 4,
   "metadata": {},
   "outputs": [],
   "source": [
    "# for training the target model\n",
    "num_train_points = 1500\n",
    "num_test_points = 1500\n",
    "num_population_points = 3000\n",
    "batch_size = 64\n",
    "learning_rate = 0.01\n",
    "local_epochs = 20\n",
    "clients = 10\n",
    "glob_epochs = 10\n",
    "\n",
    "q = 0.01 # sampling rate\n",
    "eps = 10.0 # privacy budget\n",
    "delta = 1e-5 # probability of something bad happening\n",
    "clip = 0.1\n",
    "sigma = calibrating_sampled_gaussian(q, eps, delta, iters=local_epochs * glob_epochs, err=1e-3)\n",
    "print(\"noise scale =\", sigma)\n",
    "\n",
    "device = 'cuda' if torch.cuda.is_available() else 'cpu' # you can change it to 'cuda' if you have GPU\n",
    "mechanism = \"DP\""
   ]
  },
  {
   "attachments": {},
   "cell_type": "markdown",
   "metadata": {},
   "source": [
    "# Define the model"
   ]
  },
  {
   "cell_type": "code",
   "execution_count": null,
   "metadata": {},
   "outputs": [],
   "source": [
    "\n",
    "class Net(nn.Module):\n",
    "    \"\"\"Simple CNN for CIFAR10 dataset.\"\"\"\n",
    "\n",
    "    def __init__(self):\n",
    "        super().__init__()\n",
    "        self.conv1 = nn.Conv2d(3, 6, 5)\n",
    "        self.pool = nn.MaxPool2d(2, 2)\n",
    "        self.conv2 = nn.Conv2d(6, 16, 5)\n",
    "        self.fc1 = nn.Linear(16 * 5 * 5, 120)\n",
    "        self.fc2 = nn.Linear(120, 84)\n",
    "        self.fc3 = nn.Linear(84, 10)\n",
    "\n",
    "    def forward(self, inputs):\n",
    "        \"\"\"Forward pass of the model.\"\"\"\n",
    "        inputs = self.pool(F.relu(self.conv1(inputs)))\n",
    "        inputs = self.pool(F.relu(self.conv2(inputs)))\n",
    "        # flatten all dimensions except batch\n",
    "        inputs = inputs.reshape(-1, 16 * 5 * 5)\n",
    "        inputs = F.relu(self.fc1(inputs))\n",
    "        inputs = F.relu(self.fc2(inputs))\n",
    "        outputs = self.fc3(inputs)\n",
    "        return outputs\n",
    "    \n",
    "class CNNMnist(nn.Module):\n",
    "    def __init__(self):\n",
    "        super().__init__()\n",
    "        self.conv1 = nn.Conv2d(1, 10, kernel_size=5)\n",
    "        self.conv2 = nn.Conv2d(10, 20, kernel_size=5)\n",
    "        self.conv2_drop = nn.Dropout2d()\n",
    "        self.fc1 = nn.Linear(320, 50)\n",
    "        self.fc2 = nn.Linear(50, 10)\n",
    "\n",
    "    def forward(self, x):\n",
    "        x = F.relu(F.max_pool2d(self.conv1(x), 2))\n",
    "        x = F.relu(F.max_pool2d(self.conv2_drop(self.conv2(x)), 2))\n",
    "        x = x.view(-1, x.shape[1]*x.shape[2]*x.shape[3])\n",
    "        x = F.relu(self.fc1(x))\n",
    "        x = F.dropout(x, training=self.training)\n",
    "        output = self.fc2(x)\n",
    "        return output\n",
    "    \n",
    "class CNNCifar(nn.Module):\n",
    "    def __init__(self):\n",
    "        super().__init__()\n",
    "        # self.conv1 = nn.Conv2d(3, 6, 5)\n",
    "        # self.pool = nn.MaxPool2d(2, 2)\n",
    "        # self.conv2 = nn.Conv2d(6, 16, 5)\n",
    "        self.conv1 = nn.Conv2d(3, 64, 5)\n",
    "        self.pool = nn.MaxPool2d(3, 2)\n",
    "        self.conv2 = nn.Conv2d(64, 64, 5)\n",
    "        # self.fc1 = nn.Linear(16 * 5 * 5, 120)\n",
    "        # self.fc2 = nn.Linear(120, 84)\n",
    "        # self.fc3 = nn.Linear(84, args.num_classes)\n",
    "        self.fc1 = nn.Linear(64 * 4 * 4, 384)\n",
    "        self.fc2 = nn.Linear(384, 192)\n",
    "        self.fc3 = nn.Linear(192, 10)\n",
    "\n",
    "    def forward(self, x):\n",
    "        x = self.pool(F.relu(self.conv1(x)))\n",
    "        x = self.pool(F.relu(self.conv2(x)))\n",
    "        #x = x.view(-1, 16 * 5 * 5)\n",
    "        x = x.view(-1, 64 * 4 * 4)\n",
    "        x = F.relu(self.fc1(x))\n",
    "        x = F.relu(self.fc2(x))\n",
    "        x = self.fc3(x)\n",
    "        return F.log_softmax(x, dim=1)\n",
    "    \n",
    "class LeNet(nn.Module):\n",
    "    def __init__(self):\n",
    "      super().__init__()\n",
    "      self.conv1 = nn.Conv2d(3, 16, 3, 1, padding=1) # input is color image, hence 3 i/p channels. 16 filters, kernal size is tuned to 3 to avoid overfitting, stride is 1 , padding is 1 extract all edge features.\n",
    "      self.conv2 = nn.Conv2d(16, 32, 3, 1, padding=1) # We double the feature maps for every conv layer as in pratice it is really good.\n",
    "      self.conv3 = nn.Conv2d(32, 64, 3, 1, padding=1)\n",
    "      self.fc1 = nn.Linear(4*4*64, 500) # I/p image size is 32*32, after 3 MaxPooling layers it reduces to 4*4 and 64 because our last conv layer has 64 outputs. Output nodes is 500\n",
    "      self.dropout1 = nn.Dropout(0.5)\n",
    "      self.fc2 = nn.Linear(500, 10) # output nodes are 10 because our dataset have 10 different categories\n",
    "    def forward(self, x):\n",
    "      x = F.relu(self.conv1(x)) #Apply relu to each output of conv layer.\n",
    "      x = F.max_pool2d(x, 2, 2) # Max pooling layer with kernal of 2 and stride of 2\n",
    "      x = F.relu(self.conv2(x))\n",
    "      x = F.max_pool2d(x, 2, 2)\n",
    "      x = F.relu(self.conv3(x))\n",
    "      x = F.max_pool2d(x, 2, 2)\n",
    "      x = x.view(-1, 4*4*64) # flatten our images to 1D to input it to the fully connected layers\n",
    "      x = F.relu(self.fc1(x))\n",
    "      x = self.dropout1(x) # Applying dropout b/t layers which exchange highest parameters. This is a good practice\n",
    "      x = self.fc2(x)\n",
    "      return x\n",
    "    \n",
    "# 3x3 convolution\n",
    "def conv3x3(in_channels, out_channels, stride=1):\n",
    "    return nn.Conv2d(in_channels, out_channels, kernel_size=3, \n",
    "                     stride=stride, padding=1, bias=False)\n",
    "\n",
    "# Residual block\n",
    "class ResidualBlock(nn.Module):\n",
    "    def __init__(self, in_channels, out_channels, stride=1, downsample=None):\n",
    "        super(ResidualBlock, self).__init__()\n",
    "        self.conv1 = conv3x3(in_channels, out_channels, stride)\n",
    "        self.bn1 = nn.BatchNorm2d(out_channels)\n",
    "        self.relu = nn.ReLU(inplace=True)\n",
    "        self.conv2 = conv3x3(out_channels, out_channels)\n",
    "        self.bn2 = nn.BatchNorm2d(out_channels)\n",
    "        self.downsample = downsample\n",
    "\n",
    "    def forward(self, x):\n",
    "        residual = x\n",
    "        out = self.conv1(x)\n",
    "        out = self.bn1(out)\n",
    "        out = self.relu(out)\n",
    "        out = self.conv2(out)\n",
    "        out = self.bn2(out)\n",
    "        if self.downsample:\n",
    "            residual = self.downsample(x)\n",
    "        out += residual\n",
    "        out = self.relu(out)\n",
    "        return out\n",
    "\n",
    "# ResNet\n",
    "class ResNet(nn.Module):\n",
    "    def __init__(self, block, layers, num_classes=10):\n",
    "        super(ResNet, self).__init__()\n",
    "        self.in_channels = 16\n",
    "        self.conv = conv3x3(3, 16)\n",
    "        self.bn = nn.BatchNorm2d(16)\n",
    "        self.relu = nn.ReLU(inplace=True)\n",
    "        self.layer1 = self.make_layer(block, 16, layers[0])\n",
    "        self.layer2 = self.make_layer(block, 32, layers[1], 2)\n",
    "        self.layer3 = self.make_layer(block, 64, layers[2], 2)\n",
    "        self.avg_pool = nn.AvgPool2d(8)\n",
    "        self.fc = nn.Linear(64, num_classes)\n",
    "\n",
    "    def make_layer(self, block, out_channels, blocks, stride=1):\n",
    "        downsample = None\n",
    "        if (stride != 1) or (self.in_channels != out_channels):\n",
    "            downsample = nn.Sequential(\n",
    "                conv3x3(self.in_channels, out_channels, stride=stride),\n",
    "                nn.BatchNorm2d(out_channels))\n",
    "        layers = []\n",
    "        layers.append(block(self.in_channels, out_channels, stride, downsample))\n",
    "        self.in_channels = out_channels\n",
    "        for i in range(1, blocks):\n",
    "            layers.append(block(out_channels, out_channels))\n",
    "        return nn.Sequential(*layers)\n",
    "\n",
    "    def forward(self, x):\n",
    "        out = self.conv(x)\n",
    "        out = self.bn(out)\n",
    "        out = self.relu(out)\n",
    "        out = self.layer1(out)\n",
    "        out = self.layer2(out)\n",
    "        out = self.layer3(out)\n",
    "        out = self.avg_pool(out)\n",
    "        out = out.view(out.size(0), -1)\n",
    "        out = self.fc(out)\n",
    "        return out\n",
    "    "
   ]
  },
  {
   "attachments": {},
   "cell_type": "markdown",
   "metadata": {},
   "source": [
    "# Create the data"
   ]
  },
  {
   "attachments": {},
   "cell_type": "markdown",
   "metadata": {},
   "source": [
    "Load all the data"
   ]
  },
  {
   "cell_type": "code",
   "execution_count": null,
   "metadata": {},
   "outputs": [
    {
     "name": "stdout",
     "output_type": "stream",
     "text": [
      "Files already downloaded and verified\n",
      "Files already downloaded and verified\n"
     ]
    }
   ],
   "source": [
    "# transform_train = transforms.Compose([\n",
    "#     transforms.RandomCrop(32, padding=4),\n",
    "#     transforms.RandomHorizontalFlip(),\n",
    "#     transforms.ToTensor(),\n",
    "#     transforms.Normalize((0.4914, 0.4822, 0.4465), (0.2023, 0.1994, 0.2010)),\n",
    "# ])\n",
    "\n",
    "# transform_test = transforms.Compose([\n",
    "#     transforms.ToTensor(),\n",
    "#     transforms.Normalize((0.4914, 0.4822, 0.4465), (0.2023, 0.1994, 0.2010)),\n",
    "# ])\n",
    "transform = transforms.Compose([transforms.ToTensor()])\n",
    "all_data = torchvision.datasets.CIFAR10(\n",
    "    root='.', train=True, download=True, transform=transform\n",
    ")\n",
    "test_data = torchvision.datasets.CIFAR10(\n",
    "    root='.', train=False, download=True, transform=transform\n",
    ")\n",
    "all_features = np.concatenate([all_data.data, test_data.data], axis=0)\n",
    "all_targets = np.concatenate([all_data.targets, test_data.targets], axis=0)\n",
    "\n",
    "all_data.data = all_features\n",
    "all_data.targets = all_targets"
   ]
  },
  {
   "cell_type": "code",
   "execution_count": null,
   "metadata": {},
   "outputs": [],
   "source": [
    "def get_dataset_subset(dataset: torchvision.datasets, index: List(int)):\n",
    "    \"\"\"Get a subset of the dataset.\n",
    "\n",
    "    Args:\n",
    "        dataset (torchvision.datasets): Whole dataset.\n",
    "        index (list): List of index.\n",
    "    \"\"\"\n",
    "    assert max(index) < len(dataset) and min(index) >= 0, \"Index out of range\"\n",
    "    data = (\n",
    "        torch.from_numpy(dataset.data[index]).float().permute(0, 3, 1, 2) / 255\n",
    "    )  # channel first\n",
    "    targets = list(np.array(dataset.targets)[index])\n",
    "    targets = torch.tensor(targets, dtype=torch.long)\n",
    "    return data, targets"
   ]
  },
  {
   "attachments": {},
   "cell_type": "markdown",
   "metadata": {},
   "source": [
    "Split the data into train, test and population"
   ]
  },
  {
   "cell_type": "code",
   "execution_count": null,
   "metadata": {},
   "outputs": [],
   "source": [
    "chosen_index = []\n",
    "train_data, train_targets, test_data, test_targets, audit_data, audit_targets, train_index, test_index = [], [], [], [], [], [], [], []\n",
    "\n",
    "all_index = np.arange(len(all_data))\n",
    "for i in range(clients):\n",
    "  train_i = np.random.choice([i for i in all_index if i not in chosen_index], num_train_points, replace=False)\n",
    "  test_i = np.random.choice([i for i in all_index if i not in train_i and i not in chosen_index], num_test_points, replace=False)\n",
    "  population_index = np.random.choice([i for i in all_index if i not in train_i and i not in test_i and i not in chosen_index], num_population_points, replace=False)\n",
    "  chosen_index = np.concatenate((chosen_index,train_i,test_i,population_index))\n",
    "\n",
    "  train_d, train_t = get_dataset_subset(all_data, train_i)\n",
    "  test_d, test_t = get_dataset_subset(all_data, test_i)\n",
    "  audit_d, audit_t = get_dataset_subset(all_data, population_index)\n",
    "  train_data.insert(i, train_d)\n",
    "  train_targets.insert(i, train_t)\n",
    "  test_data.insert(i, test_d)\n",
    "  test_targets.insert(i, test_t)\n",
    "  audit_data.insert(i, audit_d)\n",
    "  audit_targets.insert(i, audit_t)\n",
    "  train_index.insert(i, train_i)\n",
    "  test_index.insert(i, test_i)"
   ]
  },
  {
   "attachments": {},
   "cell_type": "markdown",
   "metadata": {},
   "source": [
    "Create the data loader for training the target model"
   ]
  },
  {
   "cell_type": "code",
   "execution_count": null,
   "metadata": {},
   "outputs": [],
   "source": [
    "train_loader, test_loader = [], []\n",
    "for i in range(clients):\n",
    "  train_l = torch.utils.data.DataLoader(\n",
    "              torch.utils.data.Subset(all_data,train_index[i]),\n",
    "              batch_size=batch_size,\n",
    "              shuffle=True,\n",
    "              num_workers=4,\n",
    "              pin_memory=True,\n",
    "              persistent_workers=True,\n",
    "              prefetch_factor=16)\n",
    "  test_l = torch.utils.data.DataLoader(\n",
    "              torch.utils.data.Subset(all_data,test_index[i]),\n",
    "              batch_size=batch_size,\n",
    "              shuffle=True,\n",
    "              num_workers=4,\n",
    "              pin_memory=True,\n",
    "              persistent_workers=True,\n",
    "              prefetch_factor=16)\n",
    "  train_loader.insert(i, train_l)\n",
    "  test_loader.insert(i, test_l)"
   ]
  },
  {
   "attachments": {},
   "cell_type": "markdown",
   "metadata": {},
   "source": [
    "# Train the target model"
   ]
  },
  {
   "cell_type": "code",
   "execution_count": null,
   "metadata": {},
   "outputs": [],
   "source": [
    "def sec_func(model, criterion, device, train_data, train_targets, test_data, test_targets, audit_data, audit_targets):\n",
    "    target_model = PytorchModelTensor(model_obj=model, loss_fn=criterion, device=device,batch_size=10)\n",
    "\n",
    "    target_dataset = Dataset(\n",
    "    data_dict={\n",
    "        \"train\": {\"x\": train_data, \"y\": train_targets},\n",
    "        \"test\": {\"x\": test_data, \"y\": test_targets},\n",
    "    },\n",
    "    default_input=\"x\",\n",
    "    default_output=\"y\",\n",
    "    )\n",
    "\n",
    "    audit_dataset = Dataset(\n",
    "        data_dict={\"train\": {\"x\": audit_data, \"y\": audit_targets}},\n",
    "        default_input=\"x\",\n",
    "        default_output=\"y\",\n",
    "    )\n",
    "\n",
    "    target_info_source = InformationSource(\n",
    "        models=[target_model], \n",
    "        datasets=[target_dataset]\n",
    "    )\n",
    "\n",
    "    reference_info_source = InformationSource(\n",
    "        models=[target_model],\n",
    "        datasets=[audit_dataset]\n",
    "    )\n",
    "\n",
    "    metric = PopulationMetric(\n",
    "                target_info_source=target_info_source,\n",
    "                reference_info_source=reference_info_source,\n",
    "                signals=[ModelLoss()],\n",
    "                hypothesis_test_func=linear_itp_threshold_func,\n",
    "            )\n",
    "    audit_obj = Audit(\n",
    "        metrics=metric,\n",
    "        inference_game_type=InferenceGame.PRIVACY_LOSS_MODEL,\n",
    "        target_info_sources=target_info_source,\n",
    "        reference_info_sources=reference_info_source,\n",
    "        save_logs= False\n",
    "    )\n",
    "    audit_obj.prepare()\n",
    "    return audit_obj.run()[0]\n",
    "\n",
    "def test(model, device, test_loader):\n",
    "    model.to(device)    \n",
    "    # Validate the performance of the model \n",
    "    model.eval()\n",
    "    # Assigning variables for computing loss and accuracy\n",
    "    loss, acc, criterion = 0, 0, nn.CrossEntropyLoss()\n",
    "\n",
    "    # Disable gradient calculation to save memory\n",
    "    with torch.no_grad():\n",
    "        for data, target in test_loader:\n",
    "            # Moving data and target to the device\n",
    "            data, target = data.to(device), target.to(device)\n",
    "            # Cast target to long tensor\n",
    "            target = target\n",
    "\n",
    "            # Computing output and loss\n",
    "            output = model(data)\n",
    "            loss += criterion(output, target).item()\n",
    "\n",
    "            # Computing accuracy\n",
    "            pred = output.data.max(1, keepdim=True)[1]\n",
    "            acc += pred.eq(target.data.view_as(pred)).sum()\n",
    "\n",
    "        # Averaging the losses\n",
    "        loss /= len(test_loader)\n",
    "\n",
    "        # Calculating accuracy\n",
    "        acc = float(acc) / len(test_loader.dataset)\n",
    "\n",
    "    # Move the model back to the CPU to save memory\n",
    "    model.to(\"cpu\")\n",
    "    return loss, 100. * acc"
   ]
  },
  {
   "cell_type": "code",
   "execution_count": null,
   "metadata": {},
   "outputs": [],
   "source": [
    "def gaussian_noise(data_shape, s, sigma, device=None):\n",
    "    \"\"\"\n",
    "    Gaussian noise\n",
    "    \"\"\"\n",
    "    return torch.normal(0, sigma * s, data_shape).to(device)\n",
    "\n",
    "def dp_train(model, device, idx, lr, epochs, train_loader, test_loader, train_data, train_targets, test_data, test_targets, audit_data, audit_targets, sec_record, q, BATCH_SIZE, clip, sigma, data_size):\n",
    "    \"\"\"local model update\"\"\"\n",
    "    model.to(device)\n",
    "    model.train()\n",
    "    criterion = nn.CrossEntropyLoss(reduction='none')\n",
    "    optimizer = torch.optim.SGD(model.parameters(), lr=lr, momentum=0.9)\n",
    "    start_time = time.time()\n",
    "    # optimizer = torch.optim.Adam(self.model.parameters())\n",
    "    \n",
    "    for epoch_idx in range(epochs):\n",
    "        # randomly select q fraction samples from data\n",
    "        # according to the privacy analysis of moments accountant\n",
    "        # training \"Lots\" are sampled by poisson sampling\n",
    "        \n",
    "        idx = np.where(np.random.rand(len(train_data)) < q)[0]\n",
    "\n",
    "        sampled_dataset = TensorDataset(train_data[idx], train_targets[idx])\n",
    "        sample_data_loader = torch.utils.data.DataLoader(\n",
    "              dataset=sampled_dataset,\n",
    "              batch_size=batch_size,\n",
    "              shuffle=True,\n",
    "              num_workers=4,\n",
    "              pin_memory=True,\n",
    "              persistent_workers=True,\n",
    "              prefetch_factor=16)\n",
    "        \n",
    "        optimizer.zero_grad()\n",
    "\n",
    "        clipped_grads = {name: torch.zeros_like(param) for name, param in model.named_parameters()}\n",
    "        for batch_x, batch_y in sample_data_loader:\n",
    "            batch_x, batch_y = batch_x.to(device), batch_y.to(device)\n",
    "            pred_y = model(batch_x.float())\n",
    "            loss = criterion(pred_y, batch_y.long())\n",
    "            \n",
    "            # bound l2 sensitivity (gradient clipping)\n",
    "            # clip each of the gradient in the \"Lot\"\n",
    "            for i in range(loss.size()[0]):\n",
    "                loss[i].backward(retain_graph=True)\n",
    "                torch.nn.utils.clip_grad_norm_(model.parameters(), max_norm=clip)\n",
    "                for name, param in model.named_parameters():\n",
    "                    clipped_grads[name] += param.grad \n",
    "                model.zero_grad()\n",
    "            # Add the loss to the total loss\n",
    "            train_loss += loss.item()\n",
    "                \n",
    "        # add Gaussian noise\n",
    "        for name, param in model.named_parameters():\n",
    "            clipped_grads[name] += gaussian_noise(clipped_grads[name].shape, clip, sigma, device=device)\n",
    "            \n",
    "        # scale back\n",
    "        for name, param in model.named_parameters():\n",
    "            clipped_grads[name] /= (data_size * q)\n",
    "        \n",
    "        for name, param in model.named_parameters():\n",
    "            param.grad = clipped_grads[name]\n",
    "        \n",
    "        # update local model\n",
    "        optimizer.step()\n",
    "\n",
    "        loss_audit_results = sec_func(copy.deepcopy(model), criterion, device, train_data, train_targets, test_data, test_targets, audit_data, audit_targets)\n",
    "        # Print the epoch and loss summary\n",
    "        print(f\"ID: {idx} | Epoch: {epoch_idx+1}/{epochs} |\", end=\" \")\n",
    "        print(f\"Loss: {train_loss/len(train_loader):.4f} |\", end=\" \")\n",
    "        print(f\"Attack_acc: {100. * loss_audit_results[0].roc_auc:.2f}%\")\n",
    "    if idx == 0:\n",
    "        loss_audit_results = sec_func(model, criterion, device, train_data, train_targets, test_data, test_targets, audit_data, audit_targets)\n",
    "        sec_record.append(loss_audit_results[0].roc_auc)\n",
    "    test_loss, test_acc = test(copy.deepcopy(model), device, test_loader)\n",
    "    print(f\"Test loss: {test_loss:.4f} | Test Acc: {test_acc:.2f}%\")\n",
    "    print(\"training the target model uses: \", time.time() - start_time)\n",
    "    return model.state_dict()"
   ]
  },
  {
   "cell_type": "code",
   "execution_count": null,
   "metadata": {},
   "outputs": [],
   "source": [
    "glob_model = ResNet(ResidualBlock, [2, 2, 2])\n",
    "\n",
    "def nor_train(model, device, idx, lr, epochs, train_loader, test_loader, train_data, train_targets, test_data, test_targets, audit_data, audit_targets, sec_record):\n",
    "    model.to(device)\n",
    "    model.train()\n",
    "\n",
    "    # Set the loss function and optimizer\n",
    "    criterion = nn.CrossEntropyLoss()\n",
    "    optimizer = torch.optim.SGD(model.parameters(), lr=lr, momentum=0.9)\n",
    "    start_time = time.time()\n",
    "    # Loop over each epoch\n",
    "    for epoch_idx in range(epochs):\n",
    "        train_loss = 0\n",
    "        # Loop over the training set\n",
    "        for data, target in train_loader:\n",
    "            # Move data to the device\n",
    "            data, target = data.to(device, non_blocking=True), target.to(device,non_blocking=True)\n",
    "            # Cast target to long tensor\n",
    "            target = target\n",
    "\n",
    "            # Set the gradients to zero\n",
    "            optimizer.zero_grad(set_to_none=True)\n",
    "\n",
    "            # Get the model output\n",
    "            output = model(data)\n",
    "\n",
    "            # Calculate the loss\n",
    "            loss = criterion(output, target)\n",
    "\n",
    "            # Perform the backward pass\n",
    "            loss.backward()\n",
    "            # Take a step using optimizer\n",
    "            optimizer.step()\n",
    "\n",
    "            # Add the loss to the total loss\n",
    "            train_loss += loss.item()\n",
    "        loss_audit_results = sec_func(copy.deepcopy(model), criterion, device, train_data, train_targets, test_data, test_targets, audit_data, audit_targets)\n",
    "        # Print the epoch and loss summary\n",
    "        print(f\"ID: {idx} | Epoch: {epoch_idx+1}/{epochs} |\", end=\" \")\n",
    "        print(f\"Loss: {train_loss/len(train_loader):.4f} |\", end=\" \")\n",
    "        print(f\"Attack_acc: {100. * loss_audit_results[0].roc_auc:.2f}%\")\n",
    "    if idx == 0:\n",
    "        loss_audit_results = sec_func(model, criterion, device, train_data, train_targets, test_data, test_targets, audit_data, audit_targets)\n",
    "        sec_record.append(loss_audit_results[0].roc_auc)\n",
    "    test_loss, test_acc = test(copy.deepcopy(model), device, test_loader)\n",
    "    print(f\"Test loss: {test_loss:.4f} | Test Acc: {test_acc:.2f}%\")\n",
    "    print(\"training the target model uses: \", time.time() - start_time)\n",
    "    return model.state_dict()\n",
    "\n",
    "def aggregate(w_locals, clients, device):\n",
    "    \"\"\"FedAvg\"\"\"\n",
    "    new_w = copy.deepcopy(w_locals[0])\n",
    "    for name in new_w:\n",
    "        new_w[name] = torch.zeros(new_w[name].shape).to(device)\n",
    "    for idx in range(clients):\n",
    "        for name in new_w:\n",
    "            new_w[name] += w_locals[idx][name].to(device) * (1 / clients)\n",
    "    return copy.deepcopy(new_w)"
   ]
  },
  {
   "cell_type": "code",
   "execution_count": null,
   "metadata": {},
   "outputs": [
    {
     "name": "stdout",
     "output_type": "stream",
     "text": [
      "Global Epoch:  0\n",
      "loss.size:  2.180022716522217\n"
     ]
    },
    {
     "ename": "IndexError",
     "evalue": "tuple index out of range",
     "output_type": "error",
     "traceback": [
      "\u001b[0;31m---------------------------------------------------------------------------\u001b[0m",
      "\u001b[0;31mIndexError\u001b[0m                                Traceback (most recent call last)",
      "Cell \u001b[0;32mIn[13], line 10\u001b[0m\n\u001b[1;32m      7\u001b[0m     w \u001b[39m=\u001b[39m nor_train(copy\u001b[39m.\u001b[39mdeepcopy(glob_model), device, i, learning_rate, local_epochs, train_loader[i], test_loader[i], train_data[i], train_targets[i], test_data[i],\n\u001b[1;32m      8\u001b[0m                   test_targets[i], audit_data[i], audit_targets[i], sec_record)\n\u001b[1;32m      9\u001b[0m   \u001b[39melif\u001b[39;00m mechanism \u001b[39m==\u001b[39m \u001b[39m'\u001b[39m\u001b[39mDP\u001b[39m\u001b[39m'\u001b[39m:\n\u001b[0;32m---> 10\u001b[0m      w \u001b[39m=\u001b[39m dp_train(copy\u001b[39m.\u001b[39;49mdeepcopy(glob_model), device, i, learning_rate, local_epochs, train_loader[i], test_loader[i], train_data[i], train_targets[i], test_data[i],\n\u001b[1;32m     11\u001b[0m                   test_targets[i], audit_data[i], audit_targets[i], sec_record, q, batch_size, clip, sigma, \u001b[39mlen\u001b[39;49m(train_loader[i]))\n\u001b[1;32m     12\u001b[0m   w_locals\u001b[39m.\u001b[39minsert(i, copy\u001b[39m.\u001b[39mdeepcopy(w))\n\u001b[1;32m     14\u001b[0m new_glob_w \u001b[39m=\u001b[39m aggregate(w_locals, clients, device)\n",
      "Cell \u001b[0;32mIn[11], line 44\u001b[0m, in \u001b[0;36mdp_train\u001b[0;34m(model, device, idx, lr, epochs, train_loader, test_loader, train_data, train_targets, test_data, test_targets, audit_data, audit_targets, sec_record, q, BATCH_SIZE, clip, sigma, data_size)\u001b[0m\n\u001b[1;32m     41\u001b[0m \u001b[39m# bound l2 sensitivity (gradient clipping)\u001b[39;00m\n\u001b[1;32m     42\u001b[0m \u001b[39m# clip each of the gradient in the \"Lot\"\u001b[39;00m\n\u001b[1;32m     43\u001b[0m \u001b[39mprint\u001b[39m(\u001b[39m\"\u001b[39m\u001b[39mloss.size: \u001b[39m\u001b[39m\"\u001b[39m, loss\u001b[39m.\u001b[39mitem())\n\u001b[0;32m---> 44\u001b[0m \u001b[39mfor\u001b[39;00m i \u001b[39min\u001b[39;00m \u001b[39mrange\u001b[39m(loss\u001b[39m.\u001b[39;49msize()[\u001b[39m0\u001b[39;49m]):\n\u001b[1;32m     45\u001b[0m     loss[i]\u001b[39m.\u001b[39mbackward(retain_graph\u001b[39m=\u001b[39m\u001b[39mTrue\u001b[39;00m)\n\u001b[1;32m     46\u001b[0m     torch\u001b[39m.\u001b[39mnn\u001b[39m.\u001b[39mutils\u001b[39m.\u001b[39mclip_grad_norm_(model\u001b[39m.\u001b[39mparameters(), max_norm\u001b[39m=\u001b[39mclip)\n",
      "\u001b[0;31mIndexError\u001b[0m: tuple index out of range"
     ]
    }
   ],
   "source": [
    "sec_record = []\n",
    "for j in range(glob_epochs):\n",
    "    print(\"Global Epoch: \", j)\n",
    "    w_locals = []\n",
    "    for i in range(clients):\n",
    "      if mechanism == 'None':\n",
    "        w = nor_train(copy.deepcopy(glob_model), device, i, learning_rate, local_epochs, train_loader[i], test_loader[i], train_data[i], train_targets[i], test_data[i],\n",
    "                      test_targets[i], audit_data[i], audit_targets[i], sec_record)\n",
    "      elif mechanism == 'DP':\n",
    "         w = dp_train(copy.deepcopy(glob_model), device, i, learning_rate, local_epochs, train_loader[i], test_loader[i], train_data[i], train_targets[i], test_data[i],\n",
    "                      test_targets[i], audit_data[i], audit_targets[i], sec_record, q, batch_size, clip, sigma, len(train_loader[i]))\n",
    "      w_locals.insert(i, copy.deepcopy(w))\n",
    "\n",
    "    new_glob_w = aggregate(w_locals, clients, device)\n",
    "    glob_model.load_state_dict(copy.deepcopy(new_glob_w))\n",
    "    randon_id = np.random.choice(range(clients), 1, replace=False)[0]\n",
    "    glob_loss, glob_acc = test(copy.deepcopy(glob_model), device, test_loader[randon_id])\n",
    "    print(f\"Global epoch {j}: Test loss: {glob_loss:.4f} | Test Acc: {glob_acc:.2f}%\")\n",
    "\n",
    "plt.figure()\n",
    "plt.ylabel('Attack Accuracy')\n",
    "plt.xlabel('Global Epoch')\n",
    "plt.plot(range(len(sec_record)), sec_record, label='{}'.format(\"No-DP\"))\n",
    "plt.title('{} Attack Accuracy'.format('Cifar'))\n",
    "plt.legend()\n",
    "plt.savefig('test.png')"
   ]
  },
  {
   "attachments": {},
   "cell_type": "markdown",
   "metadata": {},
   "source": [
    "# Wrap the target model and datasets\n",
    "The `batch_size` parameter determines the number of samples used in each iteration when computing the signals. Larger batch sizes can increase computation speed, but they also consume more memory. If you're computing the loss, you can use a larger batch size, but if you're using the GPU to compute gradient information such as gradient norm, using a batch size that is too large may result in an Out Of Memory (OOM) error. This is largely dependent on the size of your model and the memory capacity of your GPU. As a general guideline, we recommend using a batch size of 10 when computing gradient information"
   ]
  },
  {
   "cell_type": "code",
   "execution_count": null,
   "metadata": {},
   "outputs": [
    {
     "ename": "NameError",
     "evalue": "name 'model' is not defined",
     "output_type": "error",
     "traceback": [
      "\u001b[0;31m---------------------------------------------------------------------------\u001b[0m",
      "\u001b[0;31mNameError\u001b[0m                                 Traceback (most recent call last)",
      "Cell \u001b[0;32mIn[14], line 1\u001b[0m\n\u001b[0;32m----> 1\u001b[0m target_model \u001b[39m=\u001b[39m PytorchModelTensor(model_obj\u001b[39m=\u001b[39mmodel, loss_fn\u001b[39m=\u001b[39mcriterion, device\u001b[39m=\u001b[39mdevice,batch_size\u001b[39m=\u001b[39m\u001b[39m10\u001b[39m)\n",
      "\u001b[0;31mNameError\u001b[0m: name 'model' is not defined"
     ]
    }
   ],
   "source": [
    "\n",
    "target_model = PytorchModelTensor(model_obj=model, loss_fn=criterion, device=device,batch_size=10)"
   ]
  },
  {
   "attachments": {},
   "cell_type": "markdown",
   "metadata": {},
   "source": [
    "Get the dataset in the tensor formate"
   ]
  },
  {
   "cell_type": "code",
   "execution_count": null,
   "metadata": {},
   "outputs": [],
   "source": [
    "\n",
    "def get_dataset_subset(dataset: torchvision.datasets, index: List(int)):\n",
    "    \"\"\"Get a subset of the dataset.\n",
    "\n",
    "    Args:\n",
    "        dataset (torchvision.datasets): Whole dataset.\n",
    "        index (list): List of index.\n",
    "    \"\"\"\n",
    "    assert max(index) < len(dataset) and min(index) >= 0, \"Index out of range\"\n",
    "    print(torch.from_numpy(dataset.data[index]).shape)\n",
    "    print(torch.from_numpy(dataset.data[index]).float().permute(0, 3, 1, 2).shape)\n",
    "    data = (\n",
    "        torch.from_numpy(dataset.data[index]).float().permute(0, 3, 1, 2) / 255\n",
    "    )  # channel first\n",
    "    targets = list(np.array(dataset.targets)[index])\n",
    "    targets = torch.tensor(targets, dtype=torch.long)\n",
    "    return data, targets"
   ]
  },
  {
   "cell_type": "code",
   "execution_count": null,
   "metadata": {},
   "outputs": [
    {
     "name": "stdout",
     "output_type": "stream",
     "text": [
      "torch.Size([600, 32, 32, 3])\n",
      "torch.Size([600, 3, 32, 32])\n",
      "torch.Size([600, 32, 32, 3])\n",
      "torch.Size([600, 3, 32, 32])\n",
      "torch.Size([1200, 32, 32, 3])\n",
      "torch.Size([1200, 3, 32, 32])\n"
     ]
    }
   ],
   "source": [
    "train_data, train_targets = get_dataset_subset(all_data, train_index)\n",
    "test_data, test_targets = get_dataset_subset(all_data, test_index)\n",
    "audit_data, audit_targets = get_dataset_subset(all_data, population_index)\n",
    "target_dataset = Dataset(\n",
    "    data_dict={\n",
    "        \"train\": {\"x\": train_data, \"y\": train_targets},\n",
    "        \"test\": {\"x\": test_data, \"y\": test_targets},\n",
    "    },\n",
    "    default_input=\"x\",\n",
    "    default_output=\"y\",\n",
    ")\n",
    "\n",
    "audit_dataset = Dataset(\n",
    "        data_dict={\"train\": {\"x\": audit_data, \"y\": audit_targets}},\n",
    "        default_input=\"x\",\n",
    "        default_output=\"y\",\n",
    ")\n",
    " \n"
   ]
  },
  {
   "attachments": {},
   "cell_type": "markdown",
   "metadata": {},
   "source": [
    "# Create Information Sources"
   ]
  },
  {
   "cell_type": "code",
   "execution_count": null,
   "metadata": {},
   "outputs": [],
   "source": [
    "target_info_source = InformationSource(\n",
    "    models=[target_model], \n",
    "    datasets=[target_dataset]\n",
    ")\n",
    "\n",
    "reference_info_source = InformationSource(\n",
    "    models=[target_model],\n",
    "    datasets=[audit_dataset]\n",
    ")"
   ]
  },
  {
   "attachments": {},
   "cell_type": "markdown",
   "metadata": {},
   "source": [
    "# Metric and Audit \n",
    "We assess the privacy risk of our trained model using a population attack that is based on both the loss of the target model and the gradient norm of the target model. The results based on the loss indicate the privacy risk of the model in a black-box setting, where the adversary does not have access to the entire model. Conversely, computing the gradient norm per sample requires the adversary to have access to the entire model parameters, which corresponds to a white-box setting."
   ]
  },
  {
   "cell_type": "code",
   "execution_count": null,
   "metadata": {},
   "outputs": [],
   "source": [
    "metric = PopulationMetric(\n",
    "            target_info_source=target_info_source,\n",
    "            reference_info_source=reference_info_source,\n",
    "            signals=[ModelLoss()],\n",
    "            hypothesis_test_func=linear_itp_threshold_func,\n",
    "        )\n",
    "audit_obj = Audit(\n",
    "    metrics=metric,\n",
    "    inference_game_type=InferenceGame.PRIVACY_LOSS_MODEL,\n",
    "    target_info_sources=target_info_source,\n",
    "    reference_info_sources=reference_info_source,\n",
    ")\n",
    "audit_obj.prepare()\n",
    "loss_audit_results = audit_obj.run()[0]"
   ]
  },
  {
   "cell_type": "code",
   "execution_count": null,
   "metadata": {},
   "outputs": [
    {
     "name": "stderr",
     "output_type": "stream",
     "text": [
      "/usr/local/lib/python3.9/site-packages/torch/nn/modules/module.py:1053: UserWarning: Using a non-full backward hook when the forward contains multiple autograd Nodes is deprecated and will be removed in future versions. This hook will be missing some grad_input. Please use register_full_backward_hook to get the documented behavior.\n",
      "  warnings.warn(\"Using a non-full backward hook when the forward contains multiple autograd Nodes \"\n"
     ]
    }
   ],
   "source": [
    "metric = PopulationMetric(\n",
    "            target_info_source=target_info_source,\n",
    "            reference_info_source=reference_info_source,\n",
    "            signals=[ModelGradientNorm()],\n",
    "            hypothesis_test_func=linear_itp_threshold_func,\n",
    "        )\n",
    "audit_obj = Audit(\n",
    "    metrics=metric,\n",
    "    inference_game_type=InferenceGame.PRIVACY_LOSS_MODEL,\n",
    "    target_info_sources=target_info_source,\n",
    "    reference_info_sources=reference_info_source,\n",
    ")\n",
    "audit_obj.prepare()\n",
    "gradient_norm_audit_results = audit_obj.run()[0]"
   ]
  },
  {
   "attachments": {},
   "cell_type": "markdown",
   "metadata": {},
   "source": [
    "# Compare the results"
   ]
  },
  {
   "cell_type": "code",
   "execution_count": null,
   "metadata": {},
   "outputs": [],
   "source": [
    "# This instruction won't be needed once the tool is on pip\n",
    "from privacy_meter import audit_report\n",
    "audit_report.REPORT_FILES_DIR = '../privacy_meter/report_files'"
   ]
  },
  {
   "cell_type": "code",
   "execution_count": null,
   "metadata": {},
   "outputs": [
    {
     "data": {
      "image/png": "[encoded data removed]",
      "text/plain": [
       "<Figure size 432x288 with 1 Axes>"
      ]
     },
     "metadata": {
      "needs_background": "light"
     },
     "output_type": "display_data"
    },
    {
     "name": "stdout",
     "output_type": "stream",
     "text": [
      "0.8357833333333333\n"
     ]
    },
    {
     "data": {
      "text/plain": [
       "<Figure size 432x288 with 0 Axes>"
      ]
     },
     "metadata": {},
     "output_type": "display_data"
    }
   ],
   "source": [
    "ROCCurveReport.generate_report(\n",
    "    metric_result=loss_audit_results[0],\n",
    "    inference_game_type=InferenceGame.PRIVACY_LOSS_MODEL,\n",
    "    show=True\n",
    ")\n",
    "print(loss_audit_results[0].roc_auc)"
   ]
  },
  {
   "cell_type": "code",
   "execution_count": null,
   "metadata": {},
   "outputs": [
    {
     "data": {
      "image/png": "[encoded data removed]",
      "text/plain": [
       "<Figure size 432x288 with 1 Axes>"
      ]
     },
     "metadata": {
      "needs_background": "light"
     },
     "output_type": "display_data"
    },
    {
     "data": {
      "text/plain": [
       "<Figure size 432x288 with 0 Axes>"
      ]
     },
     "metadata": {},
     "output_type": "display_data"
    }
   ],
   "source": [
    "ROCCurveReport.generate_report(\n",
    "    metric_result=gradient_norm_audit_results[0],\n",
    "    inference_game_type=InferenceGame.PRIVACY_LOSS_MODEL,\n",
    "    show=True\n",
    ")"
   ]
  }
 ],
 "metadata": {
  "kernelspec": {
   "display_name": "privacy_meter_test",
   "language": "python",
   "name": "python3"
  },
  "language_info": {
   "codemirror_mode": {
    "name": "ipython",
    "version": 3
   },
   "file_extension": ".py",
   "mimetype": "text/x-python",
   "name": "python",
   "nbconvert_exporter": "python",
   "pygments_lexer": "ipython3",
   "version": "3.9.16"
  },
  "orig_nbformat": 4,
  "vscode": {
   "interpreter": {
    "hash": "af48e0a30d2a0b619bf296aea7d7271ba14c9beb98b0928b3e23c82f12ae949a"
   }
  }
 },
 "nbformat": 4,
 "nbformat_minor": 2
}
