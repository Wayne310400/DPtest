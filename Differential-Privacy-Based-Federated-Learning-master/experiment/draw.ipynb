{
 "cells": [
  {
   "cell_type": "code",
   "execution_count": null,
   "metadata": {},
   "outputs": [],
   "source": [
    "import matplotlib.pyplot as plt"
   ]
  },
  {
   "cell_type": "code",
   "execution_count": null,
   "metadata": {},
   "outputs": [],
   "source": [
    "def openfile(filepath):\n",
    "    file = open(filepath)\n",
    "    y = []\n",
    "    while 1:\n",
    "        line = file.readline()\n",
    "        if line.rstrip('\\n') == '':\n",
    "            break\n",
    "        y.append(float(line.rstrip('\\n')))\n",
    "        if not line:\n",
    "            break\n",
    "        pass\n",
    "    file.close()\n",
    "    return y"
   ]
  },
  {
   "cell_type": "code",
   "execution_count": null,
   "metadata": {},
   "outputs": [],
   "source": [
    "plt.figure()\n",
    "plt.ylabel('Accuracy')\n",
    "plt.xlabel('Global Epoch')\n",
    "none_acc = openfile('')\n",
    "dp_acc = openfile('')\n",
    "proposed_acc = openfile('')\n",
    "plt.plot(range(len(none_acc)), none_acc, label='FL')\n",
    "plt.plot(range(len(dp_acc)), dp_acc, label='DP-FL')\n",
    "plt.plot(range(len(proposed_acc)), proposed_acc, label='Proposed Scheme')\n",
    "plt.legend()\n",
    "plt.savefig('acc_compare.png')"
   ]
  },
  {
   "cell_type": "code",
   "execution_count": null,
   "metadata": {},
   "outputs": [],
   "source": [
    "plt.figure()\n",
    "plt.ylabel('Loss')\n",
    "plt.xlabel('Global Epoch')\n",
    "none_loss = openfile('')\n",
    "dp_loss = openfile('')\n",
    "proposed_loss = openfile('')\n",
    "plt.plot(range(len(none_loss)), none_loss, label='FL')\n",
    "plt.plot(range(len(dp_loss)), dp_loss, label='DP-FL')\n",
    "plt.plot(range(len(proposed_loss)), proposed_loss, label='Proposed Scheme')\n",
    "plt.legend()\n",
    "plt.savefig('loss_compare.png')"
   ]
  },
  {
   "cell_type": "code",
   "execution_count": null,
   "metadata": {},
   "outputs": [],
   "source": [
    "plt.figure()\n",
    "plt.ylabel('Attack Accuracy')\n",
    "plt.xlabel('Global Epoch')\n",
    "none_sec = openfile('')\n",
    "dp_sec = openfile('')\n",
    "proposed_sec = openfile('')\n",
    "plt.plot(range(len(none_sec)), none_sec, label='FL')\n",
    "plt.plot(range(len(dp_sec)), dp_sec, label='DP-FL')\n",
    "plt.plot(range(len(proposed_sec)), proposed_sec, label='Proposed Scheme')\n",
    "plt.legend()\n",
    "plt.savefig('sec_compare.png')"
   ]
  }
 ],
 "metadata": {
  "language_info": {
   "name": "python"
  },
  "orig_nbformat": 4
 },
 "nbformat": 4,
 "nbformat_minor": 2
}
