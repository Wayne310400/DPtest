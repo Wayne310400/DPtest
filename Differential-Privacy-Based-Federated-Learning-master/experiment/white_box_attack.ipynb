{
 "cells": [
  {
   "attachments": {},
   "cell_type": "markdown",
   "metadata": {},
   "source": [
    "# Whitebox attack using privacy meter"
   ]
  },
  {
   "attachments": {},
   "cell_type": "markdown",
   "metadata": {},
   "source": [
    "# Import"
   ]
  },
  {
   "cell_type": "code",
   "execution_count": 1,
   "metadata": {},
   "outputs": [
    {
     "name": "stderr",
     "output_type": "stream",
     "text": [
      "/home/wayne/.local/lib/python3.9/site-packages/tqdm/auto.py:21: TqdmWarning: IProgress not found. Please update jupyter and ipywidgets. See https://ipywidgets.readthedocs.io/en/stable/user_install.html\n",
      "  from .autonotebook import tqdm as notebook_tqdm\n",
      "2023-06-27 18:40:54.711974: I tensorflow/core/platform/cpu_feature_guard.cc:193] This TensorFlow binary is optimized with oneAPI Deep Neural Network Library (oneDNN) to use the following CPU instructions in performance-critical operations:  AVX2 FMA\n",
      "To enable them in other operations, rebuild TensorFlow with the appropriate compiler flags.\n",
      "2023-06-27 18:40:55.208184: W tensorflow/compiler/xla/stream_executor/platform/default/dso_loader.cc:64] Could not load dynamic library 'libnvinfer.so.7'; dlerror: libnvinfer.so.7: cannot open shared object file: No such file or directory\n",
      "2023-06-27 18:40:55.208229: W tensorflow/compiler/xla/stream_executor/platform/default/dso_loader.cc:64] Could not load dynamic library 'libnvinfer_plugin.so.7'; dlerror: libnvinfer_plugin.so.7: cannot open shared object file: No such file or directory\n",
      "2023-06-27 18:40:55.208234: W tensorflow/compiler/tf2tensorrt/utils/py_utils.cc:38] TF-TRT Warning: Cannot dlopen some TensorRT libraries. If you would like to use Nvidia GPU with TensorRT, please make sure the missing libraries mentioned above are installed properly.\n"
     ]
    }
   ],
   "source": [
    "import numpy as np\n",
    "import matplotlib.pyplot as plt\n",
    "import torch\n",
    "import torchvision\n",
    "import copy\n",
    "import random\n",
    "import os\n",
    "import time\n",
    "import warnings\n",
    "warnings.filterwarnings('ignore')\n",
    "\n",
    "from torch import nn\n",
    "from tqdm import tqdm\n",
    "from ast import List\n",
    "from torchvision import transforms\n",
    "from model import CNNCifar, LeNet, ResNet18, DenseNet121, AlexNet, MobileNetV3, get_model_parameters\n",
    "from train import nor_train, dp_train, dp_trainv2, proposed_train, indust_train\n",
    "from util import sec_func, test\n",
    "from fed import ProtectWeight, FlatSplitParams, aggregate\n",
    "\n",
    "random.seed(123)\n",
    "np.random.seed(123)\n",
    "torch.manual_seed(123)\n",
    "torch.cuda.manual_seed_all(123)\n",
    "torch.cuda.manual_seed(123)"
   ]
  },
  {
   "attachments": {},
   "cell_type": "markdown",
   "metadata": {},
   "source": [
    "# Define hyper-parameters"
   ]
  },
  {
   "cell_type": "code",
   "execution_count": 2,
   "metadata": {},
   "outputs": [
    {
     "name": "stdout",
     "output_type": "stream",
     "text": [
      "sensitivity:  0.0006000000000000001\n",
      "sigma:  475.0993119513589\n",
      "sensitivity * sigma:  0.28505958717081537\n"
     ]
    }
   ],
   "source": [
    "# for training the target model\n",
    "num_train_points = 500\n",
    "num_test_points = 500\n",
    "num_population_points = 1000\n",
    "batch_size = 64\n",
    "learning_rate = 0.1\n",
    "local_epochs = 5\n",
    "clients = 100\n",
    "glob_epochs = 100\n",
    "drop_frac = 0.1\n",
    "rate_decay = False\n",
    "iid = False\n",
    "\n",
    "q = 0.9 # sampling rate\n",
    "eps = 1.0 # privacy budget\n",
    "delta = 10e-5 # probability of something bad happening\n",
    "clip = 3.0\n",
    "# laplace noise: [np.random.laplace(loc=0, scale=1/epsilon) for x in range(100000)]\n",
    "sensitivity = learning_rate * clip  / num_train_points\n",
    "sigma = np.sqrt(2 * np.log(1.25 / (delta/ (glob_epochs * (1 - drop_frac))))) * 1 / (eps/ (glob_epochs * (1 - drop_frac)))\n",
    "# gaussian noise: vals_gauss = [np.random.normal(loc=0, scale=sigma) for x in range(100000)]\n",
    "print(\"sensitivity: \", sensitivity)\n",
    "print(\"sigma: \", sigma)\n",
    "print(\"sensitivity * sigma: \", sensitivity * sigma)\n",
    "\n",
    "device = 'cuda:1' if torch.cuda.is_available() else 'cpu' # you can change it to 'cuda' if you have GPU\n",
    "rootpath = './log'\n",
    "mechanism = \"DP2\"\n",
    "model_name = 'densenet'"
   ]
  },
  {
   "attachments": {},
   "cell_type": "markdown",
   "metadata": {},
   "source": [
    "# Create the data"
   ]
  },
  {
   "attachments": {},
   "cell_type": "markdown",
   "metadata": {},
   "source": [
    "Load all the data"
   ]
  },
  {
   "cell_type": "code",
   "execution_count": 3,
   "metadata": {},
   "outputs": [
    {
     "name": "stdout",
     "output_type": "stream",
     "text": [
      "Files already downloaded and verified\n"
     ]
    }
   ],
   "source": [
    "# transform = transforms.Compose([\n",
    "#     transforms.RandomCrop(32, padding=4),\n",
    "#     transforms.RandomHorizontalFlip(),\n",
    "#     transforms.ToTensor(),\n",
    "#     transforms.Normalize((0.4914, 0.4822, 0.4465), (0.2023, 0.1994, 0.2010)),\n",
    "# ])\n",
    "\n",
    "transform = transforms.Compose([\n",
    "    transforms.RandomCrop(32, padding=4),\n",
    "    transforms.RandomHorizontalFlip(),\n",
    "    transforms.ToTensor()\n",
    "])\n",
    "\n",
    "# transform = transforms.Compose([\n",
    "# #     transforms.Resize((32,32)),  #resises the image so it can be perfect for our model.\n",
    "#     transforms.RandomHorizontalFlip(), # FLips the image w.r.t horizontal axis\n",
    "#     transforms.RandomRotation(10),     #Rotates the image to a specified angel\n",
    "#     transforms.RandomAffine(0, shear=10, scale=(0.8,1.2)), #Performs actions like zooms, change shear angles.\n",
    "#     transforms.ColorJitter(brightness=0.2, contrast=0.2, saturation=0.2), # Set the color params\n",
    "#     transforms.ToTensor(), # comvert the image to tensor so that it can work with torch\n",
    "# #     transforms.Normalize((0.5, 0.5, 0.5), (0.5, 0.5, 0.5)) #Normalize all the images\n",
    "# ])\n",
    "\n",
    "# transform = transforms.Compose([\n",
    "#     transforms.ToTensor(),\n",
    "#     transforms.Normalize((0.4914, 0.4822, 0.4465), (0.2023, 0.1994, 0.2010)),\n",
    "# ])\n",
    "# transform = transforms.Compose([transforms.ToTensor()])\n",
    "\n",
    "# all_data = torchvision.datasets.CIFAR10(\n",
    "#     root='.', train=True, download=True, transform=transform\n",
    "# )\n",
    "all_data = torchvision.datasets.CIFAR10(\n",
    "    root='.', train=True, download=True, transform=transform\n",
    ")\n",
    "# test_data = torchvision.datasets.CIFAR10(\n",
    "#     root='.', train=False, download=True, transform=transform\n",
    "# )\n",
    "# all_features = np.concatenate([all_data.data, test_data.data], axis=0)\n",
    "# all_targets = np.concatenate([all_data.targets, test_data.targets], axis=0)\n",
    "\n",
    "# all_data.data = all_features\n",
    "# all_data.targets = all_targets"
   ]
  },
  {
   "cell_type": "code",
   "execution_count": 4,
   "metadata": {},
   "outputs": [],
   "source": [
    "def get_dataset_subset(dataset: torchvision.datasets, index: List(int)):\n",
    "    \"\"\"Get a subset of the dataset.\n",
    "\n",
    "    Args:\n",
    "        dataset (torchvision.datasets): Whole dataset.\n",
    "        index (list): List of index.\n",
    "    \"\"\"\n",
    "    assert max(index) < len(dataset) and min(index) >= 0, \"Index out of range\"\n",
    "    data = (\n",
    "        torch.from_numpy(dataset.data[index]).float().permute(0, 3, 1, 2) / 255\n",
    "    )  # channel first\n",
    "    targets = list(np.array(dataset.targets)[index])\n",
    "    targets = torch.tensor(targets, dtype=torch.long)\n",
    "    return data, targets\n",
    "\n",
    "def cifar_noniid(dataset, num_users):\n",
    "    \"\"\"\n",
    "    Sample non-I.I.D client data from CIFAR10 dataset\n",
    "    :param dataset:\n",
    "    :param num_users:\n",
    "    :return:\n",
    "    \"\"\"\n",
    "    num_shards, num_imgs = 1000, 50\n",
    "    idx_shard = [i for i in range(num_shards)]\n",
    "    dict_users = {i: np.array([]) for i in range(num_users)}\n",
    "    idxs = np.arange(num_shards*num_imgs)\n",
    "    # labels = dataset.train_labels.numpy()\n",
    "    labels = np.array(dataset.targets)\n",
    "\n",
    "    # sort labels\n",
    "    idxs_labels = np.vstack((idxs, labels))\n",
    "    idxs_labels = idxs_labels[:, idxs_labels[1, :].argsort()]\n",
    "    idxs = idxs_labels[0, :]\n",
    "\n",
    "    # divide and assign\n",
    "    for i in range(num_users):\n",
    "        rand_set = set(np.random.choice(idx_shard, 10, replace=False))\n",
    "        idx_shard = list(set(idx_shard) - rand_set)\n",
    "        for rand in rand_set:\n",
    "            dict_users[i] = np.concatenate(\n",
    "                (dict_users[i], idxs[rand*num_imgs:(rand+1)*num_imgs]), axis=0)\n",
    "    return dict_users"
   ]
  },
  {
   "attachments": {},
   "cell_type": "markdown",
   "metadata": {},
   "source": [
    "Split the data into train, test and population"
   ]
  },
  {
   "cell_type": "code",
   "execution_count": 5,
   "metadata": {},
   "outputs": [],
   "source": [
    "chosen_index = []\n",
    "train_data, train_targets, test_data, test_targets, audit_data, audit_targets, train_index, test_index = [], [], [], [], [], [], [], []\n",
    "\n",
    "all_index = np.arange(len(all_data))\n",
    "if iid:\n",
    "  for i in range(clients):\n",
    "    train_i = np.random.choice([i for i in all_index if i not in chosen_index], num_train_points, replace=False)\n",
    "    test_i = np.random.choice([i for i in all_index if i not in train_i], num_test_points, replace=False)\n",
    "    population_index = np.random.choice([i for i in all_index if i not in train_i and i not in test_i], num_population_points, replace=False)\n",
    "    chosen_index = np.concatenate((chosen_index,train_i))\n",
    "\n",
    "    train_d, train_t = get_dataset_subset(all_data, train_i)\n",
    "    test_d, test_t = get_dataset_subset(all_data, test_i)\n",
    "    audit_d, audit_t = get_dataset_subset(all_data, population_index)\n",
    "    train_data.insert(i, train_d)\n",
    "    train_targets.insert(i, train_t)\n",
    "    test_data.insert(i, test_d)\n",
    "    test_targets.insert(i, test_t)\n",
    "    audit_data.insert(i, audit_d)\n",
    "    audit_targets.insert(i, audit_t)\n",
    "    train_index.insert(i, train_i)\n",
    "    test_index.insert(i, test_i)\n",
    "else:\n",
    "  train_is = cifar_noniid(all_data, clients)\n",
    "  for i in range(clients):\n",
    "    train_i = train_is[i].astype('int32')\n",
    "    test_i = np.random.choice([i for i in all_index if i not in train_i], num_test_points, replace=False)\n",
    "    population_index = np.random.choice([i for i in all_index if i not in train_i and i not in test_i], num_population_points, replace=False)\n",
    "\n",
    "    train_d, train_t = get_dataset_subset(all_data, train_i)\n",
    "    test_d, test_t = get_dataset_subset(all_data, test_i)\n",
    "    audit_d, audit_t = get_dataset_subset(all_data, population_index)\n",
    "    train_data.insert(i, train_d)\n",
    "    train_targets.insert(i, train_t)\n",
    "    test_data.insert(i, test_d)\n",
    "    test_targets.insert(i, test_t)\n",
    "    audit_data.insert(i, audit_d)\n",
    "    audit_targets.insert(i, audit_t)\n",
    "    train_index.insert(i, train_i)\n",
    "    test_index.insert(i, test_i)"
   ]
  },
  {
   "attachments": {},
   "cell_type": "markdown",
   "metadata": {},
   "source": [
    "Create the data loader for training the target model"
   ]
  },
  {
   "cell_type": "code",
   "execution_count": 6,
   "metadata": {},
   "outputs": [],
   "source": [
    "train_loader, test_loader = [], []\n",
    "for i in range(clients):\n",
    "  train_l = torch.utils.data.DataLoader(\n",
    "              torch.utils.data.Subset(all_data,train_index[i]),\n",
    "              batch_size=batch_size,\n",
    "              shuffle=True,\n",
    "              num_workers=4,\n",
    "              pin_memory=True,\n",
    "              persistent_workers=True,\n",
    "              prefetch_factor=16)\n",
    "  test_l = torch.utils.data.DataLoader(\n",
    "              torch.utils.data.Subset(all_data,test_index[i]),\n",
    "              batch_size=batch_size,\n",
    "              shuffle=True,\n",
    "              num_workers=4,\n",
    "              pin_memory=True,\n",
    "              persistent_workers=True,\n",
    "              prefetch_factor=16)\n",
    "  train_loader.insert(i, train_l)\n",
    "  test_loader.insert(i, test_l)"
   ]
  },
  {
   "cell_type": "code",
   "execution_count": 7,
   "metadata": {},
   "outputs": [
    {
     "name": "stdout",
     "output_type": "stream",
     "text": [
      "Files already downloaded and verified\n"
     ]
    }
   ],
   "source": [
    "transform = transforms.Compose([transforms.ToTensor()])\n",
    "evl_data = torchvision.datasets.CIFAR10(\n",
    "    root='.', train=False, download=True, transform=transform\n",
    ")\n",
    "evl_index = np.arange(len(evl_data))\n",
    "# eval_index = np.random.choice([i for i in evl_index], int(num_train_points * 0.25), replace=False)\n",
    "evl_loader = torch.utils.data.DataLoader(\n",
    "            #   torch.utils.data.Subset(evl_data,eval_index),\n",
    "              evl_data,\n",
    "              batch_size=batch_size,\n",
    "              shuffle=False,\n",
    "              num_workers=4,\n",
    "              pin_memory=True,\n",
    "              persistent_workers=True,\n",
    "              prefetch_factor=16)"
   ]
  },
  {
   "cell_type": "code",
   "execution_count": 8,
   "metadata": {},
   "outputs": [
    {
     "name": "stdout",
     "output_type": "stream",
     "text": [
      "Number of model parameters:  1000618\n",
      "Number of model layers:  121\n",
      "['conv1.weight', 'dense1.0.bn1.weight', 'dense1.0.bn1.bias', 'dense1.0.conv1.weight', 'dense1.0.bn2.weight', 'dense1.0.bn2.bias', 'dense1.0.conv2.weight', 'dense1.1.bn1.weight', 'dense1.1.bn1.bias', 'dense1.1.conv1.weight', 'dense1.1.bn2.weight', 'dense1.1.bn2.bias', 'dense1.1.conv2.weight', 'dense1.2.bn1.weight', 'dense1.2.bn1.bias', 'dense1.2.conv1.weight', 'dense1.2.bn2.weight', 'dense1.2.bn2.bias', 'dense1.2.conv2.weight', 'dense1.3.bn1.weight', 'dense1.3.bn1.bias', 'dense1.3.conv1.weight', 'dense1.3.bn2.weight', 'dense1.3.bn2.bias', 'dense1.3.conv2.weight', 'dense1.4.bn1.weight', 'dense1.4.bn1.bias', 'dense1.4.conv1.weight', 'dense1.4.bn2.weight', 'dense1.4.bn2.bias', 'dense1.4.conv2.weight', 'dense1.5.bn1.weight', 'dense1.5.bn1.bias', 'dense1.5.conv1.weight', 'dense1.5.bn2.weight', 'dense1.5.bn2.bias', 'dense1.5.conv2.weight', 'trans1.bn.weight', 'trans1.bn.bias', 'trans1.conv.weight', 'dense2.0.bn1.weight', 'dense2.0.bn1.bias', 'dense2.0.conv1.weight', 'dense2.0.bn2.weight', 'dense2.0.bn2.bias', 'dense2.0.conv2.weight', 'dense2.1.bn1.weight', 'dense2.1.bn1.bias', 'dense2.1.conv1.weight', 'dense2.1.bn2.weight', 'dense2.1.bn2.bias', 'dense2.1.conv2.weight', 'dense2.2.bn1.weight', 'dense2.2.bn1.bias', 'dense2.2.conv1.weight', 'dense2.2.bn2.weight', 'dense2.2.bn2.bias', 'dense2.2.conv2.weight', 'dense2.3.bn1.weight', 'dense2.3.bn1.bias', 'dense2.3.conv1.weight', 'dense2.3.bn2.weight', 'dense2.3.bn2.bias', 'dense2.3.conv2.weight', 'dense2.4.bn1.weight', 'dense2.4.bn1.bias', 'dense2.4.conv1.weight', 'dense2.4.bn2.weight', 'dense2.4.bn2.bias', 'dense2.4.conv2.weight', 'dense2.5.bn1.weight', 'dense2.5.bn1.bias', 'dense2.5.conv1.weight', 'dense2.5.bn2.weight', 'dense2.5.bn2.bias', 'dense2.5.conv2.weight', 'dense2.6.bn1.weight', 'dense2.6.bn1.bias', 'dense2.6.conv1.weight', 'dense2.6.bn2.weight', 'dense2.6.bn2.bias', 'dense2.6.conv2.weight', 'dense2.7.bn1.weight', 'dense2.7.bn1.bias', 'dense2.7.conv1.weight', 'dense2.7.bn2.weight', 'dense2.7.bn2.bias', 'dense2.7.conv2.weight', 'dense2.8.bn1.weight', 'dense2.8.bn1.bias', 'dense2.8.conv1.weight', 'dense2.8.bn2.weight', 'dense2.8.bn2.bias', 'dense2.8.conv2.weight', 'dense2.9.bn1.weight', 'dense2.9.bn1.bias', 'dense2.9.conv1.weight', 'dense2.9.bn2.weight', 'dense2.9.bn2.bias', 'dense2.9.conv2.weight', 'dense2.10.bn1.weight', 'dense2.10.bn1.bias', 'dense2.10.conv1.weight', 'dense2.10.bn2.weight', 'dense2.10.bn2.bias', 'dense2.10.conv2.weight', 'dense2.11.bn1.weight', 'dense2.11.bn1.bias', 'dense2.11.conv1.weight', 'dense2.11.bn2.weight', 'dense2.11.bn2.bias', 'dense2.11.conv2.weight', 'trans2.bn.weight', 'trans2.bn.bias', 'trans2.conv.weight', 'dense3.0.bn1.weight', 'dense3.0.bn1.bias', 'dense3.0.conv1.weight', 'dense3.0.bn2.weight', 'dense3.0.bn2.bias', 'dense3.0.conv2.weight', 'dense3.1.bn1.weight', 'dense3.1.bn1.bias', 'dense3.1.conv1.weight', 'dense3.1.bn2.weight', 'dense3.1.bn2.bias', 'dense3.1.conv2.weight', 'dense3.2.bn1.weight', 'dense3.2.bn1.bias', 'dense3.2.conv1.weight', 'dense3.2.bn2.weight', 'dense3.2.bn2.bias', 'dense3.2.conv2.weight', 'dense3.3.bn1.weight', 'dense3.3.bn1.bias', 'dense3.3.conv1.weight', 'dense3.3.bn2.weight', 'dense3.3.bn2.bias', 'dense3.3.conv2.weight', 'dense3.4.bn1.weight', 'dense3.4.bn1.bias', 'dense3.4.conv1.weight', 'dense3.4.bn2.weight', 'dense3.4.bn2.bias', 'dense3.4.conv2.weight', 'dense3.5.bn1.weight', 'dense3.5.bn1.bias', 'dense3.5.conv1.weight', 'dense3.5.bn2.weight', 'dense3.5.bn2.bias', 'dense3.5.conv2.weight', 'dense3.6.bn1.weight', 'dense3.6.bn1.bias', 'dense3.6.conv1.weight', 'dense3.6.bn2.weight', 'dense3.6.bn2.bias', 'dense3.6.conv2.weight', 'dense3.7.bn1.weight', 'dense3.7.bn1.bias', 'dense3.7.conv1.weight', 'dense3.7.bn2.weight', 'dense3.7.bn2.bias', 'dense3.7.conv2.weight', 'dense3.8.bn1.weight', 'dense3.8.bn1.bias', 'dense3.8.conv1.weight', 'dense3.8.bn2.weight', 'dense3.8.bn2.bias', 'dense3.8.conv2.weight', 'dense3.9.bn1.weight', 'dense3.9.bn1.bias', 'dense3.9.conv1.weight', 'dense3.9.bn2.weight', 'dense3.9.bn2.bias', 'dense3.9.conv2.weight', 'dense3.10.bn1.weight', 'dense3.10.bn1.bias', 'dense3.10.conv1.weight', 'dense3.10.bn2.weight', 'dense3.10.bn2.bias', 'dense3.10.conv2.weight', 'dense3.11.bn1.weight', 'dense3.11.bn1.bias', 'dense3.11.conv1.weight', 'dense3.11.bn2.weight', 'dense3.11.bn2.bias', 'dense3.11.conv2.weight', 'dense3.12.bn1.weight', 'dense3.12.bn1.bias', 'dense3.12.conv1.weight', 'dense3.12.bn2.weight', 'dense3.12.bn2.bias', 'dense3.12.conv2.weight', 'dense3.13.bn1.weight', 'dense3.13.bn1.bias', 'dense3.13.conv1.weight', 'dense3.13.bn2.weight', 'dense3.13.bn2.bias', 'dense3.13.conv2.weight', 'dense3.14.bn1.weight', 'dense3.14.bn1.bias', 'dense3.14.conv1.weight', 'dense3.14.bn2.weight', 'dense3.14.bn2.bias', 'dense3.14.conv2.weight', 'dense3.15.bn1.weight', 'dense3.15.bn1.bias', 'dense3.15.conv1.weight', 'dense3.15.bn2.weight', 'dense3.15.bn2.bias', 'dense3.15.conv2.weight', 'dense3.16.bn1.weight', 'dense3.16.bn1.bias', 'dense3.16.conv1.weight', 'dense3.16.bn2.weight', 'dense3.16.bn2.bias', 'dense3.16.conv2.weight', 'dense3.17.bn1.weight', 'dense3.17.bn1.bias', 'dense3.17.conv1.weight', 'dense3.17.bn2.weight', 'dense3.17.bn2.bias', 'dense3.17.conv2.weight', 'dense3.18.bn1.weight', 'dense3.18.bn1.bias', 'dense3.18.conv1.weight', 'dense3.18.bn2.weight', 'dense3.18.bn2.bias', 'dense3.18.conv2.weight', 'dense3.19.bn1.weight', 'dense3.19.bn1.bias', 'dense3.19.conv1.weight', 'dense3.19.bn2.weight', 'dense3.19.bn2.bias', 'dense3.19.conv2.weight', 'dense3.20.bn1.weight', 'dense3.20.bn1.bias', 'dense3.20.conv1.weight', 'dense3.20.bn2.weight', 'dense3.20.bn2.bias', 'dense3.20.conv2.weight', 'dense3.21.bn1.weight', 'dense3.21.bn1.bias', 'dense3.21.conv1.weight', 'dense3.21.bn2.weight', 'dense3.21.bn2.bias', 'dense3.21.conv2.weight', 'dense3.22.bn1.weight', 'dense3.22.bn1.bias', 'dense3.22.conv1.weight', 'dense3.22.bn2.weight', 'dense3.22.bn2.bias', 'dense3.22.conv2.weight', 'dense3.23.bn1.weight', 'dense3.23.bn1.bias', 'dense3.23.conv1.weight', 'dense3.23.bn2.weight', 'dense3.23.bn2.bias', 'dense3.23.conv2.weight', 'trans3.bn.weight', 'trans3.bn.bias', 'trans3.conv.weight', 'dense4.0.bn1.weight', 'dense4.0.bn1.bias', 'dense4.0.conv1.weight', 'dense4.0.bn2.weight', 'dense4.0.bn2.bias', 'dense4.0.conv2.weight', 'dense4.1.bn1.weight', 'dense4.1.bn1.bias', 'dense4.1.conv1.weight', 'dense4.1.bn2.weight', 'dense4.1.bn2.bias', 'dense4.1.conv2.weight', 'dense4.2.bn1.weight', 'dense4.2.bn1.bias', 'dense4.2.conv1.weight', 'dense4.2.bn2.weight', 'dense4.2.bn2.bias', 'dense4.2.conv2.weight', 'dense4.3.bn1.weight', 'dense4.3.bn1.bias', 'dense4.3.conv1.weight', 'dense4.3.bn2.weight', 'dense4.3.bn2.bias', 'dense4.3.conv2.weight', 'dense4.4.bn1.weight', 'dense4.4.bn1.bias', 'dense4.4.conv1.weight', 'dense4.4.bn2.weight', 'dense4.4.bn2.bias', 'dense4.4.conv2.weight', 'dense4.5.bn1.weight', 'dense4.5.bn1.bias', 'dense4.5.conv1.weight', 'dense4.5.bn2.weight', 'dense4.5.bn2.bias', 'dense4.5.conv2.weight', 'dense4.6.bn1.weight', 'dense4.6.bn1.bias', 'dense4.6.conv1.weight', 'dense4.6.bn2.weight', 'dense4.6.bn2.bias', 'dense4.6.conv2.weight', 'dense4.7.bn1.weight', 'dense4.7.bn1.bias', 'dense4.7.conv1.weight', 'dense4.7.bn2.weight', 'dense4.7.bn2.bias', 'dense4.7.conv2.weight', 'dense4.8.bn1.weight', 'dense4.8.bn1.bias', 'dense4.8.conv1.weight', 'dense4.8.bn2.weight', 'dense4.8.bn2.bias', 'dense4.8.conv2.weight', 'dense4.9.bn1.weight', 'dense4.9.bn1.bias', 'dense4.9.conv1.weight', 'dense4.9.bn2.weight', 'dense4.9.bn2.bias', 'dense4.9.conv2.weight', 'dense4.10.bn1.weight', 'dense4.10.bn1.bias', 'dense4.10.conv1.weight', 'dense4.10.bn2.weight', 'dense4.10.bn2.bias', 'dense4.10.conv2.weight', 'dense4.11.bn1.weight', 'dense4.11.bn1.bias', 'dense4.11.conv1.weight', 'dense4.11.bn2.weight', 'dense4.11.bn2.bias', 'dense4.11.conv2.weight', 'dense4.12.bn1.weight', 'dense4.12.bn1.bias', 'dense4.12.conv1.weight', 'dense4.12.bn2.weight', 'dense4.12.bn2.bias', 'dense4.12.conv2.weight', 'dense4.13.bn1.weight', 'dense4.13.bn1.bias', 'dense4.13.conv1.weight', 'dense4.13.bn2.weight', 'dense4.13.bn2.bias', 'dense4.13.conv2.weight', 'dense4.14.bn1.weight', 'dense4.14.bn1.bias', 'dense4.14.conv1.weight', 'dense4.14.bn2.weight', 'dense4.14.bn2.bias', 'dense4.14.conv2.weight', 'dense4.15.bn1.weight', 'dense4.15.bn1.bias', 'dense4.15.conv1.weight', 'dense4.15.bn2.weight', 'dense4.15.bn2.bias', 'dense4.15.conv2.weight', 'bn.weight', 'bn.bias', 'fc.weight', 'fc.bias']\n"
     ]
    }
   ],
   "source": [
    "if model_name == 'resnet18': # 11.2 M params -> 195 K\n",
    "   glob_model = ResNet18()\n",
    "# elif model_name == 'resnet34': # 21.3 M params\n",
    "#    glob_model = ResNet34()\n",
    "elif model_name == 'cnn': # 570 K params\n",
    "   glob_model = CNNCifar()\n",
    "   # glob_model = CNNDrop()\n",
    "elif model_name == 'lenet': # 60 K params\n",
    "   glob_model = LeNet()\n",
    "elif model_name == 'densenet': # 7.2 M params -> 1 M\n",
    "   glob_model = DenseNet121()\n",
    "# elif model_name == 'alexnet': # 60 M params\n",
    "#    glob_model = AlexNet()\n",
    "elif model_name == 'mobilenetv3': # L: 3.9 M params, S: 1.8 M params\n",
    "   glob_model = MobileNetV3(model_mode=\"LARGE\", num_classes=10, multiplier=0.75)\n",
    "\n",
    "num_params = get_model_parameters(glob_model)\n",
    "num_layers = len([x for x , y in glob_model.named_parameters() if ('conv' in x or 'fc' in x or 'downsample' in x) and 'weight' in x])\n",
    "print(\"Number of model parameters: \", num_params)\n",
    "print(\"Number of model layers: \", num_layers)\n",
    "print([x for x , y in glob_model.named_parameters()])"
   ]
  },
  {
   "attachments": {},
   "cell_type": "markdown",
   "metadata": {},
   "source": [
    "# Train the target model"
   ]
  },
  {
   "cell_type": "code",
   "execution_count": 9,
   "metadata": {},
   "outputs": [
    {
     "name": "stderr",
     "output_type": "stream",
     "text": [
      "Global Epoch: 0 | Drop Num: 10: 100%|██████████| 100/100 [03:35<00:00,  2.16s/it]\n"
     ]
    },
    {
     "name": "stdout",
     "output_type": "stream",
     "text": [
      "Global Epoch: 0 | Client 0 | lr: 0.1 | Time: 220.5 | Test Loss: 2.3374 | Test Acc: 10.00% | Attack Acc 50.00%\n"
     ]
    },
    {
     "name": "stderr",
     "output_type": "stream",
     "text": [
      "Global Epoch: 1 | Drop Num: 10: 100%|██████████| 100/100 [03:11<00:00,  1.92s/it]\n"
     ]
    },
    {
     "name": "stdout",
     "output_type": "stream",
     "text": [
      "Global Epoch: 1 | Client 0 | lr: 0.1 | Time: 196.4 | Test Loss: 2.5252 | Test Acc: 10.05% | Attack Acc 50.00%\n"
     ]
    },
    {
     "name": "stderr",
     "output_type": "stream",
     "text": [
      "Global Epoch: 2 | Drop Num: 10: 100%|██████████| 100/100 [03:11<00:00,  1.92s/it]\n"
     ]
    },
    {
     "name": "stdout",
     "output_type": "stream",
     "text": [
      "Global Epoch: 2 | Client 0 | lr: 0.1 | Time: 196.5 | Test Loss: 1.8231 | Test Acc: 27.25% | Attack Acc 50.00%\n"
     ]
    },
    {
     "name": "stderr",
     "output_type": "stream",
     "text": [
      "Global Epoch: 3 | Drop Num: 10: 100%|██████████| 100/100 [03:07<00:00,  1.88s/it]\n"
     ]
    },
    {
     "name": "stdout",
     "output_type": "stream",
     "text": [
      "Global Epoch: 3 | Client 0 | lr: 0.1 | Time: 192.3 | Test Loss: 1.7652 | Test Acc: 32.94% | Attack Acc 50.00%\n"
     ]
    },
    {
     "name": "stderr",
     "output_type": "stream",
     "text": [
      "Global Epoch: 4 | Drop Num: 10: 100%|██████████| 100/100 [03:08<00:00,  1.89s/it]\n"
     ]
    },
    {
     "name": "stdout",
     "output_type": "stream",
     "text": [
      "Global Epoch: 4 | Client 0 | lr: 0.1 | Time: 194.0 | Test Loss: 1.6832 | Test Acc: 36.69% | Attack Acc 62.19%\n"
     ]
    },
    {
     "name": "stderr",
     "output_type": "stream",
     "text": [
      "Global Epoch: 5 | Drop Num: 10: 100%|██████████| 100/100 [03:10<00:00,  1.90s/it]\n"
     ]
    },
    {
     "name": "stdout",
     "output_type": "stream",
     "text": [
      "Global Epoch: 5 | Client 0 | lr: 0.1 | Time: 194.9 | Test Loss: 1.6352 | Test Acc: 37.56% | Attack Acc 61.82%\n"
     ]
    },
    {
     "name": "stderr",
     "output_type": "stream",
     "text": [
      "Global Epoch: 6 | Drop Num: 10: 100%|██████████| 100/100 [03:11<00:00,  1.91s/it]\n"
     ]
    },
    {
     "name": "stdout",
     "output_type": "stream",
     "text": [
      "Global Epoch: 6 | Client 0 | lr: 0.1 | Time: 196.1 | Test Loss: 1.5585 | Test Acc: 40.64% | Attack Acc 62.93%\n"
     ]
    },
    {
     "name": "stderr",
     "output_type": "stream",
     "text": [
      "Global Epoch: 7 | Drop Num: 10: 100%|██████████| 100/100 [03:10<00:00,  1.91s/it]\n"
     ]
    },
    {
     "name": "stdout",
     "output_type": "stream",
     "text": [
      "Global Epoch: 7 | Client 0 | lr: 0.1 | Time: 195.6 | Test Loss: 1.5502 | Test Acc: 41.60% | Attack Acc 64.18%\n"
     ]
    },
    {
     "name": "stderr",
     "output_type": "stream",
     "text": [
      "Global Epoch: 8 | Drop Num: 10: 100%|██████████| 100/100 [03:10<00:00,  1.90s/it]\n"
     ]
    },
    {
     "name": "stdout",
     "output_type": "stream",
     "text": [
      "Global Epoch: 8 | Client 0 | lr: 0.1 | Time: 195.2 | Test Loss: 1.4403 | Test Acc: 45.25% | Attack Acc 61.59%\n"
     ]
    },
    {
     "name": "stderr",
     "output_type": "stream",
     "text": [
      "Global Epoch: 9 | Drop Num: 10: 100%|██████████| 100/100 [03:10<00:00,  1.90s/it]\n"
     ]
    },
    {
     "name": "stdout",
     "output_type": "stream",
     "text": [
      "Global Epoch: 9 | Client 0 | lr: 0.1 | Time: 195.0 | Test Loss: 1.3062 | Test Acc: 50.58% | Attack Acc 67.34%\n"
     ]
    },
    {
     "name": "stderr",
     "output_type": "stream",
     "text": [
      "Global Epoch: 10 | Drop Num: 10: 100%|██████████| 100/100 [03:09<00:00,  1.89s/it]\n"
     ]
    },
    {
     "name": "stdout",
     "output_type": "stream",
     "text": [
      "Global Epoch: 10 | Client 0 | lr: 0.1 | Time: 193.9 | Test Loss: 1.2469 | Test Acc: 52.80% | Attack Acc 62.87%\n"
     ]
    },
    {
     "name": "stderr",
     "output_type": "stream",
     "text": [
      "Global Epoch: 11 | Drop Num: 10: 100%|██████████| 100/100 [03:10<00:00,  1.90s/it]\n"
     ]
    },
    {
     "name": "stdout",
     "output_type": "stream",
     "text": [
      "Global Epoch: 11 | Client 0 | lr: 0.1 | Time: 195.0 | Test Loss: 1.1870 | Test Acc: 55.98% | Attack Acc 57.77%\n"
     ]
    },
    {
     "name": "stderr",
     "output_type": "stream",
     "text": [
      "Global Epoch: 12 | Drop Num: 10: 100%|██████████| 100/100 [03:09<00:00,  1.90s/it]\n"
     ]
    },
    {
     "name": "stdout",
     "output_type": "stream",
     "text": [
      "Global Epoch: 12 | Client 0 | lr: 0.1 | Time: 194.7 | Test Loss: 1.3180 | Test Acc: 51.52% | Attack Acc 64.03%\n"
     ]
    },
    {
     "name": "stderr",
     "output_type": "stream",
     "text": [
      "Global Epoch: 13 | Drop Num: 10: 100%|██████████| 100/100 [03:08<00:00,  1.89s/it]\n"
     ]
    },
    {
     "name": "stdout",
     "output_type": "stream",
     "text": [
      "Global Epoch: 13 | Client 0 | lr: 0.1 | Time: 193.8 | Test Loss: 1.1039 | Test Acc: 59.79% | Attack Acc 60.36%\n"
     ]
    },
    {
     "name": "stderr",
     "output_type": "stream",
     "text": [
      "Global Epoch: 14 | Drop Num: 10: 100%|██████████| 100/100 [03:09<00:00,  1.89s/it]\n"
     ]
    },
    {
     "name": "stdout",
     "output_type": "stream",
     "text": [
      "Global Epoch: 14 | Client 0 | lr: 0.1 | Time: 194.0 | Test Loss: 1.1764 | Test Acc: 56.71% | Attack Acc 68.76%\n"
     ]
    },
    {
     "name": "stderr",
     "output_type": "stream",
     "text": [
      "Global Epoch: 15 | Drop Num: 10: 100%|██████████| 100/100 [03:09<00:00,  1.90s/it]\n"
     ]
    },
    {
     "name": "stdout",
     "output_type": "stream",
     "text": [
      "Global Epoch: 15 | Client 0 | lr: 0.1 | Time: 194.5 | Test Loss: 1.0243 | Test Acc: 63.49% | Attack Acc 67.38%\n"
     ]
    },
    {
     "name": "stderr",
     "output_type": "stream",
     "text": [
      "Global Epoch: 16 | Drop Num: 10: 100%|██████████| 100/100 [03:11<00:00,  1.91s/it]\n"
     ]
    },
    {
     "name": "stdout",
     "output_type": "stream",
     "text": [
      "Global Epoch: 16 | Client 0 | lr: 0.1 | Time: 196.2 | Test Loss: 1.1849 | Test Acc: 57.71% | Attack Acc 66.64%\n"
     ]
    },
    {
     "name": "stderr",
     "output_type": "stream",
     "text": [
      "Global Epoch: 17 | Drop Num: 10: 100%|██████████| 100/100 [03:10<00:00,  1.90s/it]\n"
     ]
    },
    {
     "name": "stdout",
     "output_type": "stream",
     "text": [
      "Global Epoch: 17 | Client 0 | lr: 0.1 | Time: 195.2 | Test Loss: 0.9472 | Test Acc: 66.43% | Attack Acc 68.69%\n"
     ]
    },
    {
     "name": "stderr",
     "output_type": "stream",
     "text": [
      "Global Epoch: 18 | Drop Num: 10: 100%|██████████| 100/100 [03:09<00:00,  1.89s/it]\n"
     ]
    },
    {
     "name": "stdout",
     "output_type": "stream",
     "text": [
      "Global Epoch: 18 | Client 0 | lr: 0.1 | Time: 193.8 | Test Loss: 1.2717 | Test Acc: 57.42% | Attack Acc 69.97%\n"
     ]
    },
    {
     "name": "stderr",
     "output_type": "stream",
     "text": [
      "Global Epoch: 19 | Drop Num: 10: 100%|██████████| 100/100 [03:10<00:00,  1.90s/it]\n"
     ]
    },
    {
     "name": "stdout",
     "output_type": "stream",
     "text": [
      "Global Epoch: 19 | Client 0 | lr: 0.1 | Time: 195.0 | Test Loss: 0.9283 | Test Acc: 67.40% | Attack Acc 66.99%\n"
     ]
    },
    {
     "name": "stderr",
     "output_type": "stream",
     "text": [
      "Global Epoch: 20 | Drop Num: 10: 100%|██████████| 100/100 [03:10<00:00,  1.90s/it]\n"
     ]
    },
    {
     "name": "stdout",
     "output_type": "stream",
     "text": [
      "Global Epoch: 20 | Client 0 | lr: 0.1 | Time: 195.2 | Test Loss: 1.1970 | Test Acc: 59.33% | Attack Acc 69.20%\n"
     ]
    },
    {
     "name": "stderr",
     "output_type": "stream",
     "text": [
      "Global Epoch: 21 | Drop Num: 10: 100%|██████████| 100/100 [03:10<00:00,  1.90s/it]\n"
     ]
    },
    {
     "name": "stdout",
     "output_type": "stream",
     "text": [
      "Global Epoch: 21 | Client 0 | lr: 0.1 | Time: 195.0 | Test Loss: 0.9011 | Test Acc: 68.45% | Attack Acc 62.64%\n"
     ]
    },
    {
     "name": "stderr",
     "output_type": "stream",
     "text": [
      "Global Epoch: 22 | Drop Num: 10: 100%|██████████| 100/100 [03:10<00:00,  1.91s/it]\n"
     ]
    },
    {
     "name": "stdout",
     "output_type": "stream",
     "text": [
      "Global Epoch: 22 | Client 0 | lr: 0.1 | Time: 195.6 | Test Loss: 1.1071 | Test Acc: 62.46% | Attack Acc 70.41%\n"
     ]
    },
    {
     "name": "stderr",
     "output_type": "stream",
     "text": [
      "Global Epoch: 23 | Drop Num: 10: 100%|██████████| 100/100 [03:09<00:00,  1.89s/it]\n"
     ]
    },
    {
     "name": "stdout",
     "output_type": "stream",
     "text": [
      "Global Epoch: 23 | Client 0 | lr: 0.1 | Time: 194.5 | Test Loss: 0.9092 | Test Acc: 68.78% | Attack Acc 68.89%\n"
     ]
    },
    {
     "name": "stderr",
     "output_type": "stream",
     "text": [
      "Global Epoch: 24 | Drop Num: 10: 100%|██████████| 100/100 [03:09<00:00,  1.89s/it]\n"
     ]
    },
    {
     "name": "stdout",
     "output_type": "stream",
     "text": [
      "Global Epoch: 24 | Client 0 | lr: 0.1 | Time: 194.0 | Test Loss: 1.1159 | Test Acc: 63.10% | Attack Acc 66.37%\n"
     ]
    },
    {
     "name": "stderr",
     "output_type": "stream",
     "text": [
      "Global Epoch: 25 | Drop Num: 10: 100%|██████████| 100/100 [03:09<00:00,  1.90s/it]\n"
     ]
    },
    {
     "name": "stdout",
     "output_type": "stream",
     "text": [
      "Global Epoch: 25 | Client 0 | lr: 0.1 | Time: 194.8 | Test Loss: 0.9481 | Test Acc: 67.78% | Attack Acc 66.60%\n"
     ]
    },
    {
     "name": "stderr",
     "output_type": "stream",
     "text": [
      "Global Epoch: 26 | Drop Num: 10: 100%|██████████| 100/100 [03:11<00:00,  1.91s/it]\n"
     ]
    },
    {
     "name": "stdout",
     "output_type": "stream",
     "text": [
      "Global Epoch: 26 | Client 0 | lr: 0.1 | Time: 196.2 | Test Loss: 1.0948 | Test Acc: 63.42% | Attack Acc 68.77%\n"
     ]
    },
    {
     "name": "stderr",
     "output_type": "stream",
     "text": [
      "Global Epoch: 27 | Drop Num: 10: 100%|██████████| 100/100 [03:10<00:00,  1.90s/it]\n"
     ]
    },
    {
     "name": "stdout",
     "output_type": "stream",
     "text": [
      "Global Epoch: 27 | Client 0 | lr: 0.1 | Time: 195.0 | Test Loss: 0.9672 | Test Acc: 67.63% | Attack Acc 70.79%\n"
     ]
    },
    {
     "name": "stderr",
     "output_type": "stream",
     "text": [
      "Global Epoch: 28 | Drop Num: 10: 100%|██████████| 100/100 [03:09<00:00,  1.90s/it]\n"
     ]
    },
    {
     "name": "stdout",
     "output_type": "stream",
     "text": [
      "Global Epoch: 28 | Client 0 | lr: 0.1 | Time: 194.9 | Test Loss: 1.2125 | Test Acc: 60.70% | Attack Acc 67.13%\n"
     ]
    },
    {
     "name": "stderr",
     "output_type": "stream",
     "text": [
      "Global Epoch: 29 | Drop Num: 10: 100%|██████████| 100/100 [03:12<00:00,  1.93s/it]\n"
     ]
    },
    {
     "name": "stdout",
     "output_type": "stream",
     "text": [
      "Global Epoch: 29 | Client 0 | lr: 0.1 | Time: 197.2 | Test Loss: 0.9719 | Test Acc: 67.80% | Attack Acc 70.55%\n"
     ]
    },
    {
     "name": "stderr",
     "output_type": "stream",
     "text": [
      "Global Epoch: 30 | Drop Num: 10: 100%|██████████| 100/100 [03:08<00:00,  1.89s/it]\n"
     ]
    },
    {
     "name": "stdout",
     "output_type": "stream",
     "text": [
      "Global Epoch: 30 | Client 0 | lr: 0.1 | Time: 193.6 | Test Loss: 1.1440 | Test Acc: 62.63% | Attack Acc 70.35%\n"
     ]
    },
    {
     "name": "stderr",
     "output_type": "stream",
     "text": [
      "Global Epoch: 31 | Drop Num: 10: 100%|██████████| 100/100 [03:11<00:00,  1.92s/it]\n"
     ]
    },
    {
     "name": "stdout",
     "output_type": "stream",
     "text": [
      "Global Epoch: 31 | Client 0 | lr: 0.1 | Time: 196.7 | Test Loss: 0.9957 | Test Acc: 67.50% | Attack Acc 69.12%\n"
     ]
    },
    {
     "name": "stderr",
     "output_type": "stream",
     "text": [
      "Global Epoch: 32 | Drop Num: 10: 100%|██████████| 100/100 [03:11<00:00,  1.92s/it]\n"
     ]
    },
    {
     "name": "stdout",
     "output_type": "stream",
     "text": [
      "Global Epoch: 32 | Client 0 | lr: 0.1 | Time: 196.5 | Test Loss: 1.1442 | Test Acc: 63.66% | Attack Acc 72.15%\n"
     ]
    },
    {
     "name": "stderr",
     "output_type": "stream",
     "text": [
      "Global Epoch: 33 | Drop Num: 10: 100%|██████████| 100/100 [03:10<00:00,  1.91s/it]\n"
     ]
    },
    {
     "name": "stdout",
     "output_type": "stream",
     "text": [
      "Global Epoch: 33 | Client 0 | lr: 0.1 | Time: 195.5 | Test Loss: 1.0125 | Test Acc: 67.20% | Attack Acc 65.75%\n"
     ]
    },
    {
     "name": "stderr",
     "output_type": "stream",
     "text": [
      "Global Epoch: 34 | Drop Num: 10: 100%|██████████| 100/100 [03:07<00:00,  1.88s/it]\n"
     ]
    },
    {
     "name": "stdout",
     "output_type": "stream",
     "text": [
      "Global Epoch: 34 | Client 0 | lr: 0.1 | Time: 192.6 | Test Loss: 1.1127 | Test Acc: 64.60% | Attack Acc 72.14%\n"
     ]
    },
    {
     "name": "stderr",
     "output_type": "stream",
     "text": [
      "Global Epoch: 35 | Drop Num: 10: 100%|██████████| 100/100 [03:09<00:00,  1.89s/it]\n"
     ]
    },
    {
     "name": "stdout",
     "output_type": "stream",
     "text": [
      "Global Epoch: 35 | Client 0 | lr: 0.1 | Time: 193.9 | Test Loss: 1.0232 | Test Acc: 66.81% | Attack Acc 67.67%\n"
     ]
    },
    {
     "name": "stderr",
     "output_type": "stream",
     "text": [
      "Global Epoch: 36 | Drop Num: 10: 100%|██████████| 100/100 [03:08<00:00,  1.88s/it]\n"
     ]
    },
    {
     "name": "stdout",
     "output_type": "stream",
     "text": [
      "Global Epoch: 36 | Client 0 | lr: 0.1 | Time: 193.2 | Test Loss: 1.1668 | Test Acc: 63.73% | Attack Acc 63.26%\n"
     ]
    },
    {
     "name": "stderr",
     "output_type": "stream",
     "text": [
      "Global Epoch: 37 | Drop Num: 10: 100%|██████████| 100/100 [03:11<00:00,  1.92s/it]\n"
     ]
    },
    {
     "name": "stdout",
     "output_type": "stream",
     "text": [
      "Global Epoch: 37 | Client 0 | lr: 0.1 | Time: 196.6 | Test Loss: 1.1704 | Test Acc: 63.38% | Attack Acc 67.00%\n"
     ]
    },
    {
     "name": "stderr",
     "output_type": "stream",
     "text": [
      "Global Epoch: 38 | Drop Num: 10: 100%|██████████| 100/100 [03:11<00:00,  1.92s/it]\n"
     ]
    },
    {
     "name": "stdout",
     "output_type": "stream",
     "text": [
      "Global Epoch: 38 | Client 0 | lr: 0.1 | Time: 196.7 | Test Loss: 1.0783 | Test Acc: 65.51% | Attack Acc 71.19%\n"
     ]
    },
    {
     "name": "stderr",
     "output_type": "stream",
     "text": [
      "Global Epoch: 39 | Drop Num: 10: 100%|██████████| 100/100 [03:12<00:00,  1.92s/it]\n"
     ]
    },
    {
     "name": "stdout",
     "output_type": "stream",
     "text": [
      "Global Epoch: 39 | Client 0 | lr: 0.1 | Time: 197.4 | Test Loss: 1.2449 | Test Acc: 62.37% | Attack Acc 69.43%\n"
     ]
    },
    {
     "name": "stderr",
     "output_type": "stream",
     "text": [
      "Global Epoch: 40 | Drop Num: 10: 100%|██████████| 100/100 [03:09<00:00,  1.89s/it]\n"
     ]
    },
    {
     "name": "stdout",
     "output_type": "stream",
     "text": [
      "Global Epoch: 40 | Client 0 | lr: 0.1 | Time: 193.9 | Test Loss: 1.1445 | Test Acc: 64.33% | Attack Acc 65.13%\n"
     ]
    },
    {
     "name": "stderr",
     "output_type": "stream",
     "text": [
      "Global Epoch: 41 | Drop Num: 10: 100%|██████████| 100/100 [03:10<00:00,  1.91s/it]\n"
     ]
    },
    {
     "name": "stdout",
     "output_type": "stream",
     "text": [
      "Global Epoch: 41 | Client 0 | lr: 0.1 | Time: 195.7 | Test Loss: 1.2145 | Test Acc: 62.74% | Attack Acc 65.93%\n"
     ]
    },
    {
     "name": "stderr",
     "output_type": "stream",
     "text": [
      "Global Epoch: 42 | Drop Num: 10: 100%|██████████| 100/100 [03:09<00:00,  1.90s/it]\n"
     ]
    },
    {
     "name": "stdout",
     "output_type": "stream",
     "text": [
      "Global Epoch: 42 | Client 0 | lr: 0.1 | Time: 194.2 | Test Loss: 1.0808 | Test Acc: 66.34% | Attack Acc 71.29%\n"
     ]
    },
    {
     "name": "stderr",
     "output_type": "stream",
     "text": [
      "Global Epoch: 43 | Drop Num: 10: 100%|██████████| 100/100 [03:09<00:00,  1.90s/it]\n"
     ]
    },
    {
     "name": "stdout",
     "output_type": "stream",
     "text": [
      "Global Epoch: 43 | Client 0 | lr: 0.1 | Time: 194.2 | Test Loss: 1.2237 | Test Acc: 62.72% | Attack Acc 69.56%\n"
     ]
    },
    {
     "name": "stderr",
     "output_type": "stream",
     "text": [
      "Global Epoch: 44 | Drop Num: 10: 100%|██████████| 100/100 [03:10<00:00,  1.91s/it]\n"
     ]
    },
    {
     "name": "stdout",
     "output_type": "stream",
     "text": [
      "Global Epoch: 44 | Client 0 | lr: 0.1 | Time: 195.6 | Test Loss: 1.0991 | Test Acc: 65.53% | Attack Acc 67.60%\n"
     ]
    },
    {
     "name": "stderr",
     "output_type": "stream",
     "text": [
      "Global Epoch: 45 | Drop Num: 10: 100%|██████████| 100/100 [03:08<00:00,  1.89s/it]\n"
     ]
    },
    {
     "name": "stdout",
     "output_type": "stream",
     "text": [
      "Global Epoch: 45 | Client 0 | lr: 0.1 | Time: 193.6 | Test Loss: 1.2975 | Test Acc: 61.09% | Attack Acc 63.48%\n"
     ]
    },
    {
     "name": "stderr",
     "output_type": "stream",
     "text": [
      "Global Epoch: 46 | Drop Num: 10: 100%|██████████| 100/100 [03:08<00:00,  1.88s/it]\n"
     ]
    },
    {
     "name": "stdout",
     "output_type": "stream",
     "text": [
      "Global Epoch: 46 | Client 0 | lr: 0.1 | Time: 193.0 | Test Loss: 1.2235 | Test Acc: 63.00% | Attack Acc 66.97%\n"
     ]
    },
    {
     "name": "stderr",
     "output_type": "stream",
     "text": [
      "Global Epoch: 47 | Drop Num: 10: 100%|██████████| 100/100 [03:09<00:00,  1.89s/it]\n"
     ]
    },
    {
     "name": "stdout",
     "output_type": "stream",
     "text": [
      "Global Epoch: 47 | Client 0 | lr: 0.1 | Time: 194.2 | Test Loss: 1.2527 | Test Acc: 61.67% | Attack Acc 60.44%\n"
     ]
    },
    {
     "name": "stderr",
     "output_type": "stream",
     "text": [
      "Global Epoch: 48 | Drop Num: 10: 100%|██████████| 100/100 [03:11<00:00,  1.91s/it]\n"
     ]
    },
    {
     "name": "stdout",
     "output_type": "stream",
     "text": [
      "Global Epoch: 48 | Client 0 | lr: 0.1 | Time: 196.1 | Test Loss: 1.2322 | Test Acc: 62.70% | Attack Acc 70.65%\n"
     ]
    },
    {
     "name": "stderr",
     "output_type": "stream",
     "text": [
      "Global Epoch: 49 | Drop Num: 10: 100%|██████████| 100/100 [03:09<00:00,  1.89s/it]\n"
     ]
    },
    {
     "name": "stdout",
     "output_type": "stream",
     "text": [
      "Global Epoch: 49 | Client 0 | lr: 0.1 | Time: 194.2 | Test Loss: 1.2798 | Test Acc: 61.50% | Attack Acc 62.14%\n"
     ]
    },
    {
     "name": "stderr",
     "output_type": "stream",
     "text": [
      "Global Epoch: 50 | Drop Num: 10: 100%|██████████| 100/100 [03:09<00:00,  1.89s/it]\n"
     ]
    },
    {
     "name": "stdout",
     "output_type": "stream",
     "text": [
      "Global Epoch: 50 | Client 0 | lr: 0.1 | Time: 194.4 | Test Loss: 1.4333 | Test Acc: 58.68% | Attack Acc 65.22%\n"
     ]
    },
    {
     "name": "stderr",
     "output_type": "stream",
     "text": [
      "Global Epoch: 51 | Drop Num: 10: 100%|██████████| 100/100 [03:10<00:00,  1.90s/it]\n"
     ]
    },
    {
     "name": "stdout",
     "output_type": "stream",
     "text": [
      "Global Epoch: 51 | Client 0 | lr: 0.1 | Time: 195.3 | Test Loss: 1.3514 | Test Acc: 60.21% | Attack Acc 69.11%\n"
     ]
    },
    {
     "name": "stderr",
     "output_type": "stream",
     "text": [
      "Global Epoch: 52 | Drop Num: 10: 100%|██████████| 100/100 [03:08<00:00,  1.88s/it]\n"
     ]
    },
    {
     "name": "stdout",
     "output_type": "stream",
     "text": [
      "Global Epoch: 52 | Client 0 | lr: 0.1 | Time: 193.2 | Test Loss: 1.3325 | Test Acc: 60.97% | Attack Acc 71.11%\n"
     ]
    },
    {
     "name": "stderr",
     "output_type": "stream",
     "text": [
      "Global Epoch: 53 | Drop Num: 10: 100%|██████████| 100/100 [03:08<00:00,  1.89s/it]\n"
     ]
    },
    {
     "name": "stdout",
     "output_type": "stream",
     "text": [
      "Global Epoch: 53 | Client 0 | lr: 0.1 | Time: 193.8 | Test Loss: 1.5125 | Test Acc: 57.22% | Attack Acc 64.14%\n"
     ]
    },
    {
     "name": "stderr",
     "output_type": "stream",
     "text": [
      "Global Epoch: 54 | Drop Num: 10: 100%|██████████| 100/100 [03:08<00:00,  1.89s/it]\n"
     ]
    },
    {
     "name": "stdout",
     "output_type": "stream",
     "text": [
      "Global Epoch: 54 | Client 0 | lr: 0.1 | Time: 193.5 | Test Loss: 1.3606 | Test Acc: 60.04% | Attack Acc 67.31%\n"
     ]
    },
    {
     "name": "stderr",
     "output_type": "stream",
     "text": [
      "Global Epoch: 55 | Drop Num: 10: 100%|██████████| 100/100 [03:08<00:00,  1.89s/it]\n"
     ]
    },
    {
     "name": "stdout",
     "output_type": "stream",
     "text": [
      "Global Epoch: 55 | Client 0 | lr: 0.1 | Time: 193.6 | Test Loss: 1.3965 | Test Acc: 59.73% | Attack Acc 68.54%\n"
     ]
    },
    {
     "name": "stderr",
     "output_type": "stream",
     "text": [
      "Global Epoch: 56 | Drop Num: 10: 100%|██████████| 100/100 [03:09<00:00,  1.89s/it]\n"
     ]
    },
    {
     "name": "stdout",
     "output_type": "stream",
     "text": [
      "Global Epoch: 56 | Client 0 | lr: 0.1 | Time: 194.4 | Test Loss: 1.3093 | Test Acc: 61.51% | Attack Acc 69.71%\n"
     ]
    },
    {
     "name": "stderr",
     "output_type": "stream",
     "text": [
      "Global Epoch: 57 | Drop Num: 10: 100%|██████████| 100/100 [03:09<00:00,  1.89s/it]\n"
     ]
    },
    {
     "name": "stdout",
     "output_type": "stream",
     "text": [
      "Global Epoch: 57 | Client 0 | lr: 0.1 | Time: 194.4 | Test Loss: 1.3779 | Test Acc: 59.61% | Attack Acc 67.92%\n"
     ]
    },
    {
     "name": "stderr",
     "output_type": "stream",
     "text": [
      "Global Epoch: 58 | Drop Num: 10: 100%|██████████| 100/100 [03:09<00:00,  1.90s/it]\n"
     ]
    },
    {
     "name": "stdout",
     "output_type": "stream",
     "text": [
      "Global Epoch: 58 | Client 0 | lr: 0.1 | Time: 194.7 | Test Loss: 1.5019 | Test Acc: 57.93% | Attack Acc 68.79%\n"
     ]
    },
    {
     "name": "stderr",
     "output_type": "stream",
     "text": [
      "Global Epoch: 59 | Drop Num: 10: 100%|██████████| 100/100 [03:09<00:00,  1.90s/it]\n"
     ]
    },
    {
     "name": "stdout",
     "output_type": "stream",
     "text": [
      "Global Epoch: 59 | Client 0 | lr: 0.1 | Time: 194.4 | Test Loss: 1.4147 | Test Acc: 59.58% | Attack Acc 62.98%\n"
     ]
    },
    {
     "name": "stderr",
     "output_type": "stream",
     "text": [
      "Global Epoch: 60 | Drop Num: 10: 100%|██████████| 100/100 [03:08<00:00,  1.89s/it]\n"
     ]
    },
    {
     "name": "stdout",
     "output_type": "stream",
     "text": [
      "Global Epoch: 60 | Client 0 | lr: 0.1 | Time: 193.6 | Test Loss: 1.6197 | Test Acc: 56.12% | Attack Acc 63.48%\n"
     ]
    },
    {
     "name": "stderr",
     "output_type": "stream",
     "text": [
      "Global Epoch: 61 | Drop Num: 10: 100%|██████████| 100/100 [03:10<00:00,  1.90s/it]\n"
     ]
    },
    {
     "name": "stdout",
     "output_type": "stream",
     "text": [
      "Global Epoch: 61 | Client 0 | lr: 0.1 | Time: 195.2 | Test Loss: 1.4260 | Test Acc: 59.43% | Attack Acc 69.50%\n"
     ]
    },
    {
     "name": "stderr",
     "output_type": "stream",
     "text": [
      "Global Epoch: 62 | Drop Num: 10: 100%|██████████| 100/100 [03:09<00:00,  1.89s/it]\n"
     ]
    },
    {
     "name": "stdout",
     "output_type": "stream",
     "text": [
      "Global Epoch: 62 | Client 0 | lr: 0.1 | Time: 193.9 | Test Loss: 1.6084 | Test Acc: 55.98% | Attack Acc 64.43%\n"
     ]
    },
    {
     "name": "stderr",
     "output_type": "stream",
     "text": [
      "Global Epoch: 63 | Drop Num: 10: 100%|██████████| 100/100 [03:07<00:00,  1.88s/it]\n"
     ]
    },
    {
     "name": "stdout",
     "output_type": "stream",
     "text": [
      "Global Epoch: 63 | Client 0 | lr: 0.1 | Time: 192.8 | Test Loss: 1.5908 | Test Acc: 56.12% | Attack Acc 67.77%\n"
     ]
    },
    {
     "name": "stderr",
     "output_type": "stream",
     "text": [
      "Global Epoch: 64 | Drop Num: 10: 100%|██████████| 100/100 [03:10<00:00,  1.90s/it]\n"
     ]
    },
    {
     "name": "stdout",
     "output_type": "stream",
     "text": [
      "Global Epoch: 64 | Client 0 | lr: 0.1 | Time: 195.5 | Test Loss: 1.6277 | Test Acc: 55.91% | Attack Acc 67.95%\n"
     ]
    },
    {
     "name": "stderr",
     "output_type": "stream",
     "text": [
      "Global Epoch: 65 | Drop Num: 10: 100%|██████████| 100/100 [03:08<00:00,  1.88s/it]\n"
     ]
    },
    {
     "name": "stdout",
     "output_type": "stream",
     "text": [
      "Global Epoch: 65 | Client 0 | lr: 0.1 | Time: 192.9 | Test Loss: 1.6188 | Test Acc: 55.95% | Attack Acc 64.13%\n"
     ]
    },
    {
     "name": "stderr",
     "output_type": "stream",
     "text": [
      "Global Epoch: 66 | Drop Num: 10: 100%|██████████| 100/100 [03:11<00:00,  1.92s/it]\n"
     ]
    },
    {
     "name": "stdout",
     "output_type": "stream",
     "text": [
      "Global Epoch: 66 | Client 0 | lr: 0.1 | Time: 196.3 | Test Loss: 1.7577 | Test Acc: 53.91% | Attack Acc 64.20%\n"
     ]
    },
    {
     "name": "stderr",
     "output_type": "stream",
     "text": [
      "Global Epoch: 67 | Drop Num: 10: 100%|██████████| 100/100 [03:09<00:00,  1.90s/it]\n"
     ]
    },
    {
     "name": "stdout",
     "output_type": "stream",
     "text": [
      "Global Epoch: 67 | Client 0 | lr: 0.1 | Time: 194.5 | Test Loss: 1.5488 | Test Acc: 57.62% | Attack Acc 70.20%\n"
     ]
    },
    {
     "name": "stderr",
     "output_type": "stream",
     "text": [
      "Global Epoch: 68 | Drop Num: 10: 100%|██████████| 100/100 [03:11<00:00,  1.91s/it]\n"
     ]
    },
    {
     "name": "stdout",
     "output_type": "stream",
     "text": [
      "Global Epoch: 68 | Client 0 | lr: 0.1 | Time: 196.3 | Test Loss: 1.8093 | Test Acc: 53.49% | Attack Acc 68.13%\n"
     ]
    },
    {
     "name": "stderr",
     "output_type": "stream",
     "text": [
      "Global Epoch: 69 | Drop Num: 10: 100%|██████████| 100/100 [03:08<00:00,  1.89s/it]\n"
     ]
    },
    {
     "name": "stdout",
     "output_type": "stream",
     "text": [
      "Global Epoch: 69 | Client 0 | lr: 0.1 | Time: 193.7 | Test Loss: 1.6434 | Test Acc: 55.28% | Attack Acc 69.27%\n"
     ]
    },
    {
     "name": "stderr",
     "output_type": "stream",
     "text": [
      "Global Epoch: 70 | Drop Num: 10: 100%|██████████| 100/100 [03:08<00:00,  1.88s/it]\n"
     ]
    },
    {
     "name": "stdout",
     "output_type": "stream",
     "text": [
      "Global Epoch: 70 | Client 0 | lr: 0.1 | Time: 193.4 | Test Loss: 1.9011 | Test Acc: 51.54% | Attack Acc 69.34%\n"
     ]
    },
    {
     "name": "stderr",
     "output_type": "stream",
     "text": [
      "Global Epoch: 71 | Drop Num: 10: 100%|██████████| 100/100 [03:10<00:00,  1.90s/it]\n"
     ]
    },
    {
     "name": "stdout",
     "output_type": "stream",
     "text": [
      "Global Epoch: 71 | Client 0 | lr: 0.1 | Time: 195.0 | Test Loss: 1.5242 | Test Acc: 58.17% | Attack Acc 65.14%\n"
     ]
    },
    {
     "name": "stderr",
     "output_type": "stream",
     "text": [
      "Global Epoch: 72 | Drop Num: 10: 100%|██████████| 100/100 [03:08<00:00,  1.89s/it]\n"
     ]
    },
    {
     "name": "stdout",
     "output_type": "stream",
     "text": [
      "Global Epoch: 72 | Client 0 | lr: 0.1 | Time: 193.6 | Test Loss: 1.9239 | Test Acc: 52.13% | Attack Acc 64.40%\n"
     ]
    },
    {
     "name": "stderr",
     "output_type": "stream",
     "text": [
      "Global Epoch: 73 | Drop Num: 10: 100%|██████████| 100/100 [03:09<00:00,  1.90s/it]\n"
     ]
    },
    {
     "name": "stdout",
     "output_type": "stream",
     "text": [
      "Global Epoch: 73 | Client 0 | lr: 0.1 | Time: 194.5 | Test Loss: 1.5669 | Test Acc: 57.41% | Attack Acc 68.69%\n"
     ]
    },
    {
     "name": "stderr",
     "output_type": "stream",
     "text": [
      "Global Epoch: 74 | Drop Num: 10: 100%|██████████| 100/100 [03:10<00:00,  1.90s/it]\n"
     ]
    },
    {
     "name": "stdout",
     "output_type": "stream",
     "text": [
      "Global Epoch: 74 | Client 0 | lr: 0.1 | Time: 194.8 | Test Loss: 1.9889 | Test Acc: 52.32% | Attack Acc 65.74%\n"
     ]
    },
    {
     "name": "stderr",
     "output_type": "stream",
     "text": [
      "Global Epoch: 75 | Drop Num: 10: 100%|██████████| 100/100 [03:08<00:00,  1.89s/it]\n"
     ]
    },
    {
     "name": "stdout",
     "output_type": "stream",
     "text": [
      "Global Epoch: 75 | Client 0 | lr: 0.1 | Time: 193.8 | Test Loss: 1.6148 | Test Acc: 56.82% | Attack Acc 65.55%\n"
     ]
    },
    {
     "name": "stderr",
     "output_type": "stream",
     "text": [
      "Global Epoch: 76 | Drop Num: 10: 100%|██████████| 100/100 [03:08<00:00,  1.88s/it]\n"
     ]
    },
    {
     "name": "stdout",
     "output_type": "stream",
     "text": [
      "Global Epoch: 76 | Client 0 | lr: 0.1 | Time: 193.2 | Test Loss: 1.9651 | Test Acc: 51.95% | Attack Acc 71.01%\n"
     ]
    },
    {
     "name": "stderr",
     "output_type": "stream",
     "text": [
      "Global Epoch: 77 | Drop Num: 10: 100%|██████████| 100/100 [03:08<00:00,  1.89s/it]\n"
     ]
    },
    {
     "name": "stdout",
     "output_type": "stream",
     "text": [
      "Global Epoch: 77 | Client 0 | lr: 0.1 | Time: 193.4 | Test Loss: 1.5946 | Test Acc: 57.13% | Attack Acc 66.89%\n"
     ]
    },
    {
     "name": "stderr",
     "output_type": "stream",
     "text": [
      "Global Epoch: 78 | Drop Num: 10: 100%|██████████| 100/100 [03:11<00:00,  1.91s/it]\n"
     ]
    },
    {
     "name": "stdout",
     "output_type": "stream",
     "text": [
      "Global Epoch: 78 | Client 0 | lr: 0.1 | Time: 196.2 | Test Loss: 2.0029 | Test Acc: 51.17% | Attack Acc 65.01%\n"
     ]
    },
    {
     "name": "stderr",
     "output_type": "stream",
     "text": [
      "Global Epoch: 79 | Drop Num: 10: 100%|██████████| 100/100 [03:08<00:00,  1.89s/it]\n"
     ]
    },
    {
     "name": "stdout",
     "output_type": "stream",
     "text": [
      "Global Epoch: 79 | Client 0 | lr: 0.1 | Time: 193.7 | Test Loss: 1.7973 | Test Acc: 53.15% | Attack Acc 67.95%\n"
     ]
    },
    {
     "name": "stderr",
     "output_type": "stream",
     "text": [
      "Global Epoch: 80 | Drop Num: 10: 100%|██████████| 100/100 [03:08<00:00,  1.89s/it]\n"
     ]
    },
    {
     "name": "stdout",
     "output_type": "stream",
     "text": [
      "Global Epoch: 80 | Client 0 | lr: 0.1 | Time: 193.7 | Test Loss: 2.2477 | Test Acc: 47.82% | Attack Acc 64.20%\n"
     ]
    },
    {
     "name": "stderr",
     "output_type": "stream",
     "text": [
      "Global Epoch: 81 | Drop Num: 10: 100%|██████████| 100/100 [03:09<00:00,  1.89s/it]\n"
     ]
    },
    {
     "name": "stdout",
     "output_type": "stream",
     "text": [
      "Global Epoch: 81 | Client 0 | lr: 0.1 | Time: 194.1 | Test Loss: 1.9806 | Test Acc: 51.44% | Attack Acc 63.66%\n"
     ]
    },
    {
     "name": "stderr",
     "output_type": "stream",
     "text": [
      "Global Epoch: 82 | Drop Num: 10: 100%|██████████| 100/100 [03:09<00:00,  1.90s/it]\n"
     ]
    },
    {
     "name": "stdout",
     "output_type": "stream",
     "text": [
      "Global Epoch: 82 | Client 0 | lr: 0.1 | Time: 195.0 | Test Loss: 2.0794 | Test Acc: 50.17% | Attack Acc 55.45%\n"
     ]
    },
    {
     "name": "stderr",
     "output_type": "stream",
     "text": [
      "Global Epoch: 83 | Drop Num: 10: 100%|██████████| 100/100 [03:10<00:00,  1.90s/it]\n"
     ]
    },
    {
     "name": "stdout",
     "output_type": "stream",
     "text": [
      "Global Epoch: 83 | Client 0 | lr: 0.1 | Time: 195.1 | Test Loss: 1.8518 | Test Acc: 53.58% | Attack Acc 62.41%\n"
     ]
    },
    {
     "name": "stderr",
     "output_type": "stream",
     "text": [
      "Global Epoch: 84 | Drop Num: 10: 100%|██████████| 100/100 [03:10<00:00,  1.90s/it]\n"
     ]
    },
    {
     "name": "stdout",
     "output_type": "stream",
     "text": [
      "Global Epoch: 84 | Client 0 | lr: 0.1 | Time: 195.2 | Test Loss: 2.2070 | Test Acc: 48.23% | Attack Acc 58.63%\n"
     ]
    },
    {
     "name": "stderr",
     "output_type": "stream",
     "text": [
      "Global Epoch: 85 | Drop Num: 10: 100%|██████████| 100/100 [03:10<00:00,  1.91s/it]\n"
     ]
    },
    {
     "name": "stdout",
     "output_type": "stream",
     "text": [
      "Global Epoch: 85 | Client 0 | lr: 0.1 | Time: 195.6 | Test Loss: 1.9411 | Test Acc: 52.84% | Attack Acc 63.76%\n"
     ]
    },
    {
     "name": "stderr",
     "output_type": "stream",
     "text": [
      "Global Epoch: 86 | Drop Num: 10: 100%|██████████| 100/100 [03:09<00:00,  1.90s/it]\n"
     ]
    },
    {
     "name": "stdout",
     "output_type": "stream",
     "text": [
      "Global Epoch: 86 | Client 0 | lr: 0.1 | Time: 194.7 | Test Loss: 2.0457 | Test Acc: 51.75% | Attack Acc 70.47%\n"
     ]
    },
    {
     "name": "stderr",
     "output_type": "stream",
     "text": [
      "Global Epoch: 87 | Drop Num: 10: 100%|██████████| 100/100 [03:11<00:00,  1.92s/it]\n"
     ]
    },
    {
     "name": "stdout",
     "output_type": "stream",
     "text": [
      "Global Epoch: 87 | Client 0 | lr: 0.1 | Time: 196.7 | Test Loss: 2.2937 | Test Acc: 47.55% | Attack Acc 63.79%\n"
     ]
    },
    {
     "name": "stderr",
     "output_type": "stream",
     "text": [
      "Global Epoch: 88 | Drop Num: 10: 100%|██████████| 100/100 [03:10<00:00,  1.90s/it]\n"
     ]
    },
    {
     "name": "stdout",
     "output_type": "stream",
     "text": [
      "Global Epoch: 88 | Client 0 | lr: 0.1 | Time: 195.1 | Test Loss: 2.0001 | Test Acc: 51.29% | Attack Acc 62.14%\n"
     ]
    },
    {
     "name": "stderr",
     "output_type": "stream",
     "text": [
      "Global Epoch: 89 | Drop Num: 10: 100%|██████████| 100/100 [03:10<00:00,  1.91s/it]\n"
     ]
    },
    {
     "name": "stdout",
     "output_type": "stream",
     "text": [
      "Global Epoch: 89 | Client 0 | lr: 0.1 | Time: 195.6 | Test Loss: 2.4356 | Test Acc: 46.87% | Attack Acc 64.32%\n"
     ]
    },
    {
     "name": "stderr",
     "output_type": "stream",
     "text": [
      "Global Epoch: 90 | Drop Num: 10: 100%|██████████| 100/100 [03:09<00:00,  1.90s/it]\n"
     ]
    },
    {
     "name": "stdout",
     "output_type": "stream",
     "text": [
      "Global Epoch: 90 | Client 0 | lr: 0.1 | Time: 194.8 | Test Loss: 1.9163 | Test Acc: 53.34% | Attack Acc 62.60%\n"
     ]
    },
    {
     "name": "stderr",
     "output_type": "stream",
     "text": [
      "Global Epoch: 91 | Drop Num: 10: 100%|██████████| 100/100 [03:11<00:00,  1.91s/it]\n"
     ]
    },
    {
     "name": "stdout",
     "output_type": "stream",
     "text": [
      "Global Epoch: 91 | Client 0 | lr: 0.1 | Time: 195.8 | Test Loss: 2.7816 | Test Acc: 43.68% | Attack Acc 62.60%\n"
     ]
    },
    {
     "name": "stderr",
     "output_type": "stream",
     "text": [
      "Global Epoch: 92 | Drop Num: 10: 100%|██████████| 100/100 [03:10<00:00,  1.91s/it]\n"
     ]
    },
    {
     "name": "stdout",
     "output_type": "stream",
     "text": [
      "Global Epoch: 92 | Client 0 | lr: 0.1 | Time: 195.5 | Test Loss: 1.7164 | Test Acc: 56.34% | Attack Acc 66.52%\n"
     ]
    },
    {
     "name": "stderr",
     "output_type": "stream",
     "text": [
      "Global Epoch: 93 | Drop Num: 10: 100%|██████████| 100/100 [03:12<00:00,  1.92s/it]\n"
     ]
    },
    {
     "name": "stdout",
     "output_type": "stream",
     "text": [
      "Global Epoch: 93 | Client 0 | lr: 0.1 | Time: 197.5 | Test Loss: 2.9249 | Test Acc: 41.87% | Attack Acc 63.23%\n"
     ]
    },
    {
     "name": "stderr",
     "output_type": "stream",
     "text": [
      "Global Epoch: 94 | Drop Num: 10: 100%|██████████| 100/100 [03:11<00:00,  1.91s/it]\n"
     ]
    },
    {
     "name": "stdout",
     "output_type": "stream",
     "text": [
      "Global Epoch: 94 | Client 0 | lr: 0.1 | Time: 196.0 | Test Loss: 1.8332 | Test Acc: 54.00% | Attack Acc 62.40%\n"
     ]
    },
    {
     "name": "stderr",
     "output_type": "stream",
     "text": [
      "Global Epoch: 95 | Drop Num: 10: 100%|██████████| 100/100 [03:11<00:00,  1.91s/it]\n"
     ]
    },
    {
     "name": "stdout",
     "output_type": "stream",
     "text": [
      "Global Epoch: 95 | Client 0 | lr: 0.1 | Time: 196.1 | Test Loss: 2.7813 | Test Acc: 44.03% | Attack Acc 63.27%\n"
     ]
    },
    {
     "name": "stderr",
     "output_type": "stream",
     "text": [
      "Global Epoch: 96 | Drop Num: 10: 100%|██████████| 100/100 [03:09<00:00,  1.90s/it]\n"
     ]
    },
    {
     "name": "stdout",
     "output_type": "stream",
     "text": [
      "Global Epoch: 96 | Client 0 | lr: 0.1 | Time: 194.2 | Test Loss: 2.0277 | Test Acc: 52.02% | Attack Acc 67.23%\n"
     ]
    },
    {
     "name": "stderr",
     "output_type": "stream",
     "text": [
      "Global Epoch: 97 | Drop Num: 10: 100%|██████████| 100/100 [03:09<00:00,  1.89s/it]\n"
     ]
    },
    {
     "name": "stdout",
     "output_type": "stream",
     "text": [
      "Global Epoch: 97 | Client 0 | lr: 0.1 | Time: 193.9 | Test Loss: 2.8523 | Test Acc: 43.06% | Attack Acc 64.90%\n"
     ]
    },
    {
     "name": "stderr",
     "output_type": "stream",
     "text": [
      "Global Epoch: 98 | Drop Num: 10: 100%|██████████| 100/100 [03:11<00:00,  1.91s/it]\n"
     ]
    },
    {
     "name": "stdout",
     "output_type": "stream",
     "text": [
      "Global Epoch: 98 | Client 0 | lr: 0.1 | Time: 196.3 | Test Loss: 2.0234 | Test Acc: 51.67% | Attack Acc 68.42%\n"
     ]
    },
    {
     "name": "stderr",
     "output_type": "stream",
     "text": [
      "Global Epoch: 99 | Drop Num: 10: 100%|██████████| 100/100 [03:13<00:00,  1.94s/it]\n"
     ]
    },
    {
     "name": "stdout",
     "output_type": "stream",
     "text": [
      "Global Epoch: 99 | Client 0 | lr: 0.1 | Time: 198.7 | Test Loss: 2.7975 | Test Acc: 43.68% | Attack Acc 59.56%\n"
     ]
    }
   ],
   "source": [
    "all_clients = range(clients)\n",
    "split_index, flat_indice = FlatSplitParams(copy.deepcopy(glob_model), clients)\n",
    "lr = [learning_rate] * clients\n",
    "sec_record, acc_record, loss_record, time_record = [], [], [], []\n",
    "last_ws = [[]] * clients\n",
    "test_sec_model = copy.deepcopy(glob_model)\n",
    "criterion = nn.CrossEntropyLoss()\n",
    "ontrain_frac = 1 - drop_frac\n",
    "dp_strong = 10000\n",
    "\n",
    "for j in range(glob_epochs):\n",
    "   drop_users = random.sample(all_clients[1:], int(clients * drop_frac) ) # client 0 is used to evaluate security\n",
    "   nondrop_users = [x for x in range(clients) if x not in drop_users]\n",
    "   w_locals, weight_slices, noise_slices = [], [], []\n",
    "   start_time = time.time()\n",
    "   # print(\"Global Epoch: \", j, \" | Drop clients: \", drop_users)\n",
    "   for i in tqdm(range(clients), desc=f\"Global Epoch: {j} | Drop Num: {len(drop_users)}\"):\n",
    "      if i in drop_users:\n",
    "         weight_slices.insert(i, \"D\")\n",
    "         noise_slices.insert(i, \"D\")\n",
    "         continue\n",
    "      \n",
    "      if mechanism == 'None':\n",
    "        w = nor_train(copy.deepcopy(glob_model), device, i, lr, local_epochs, train_loader[i], rate_decay)\n",
    "      # elif mechanism == 'DP':\n",
    "      #    w = dp_train(copy.deepcopy(glob_model), device, i, lr, local_epochs, batch_size, train_loader[i], test_loader[i], train_data[i], train_targets[i], test_data[i],\n",
    "      #                 test_targets[i], audit_data[i], audit_targets[i], sec_record, q, batch_size, clip, sigma, len(train_loader[i]))\n",
    "      elif mechanism == 'DP2':\n",
    "         w = dp_trainv2(copy.deepcopy(glob_model), device, i, lr, local_epochs, train_loader[i], eps, delta, glob_epochs, clip, ontrain_frac, rate_decay, dp_strong)\n",
    "      elif mechanism == 'Proposed':\n",
    "         w, weight_slice, noise_slice = proposed_train(copy.deepcopy(glob_model), device, i, lr, local_epochs, glob_epochs, train_loader[i], eps, delta, \n",
    "                                                       split_index, flat_indice, clients, clip, ontrain_frac, rate_decay, dp_strong)\n",
    "         weight_slices.insert(i, weight_slice)\n",
    "         noise_slices.insert(i, noise_slice)\n",
    "      elif mechanism == 'Indust':\n",
    "         w, last_w = indust_train(copy.deepcopy(glob_model), device, i, lr, local_epochs, train_loader[i], last_ws, flat_indice, clip, delta, glob_epochs, \n",
    "                                  eps, ontrain_frac, rate_decay, dp_strong)\n",
    "         last_ws[i] = last_w\n",
    "      else:\n",
    "         print(\"Please select a mechanism above.\")\n",
    "         exit()\n",
    "      w_locals.append(copy.deepcopy(w))\n",
    "\n",
    "   if mechanism == 'Proposed':\n",
    "      for i, id in enumerate(nondrop_users):\n",
    "         ProtectWeight(w_locals[i], noise_slices, weight_slices, split_index, id, flat_indice, device, clip)\n",
    "   \n",
    "   new_glob_w = aggregate(w_locals, device)\n",
    "   time_record.append(time.time() - start_time)\n",
    "   \n",
    "   random_id = nondrop_users[0] # randon choose a client\n",
    "   # Evaluate specific user's security\n",
    "   test_sec_model.load_state_dict(copy.deepcopy(w_locals[0]))\n",
    "   loss_audit_results = sec_func(copy.deepcopy(test_sec_model), criterion, device, train_data[random_id], train_targets[random_id], test_data[random_id], test_targets[random_id], audit_data[random_id], audit_targets[random_id])\n",
    "   sec_acc = loss_audit_results[0].roc_auc if loss_audit_results[0].roc_auc != 0.00 else float(loss_audit_results[0].accuracy[0]) # roc_acc = 0 means attacker can't identity member or non-member\n",
    "   sec_record.append(sec_acc)\n",
    "   # Evaluate global model's accuracy and loss\n",
    "   # new_glob_w = aggregate(w_locals, device)\n",
    "   glob_model.load_state_dict(copy.deepcopy(new_glob_w))\n",
    "   glob_loss, glob_acc = test(copy.deepcopy(glob_model), device, evl_loader)\n",
    "   acc_record.append(glob_acc)\n",
    "   loss_record.append(glob_loss)\n",
    "   # time_record.append(time.time() - start_time)\n",
    "   print(f\"Global Epoch: {j} | Client {random_id} | lr: {lr[random_id]} | Time: {time.time() - start_time:.1f} | Test Loss: {glob_loss:.4f} | Test Acc: {glob_acc:.2f}% | Attack Acc {100 * sec_acc:.2f}%\")"
   ]
  },
  {
   "cell_type": "code",
   "execution_count": 10,
   "metadata": {},
   "outputs": [
    {
     "data": {
      "image/png": "[encoded data removed]",
      "text/plain": [
       "<Figure size 640x480 with 1 Axes>"
      ]
     },
     "metadata": {},
     "output_type": "display_data"
    }
   ],
   "source": [
    "plt.figure()\n",
    "plt.ylabel('Attack Accuracy')\n",
    "plt.xlabel('Global Epoch')\n",
    "plt.plot(range(len(sec_record)), sec_record, label='{}'.format(mechanism))\n",
    "plt.title('{} Attack Accuracy'.format('Cifar'))\n",
    "plt.legend()\n",
    "plt.savefig('attack_acc.png')"
   ]
  },
  {
   "cell_type": "code",
   "execution_count": 11,
   "metadata": {},
   "outputs": [
    {
     "data": {
      "image/png": "[encoded data removed]",
      "text/plain": [
       "<Figure size 640x480 with 1 Axes>"
      ]
     },
     "metadata": {},
     "output_type": "display_data"
    }
   ],
   "source": [
    "plt.figure()\n",
    "plt.ylabel('Test Accuracy')\n",
    "plt.xlabel('Global Epoch')\n",
    "plt.plot(range(len(acc_record)), acc_record, label='{}'.format(mechanism))\n",
    "plt.title('{} Accuracy'.format('Cifar'))\n",
    "plt.legend()\n",
    "plt.savefig('acc.png')"
   ]
  },
  {
   "cell_type": "code",
   "execution_count": 12,
   "metadata": {},
   "outputs": [
    {
     "data": {
      "image/png": "[encoded data removed]",
      "text/plain": [
       "<Figure size 640x480 with 1 Axes>"
      ]
     },
     "metadata": {},
     "output_type": "display_data"
    }
   ],
   "source": [
    "plt.figure()\n",
    "plt.ylabel('Test Loss')\n",
    "plt.xlabel('Global Epoch')\n",
    "plt.plot(range(len(loss_record)), loss_record, label='{}'.format(mechanism))\n",
    "plt.title('{} Loss'.format('Cifar'))\n",
    "plt.legend()\n",
    "plt.savefig('loss.png')"
   ]
  },
  {
   "cell_type": "code",
   "execution_count": 13,
   "metadata": {},
   "outputs": [],
   "source": [
    "if not os.path.exists(rootpath):\n",
    "    os.makedirs(rootpath)\n",
    "\n",
    "accfile = open(rootpath + '/acc_{}_{}_{}_drop_{}_iid{}_bs_{}_lr_{}_G_epochs_{}_epsilon_{}_clip_{}_decay{}.dat'.\n",
    "                    format('cifar', model_name, mechanism, drop_frac, iid, batch_size,\n",
    "                           learning_rate, glob_epochs, eps, clip, rate_decay), \"w\")\n",
    "lossfile = open(rootpath + '/loss_{}_{}_{}_drop_{}_iid{}_bs_{}_lr_{}_G_epochs_{}_epsilon_{}_clip_{}_decay{}.dat'.\n",
    "                    format('cifar', model_name, mechanism, drop_frac, iid, batch_size,\n",
    "                           learning_rate, glob_epochs, eps, clip, rate_decay), \"w\")\n",
    "secfile = open(rootpath + '/sec_{}_{}_{}_drop_{}_iid{}_bs_{}_lr_{}_G_epochs_{}_epsilon_{}_clip_{}_decay{}.dat'.\n",
    "                    format('cifar', model_name, mechanism, drop_frac, iid, batch_size,\n",
    "                           learning_rate, glob_epochs, eps, clip, rate_decay), \"w\")\n",
    "\n",
    "tac = str(sum(time_record)) # write execution time in first line of accfile\n",
    "accfile.write(tac)\n",
    "accfile.write('\\n')\n",
    "for ac in acc_record:\n",
    "    sac = str(ac)\n",
    "    accfile.write(sac)\n",
    "    accfile.write('\\n')\n",
    "accfile.close()\n",
    "\n",
    "for lo in loss_record:\n",
    "    slo = str(lo)\n",
    "    lossfile.write(slo)\n",
    "    lossfile.write('\\n')\n",
    "lossfile.close()\n",
    "\n",
    "for se in sec_record:\n",
    "    sse = str(se)\n",
    "    secfile.write(sse)\n",
    "    secfile.write('\\n')\n",
    "secfile.close()"
   ]
  }
 ],
 "metadata": {
  "kernelspec": {
   "display_name": "privacy_meter_test",
   "language": "python",
   "name": "python3"
  },
  "language_info": {
   "codemirror_mode": {
    "name": "ipython",
    "version": 3
   },
   "file_extension": ".py",
   "mimetype": "text/x-python",
   "name": "python",
   "nbconvert_exporter": "python",
   "pygments_lexer": "ipython3",
   "version": "3.9.16"
  },
  "orig_nbformat": 4,
  "vscode": {
   "interpreter": {
    "hash": "af48e0a30d2a0b619bf296aea7d7271ba14c9beb98b0928b3e23c82f12ae949a"
   }
  }
 },
 "nbformat": 4,
 "nbformat_minor": 2
}
