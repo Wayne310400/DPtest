{
 "cells": [
  {
   "attachments": {},
   "cell_type": "markdown",
   "metadata": {},
   "source": [
    "# Whitebox attack using privacy meter"
   ]
  },
  {
   "attachments": {},
   "cell_type": "markdown",
   "metadata": {},
   "source": [
    "# Import"
   ]
  },
  {
   "cell_type": "code",
   "execution_count": 1,
   "metadata": {},
   "outputs": [
    {
     "name": "stderr",
     "output_type": "stream",
     "text": [
      "/home/wayne/.local/lib/python3.9/site-packages/tqdm/auto.py:21: TqdmWarning: IProgress not found. Please update jupyter and ipywidgets. See https://ipywidgets.readthedocs.io/en/stable/user_install.html\n",
      "  from .autonotebook import tqdm as notebook_tqdm\n",
      "2023-05-07 15:56:27.485582: I tensorflow/core/platform/cpu_feature_guard.cc:193] This TensorFlow binary is optimized with oneAPI Deep Neural Network Library (oneDNN) to use the following CPU instructions in performance-critical operations:  AVX2 FMA\n",
      "To enable them in other operations, rebuild TensorFlow with the appropriate compiler flags.\n",
      "2023-05-07 15:56:27.969315: W tensorflow/compiler/xla/stream_executor/platform/default/dso_loader.cc:64] Could not load dynamic library 'libnvinfer.so.7'; dlerror: libnvinfer.so.7: cannot open shared object file: No such file or directory\n",
      "2023-05-07 15:56:27.969362: W tensorflow/compiler/xla/stream_executor/platform/default/dso_loader.cc:64] Could not load dynamic library 'libnvinfer_plugin.so.7'; dlerror: libnvinfer_plugin.so.7: cannot open shared object file: No such file or directory\n",
      "2023-05-07 15:56:27.969367: W tensorflow/compiler/tf2tensorrt/utils/py_utils.cc:38] TF-TRT Warning: Cannot dlopen some TensorRT libraries. If you would like to use Nvidia GPU with TensorRT, please make sure the missing libraries mentioned above are installed properly.\n"
     ]
    }
   ],
   "source": [
    "import numpy as np\n",
    "import matplotlib.pyplot as plt\n",
    "import torch\n",
    "import torchvision\n",
    "import copy\n",
    "import random\n",
    "import os\n",
    "import time\n",
    "\n",
    "from torch import nn\n",
    "from tqdm import tqdm\n",
    "from ast import List\n",
    "from torchvision import transforms\n",
    "from model import Net, CNNMnist, CNNCifar, LeNet, ResNet, ResidualBlock\n",
    "from train import nor_train, dp_train, dp_trainv2, proposed_train\n",
    "from util import sec_func, test\n",
    "from fed import ProtectWeight, FlatSplitParams, aggregate\n",
    "\n",
    "random.seed(123)\n",
    "np.random.seed(123)\n",
    "torch.manual_seed(123)\n",
    "torch.cuda.manual_seed_all(123)\n",
    "torch.cuda.manual_seed(123)"
   ]
  },
  {
   "attachments": {},
   "cell_type": "markdown",
   "metadata": {},
   "source": [
    "# Define hyper-parameters"
   ]
  },
  {
   "cell_type": "code",
   "execution_count": 2,
   "metadata": {},
   "outputs": [
    {
     "name": "stdout",
     "output_type": "stream",
     "text": [
      "sensitivity:  5.9999999999999995e-05\n",
      "sigma:  529.8802526850474\n",
      "sensitivity * sigma:  0.03179281516110284\n"
     ]
    }
   ],
   "source": [
    "# for training the target model\n",
    "num_train_points = 500\n",
    "num_test_points = 500\n",
    "num_population_points = 1000\n",
    "batch_size = 64\n",
    "learning_rate = 0.01\n",
    "local_epochs = 10\n",
    "clients = 100\n",
    "glob_epochs = 100\n",
    "drop_frac = 0.1\n",
    "\n",
    "q = 0.9 # sampling rate\n",
    "eps = 1.0 # privacy budget\n",
    "delta = 10e-5 # probability of something bad happening\n",
    "clip = 1.5\n",
    "# laplace noise: [np.random.laplace(loc=0, scale=1/epsilon) for x in range(100000)]\n",
    "sensitivity = 2 * learning_rate * clip  / num_train_points\n",
    "sigma = np.sqrt(2 * np.log(1.25 / (delta/ glob_epochs))) * 1 / (eps/ glob_epochs)\n",
    "# gaussian noise: vals_gauss = [np.random.normal(loc=0, scale=sigma) for x in range(100000)]\n",
    "print(\"sensitivity: \", sensitivity)\n",
    "print(\"sigma: \", sigma)\n",
    "print(\"sensitivity * sigma: \", sensitivity * sigma)\n",
    "\n",
    "device = 'cuda' if torch.cuda.is_available() else 'cpu' # you can change it to 'cuda' if you have GPU\n",
    "rootpath = './log'\n",
    "mechanism = \"None\"\n",
    "model_name = 'resnet'"
   ]
  },
  {
   "attachments": {},
   "cell_type": "markdown",
   "metadata": {},
   "source": [
    "# Create the data"
   ]
  },
  {
   "attachments": {},
   "cell_type": "markdown",
   "metadata": {},
   "source": [
    "Load all the data"
   ]
  },
  {
   "cell_type": "code",
   "execution_count": 3,
   "metadata": {},
   "outputs": [
    {
     "name": "stdout",
     "output_type": "stream",
     "text": [
      "Files already downloaded and verified\n"
     ]
    }
   ],
   "source": [
    "# transform = transforms.Compose([\n",
    "#     transforms.RandomCrop(32, padding=4),\n",
    "#     transforms.RandomHorizontalFlip(),\n",
    "#     transforms.ToTensor(),\n",
    "#     transforms.Normalize((0.4914, 0.4822, 0.4465), (0.2023, 0.1994, 0.2010)),\n",
    "# ])\n",
    "\n",
    "transform = transforms.Compose([\n",
    "    transforms.RandomCrop(32, padding=4),\n",
    "    transforms.RandomHorizontalFlip(),\n",
    "    transforms.ToTensor(),\n",
    "])\n",
    "\n",
    "# transform = transforms.Compose([\n",
    "# #     transforms.Resize((32,32)),  #resises the image so it can be perfect for our model.\n",
    "#     transforms.RandomHorizontalFlip(), # FLips the image w.r.t horizontal axis\n",
    "#     transforms.RandomRotation(10),     #Rotates the image to a specified angel\n",
    "#     transforms.RandomAffine(0, shear=10, scale=(0.8,1.2)), #Performs actions like zooms, change shear angles.\n",
    "#     transforms.ColorJitter(brightness=0.2, contrast=0.2, saturation=0.2), # Set the color params\n",
    "#     transforms.ToTensor(), # comvert the image to tensor so that it can work with torch\n",
    "# #     transforms.Normalize((0.5, 0.5, 0.5), (0.5, 0.5, 0.5)) #Normalize all the images\n",
    "# ])\n",
    "\n",
    "# transform = transforms.Compose([\n",
    "#     transforms.ToTensor(),\n",
    "#     transforms.Normalize((0.4914, 0.4822, 0.4465), (0.2023, 0.1994, 0.2010)),\n",
    "# ])\n",
    "# transform = transforms.Compose([transforms.ToTensor()])\n",
    "\n",
    "all_data = torchvision.datasets.CIFAR10(\n",
    "    root='.', train=True, download=True, transform=transform\n",
    ")\n",
    "# test_data = torchvision.datasets.CIFAR10(\n",
    "#     root='.', train=False, download=True, transform=transform\n",
    "# )\n",
    "# all_features = np.concatenate([all_data.data, test_data.data], axis=0)\n",
    "# all_targets = np.concatenate([all_data.targets, test_data.targets], axis=0)\n",
    "\n",
    "# all_data.data = all_features\n",
    "# all_data.targets = all_targets"
   ]
  },
  {
   "cell_type": "code",
   "execution_count": 4,
   "metadata": {},
   "outputs": [],
   "source": [
    "def get_dataset_subset(dataset: torchvision.datasets, index: List(int)):\n",
    "    \"\"\"Get a subset of the dataset.\n",
    "\n",
    "    Args:\n",
    "        dataset (torchvision.datasets): Whole dataset.\n",
    "        index (list): List of index.\n",
    "    \"\"\"\n",
    "    assert max(index) < len(dataset) and min(index) >= 0, \"Index out of range\"\n",
    "    data = (\n",
    "        torch.from_numpy(dataset.data[index]).float().permute(0, 3, 1, 2) / 255\n",
    "    )  # channel first\n",
    "    targets = list(np.array(dataset.targets)[index])\n",
    "    targets = torch.tensor(targets, dtype=torch.long)\n",
    "    return data, targets"
   ]
  },
  {
   "attachments": {},
   "cell_type": "markdown",
   "metadata": {},
   "source": [
    "Split the data into train, test and population"
   ]
  },
  {
   "cell_type": "code",
   "execution_count": 5,
   "metadata": {},
   "outputs": [],
   "source": [
    "chosen_index = []\n",
    "train_data, train_targets, test_data, test_targets, audit_data, audit_targets, train_index, test_index = [], [], [], [], [], [], [], []\n",
    "\n",
    "all_index = np.arange(len(all_data))\n",
    "for i in range(clients):\n",
    "  train_i = np.random.choice([i for i in all_index if i not in chosen_index], num_train_points, replace=False)\n",
    "  test_i = np.random.choice([i for i in all_index if i not in train_i], num_test_points, replace=False)\n",
    "  population_index = np.random.choice([i for i in all_index if i not in train_i and i not in test_i], num_population_points, replace=False)\n",
    "  chosen_index = np.concatenate((chosen_index,train_i))\n",
    "\n",
    "  train_d, train_t = get_dataset_subset(all_data, train_i)\n",
    "  test_d, test_t = get_dataset_subset(all_data, test_i)\n",
    "  audit_d, audit_t = get_dataset_subset(all_data, population_index)\n",
    "  train_data.insert(i, train_d)\n",
    "  train_targets.insert(i, train_t)\n",
    "  test_data.insert(i, test_d)\n",
    "  test_targets.insert(i, test_t)\n",
    "  audit_data.insert(i, audit_d)\n",
    "  audit_targets.insert(i, audit_t)\n",
    "  train_index.insert(i, train_i)\n",
    "  test_index.insert(i, test_i)"
   ]
  },
  {
   "attachments": {},
   "cell_type": "markdown",
   "metadata": {},
   "source": [
    "Create the data loader for training the target model"
   ]
  },
  {
   "cell_type": "code",
   "execution_count": 6,
   "metadata": {},
   "outputs": [],
   "source": [
    "train_loader, test_loader = [], []\n",
    "for i in range(clients):\n",
    "  train_l = torch.utils.data.DataLoader(\n",
    "              torch.utils.data.Subset(all_data,train_index[i]),\n",
    "              batch_size=batch_size,\n",
    "              shuffle=True,\n",
    "              num_workers=4,\n",
    "              pin_memory=True,\n",
    "              persistent_workers=True,\n",
    "              prefetch_factor=16)\n",
    "  test_l = torch.utils.data.DataLoader(\n",
    "              torch.utils.data.Subset(all_data,test_index[i]),\n",
    "              batch_size=batch_size,\n",
    "              shuffle=True,\n",
    "              num_workers=4,\n",
    "              pin_memory=True,\n",
    "              persistent_workers=True,\n",
    "              prefetch_factor=16)\n",
    "  train_loader.insert(i, train_l)\n",
    "  test_loader.insert(i, test_l)"
   ]
  },
  {
   "cell_type": "code",
   "execution_count": 7,
   "metadata": {},
   "outputs": [
    {
     "name": "stdout",
     "output_type": "stream",
     "text": [
      "Files already downloaded and verified\n"
     ]
    }
   ],
   "source": [
    "transform = transforms.Compose([transforms.ToTensor()])\n",
    "evl_data = torchvision.datasets.CIFAR10(\n",
    "    root='.', train=False, download=True, transform=transform\n",
    ")\n",
    "evl_index = np.arange(len(evl_data))\n",
    "# eval_index = np.random.choice([i for i in evl_index], int(num_train_points * 0.25), replace=False)\n",
    "evl_loader = torch.utils.data.DataLoader(\n",
    "            #   torch.utils.data.Subset(evl_data,eval_index),\n",
    "              evl_data,\n",
    "              batch_size=batch_size,\n",
    "              shuffle=False,\n",
    "              num_workers=4,\n",
    "              pin_memory=True,\n",
    "              persistent_workers=True,\n",
    "              prefetch_factor=16)"
   ]
  },
  {
   "attachments": {},
   "cell_type": "markdown",
   "metadata": {},
   "source": [
    "# Train the target model"
   ]
  },
  {
   "cell_type": "code",
   "execution_count": 8,
   "metadata": {},
   "outputs": [
    {
     "name": "stderr",
     "output_type": "stream",
     "text": [
      "Global Epoch: 0 | Drop Num: 10: 100%|██████████| 100/100 [01:28<00:00,  1.12it/s]\n"
     ]
    },
    {
     "name": "stdout",
     "output_type": "stream",
     "text": [
      "Global Epoch: 0 | Client 0 | Time: 90.0 | Test Loss: 2.0516 | Test Acc: 24.14% | Attack Acc 54.26%\n"
     ]
    },
    {
     "name": "stderr",
     "output_type": "stream",
     "text": [
      "Global Epoch: 1 | Drop Num: 10: 100%|██████████| 100/100 [01:01<00:00,  1.63it/s]\n"
     ]
    },
    {
     "name": "stdout",
     "output_type": "stream",
     "text": [
      "Global Epoch: 1 | Client 0 | Time: 62.2 | Test Loss: 1.7855 | Test Acc: 34.73% | Attack Acc 55.97%\n"
     ]
    },
    {
     "name": "stderr",
     "output_type": "stream",
     "text": [
      "Global Epoch: 2 | Drop Num: 10: 100%|██████████| 100/100 [00:59<00:00,  1.69it/s]\n"
     ]
    },
    {
     "name": "stdout",
     "output_type": "stream",
     "text": [
      "Global Epoch: 2 | Client 0 | Time: 60.1 | Test Loss: 1.5392 | Test Acc: 44.75% | Attack Acc 52.33%\n"
     ]
    },
    {
     "name": "stderr",
     "output_type": "stream",
     "text": [
      "Global Epoch: 3 | Drop Num: 10: 100%|██████████| 100/100 [00:58<00:00,  1.70it/s]\n"
     ]
    },
    {
     "name": "stdout",
     "output_type": "stream",
     "text": [
      "Global Epoch: 3 | Client 0 | Time: 59.4 | Test Loss: 1.4553 | Test Acc: 47.26% | Attack Acc 57.48%\n"
     ]
    },
    {
     "name": "stderr",
     "output_type": "stream",
     "text": [
      "Global Epoch: 4 | Drop Num: 10: 100%|██████████| 100/100 [00:58<00:00,  1.71it/s]\n"
     ]
    },
    {
     "name": "stdout",
     "output_type": "stream",
     "text": [
      "Global Epoch: 4 | Client 0 | Time: 59.4 | Test Loss: 1.3287 | Test Acc: 53.67% | Attack Acc 59.97%\n"
     ]
    },
    {
     "name": "stderr",
     "output_type": "stream",
     "text": [
      "Global Epoch: 5 | Drop Num: 10: 100%|██████████| 100/100 [00:58<00:00,  1.70it/s]\n"
     ]
    },
    {
     "name": "stdout",
     "output_type": "stream",
     "text": [
      "Global Epoch: 5 | Client 0 | Time: 59.5 | Test Loss: 1.3245 | Test Acc: 55.66% | Attack Acc 60.15%\n"
     ]
    },
    {
     "name": "stderr",
     "output_type": "stream",
     "text": [
      "Global Epoch: 6 | Drop Num: 10: 100%|██████████| 100/100 [00:58<00:00,  1.71it/s]\n"
     ]
    },
    {
     "name": "stdout",
     "output_type": "stream",
     "text": [
      "Global Epoch: 6 | Client 0 | Time: 59.3 | Test Loss: 1.2321 | Test Acc: 58.00% | Attack Acc 61.85%\n"
     ]
    },
    {
     "name": "stderr",
     "output_type": "stream",
     "text": [
      "Global Epoch: 7 | Drop Num: 10: 100%|██████████| 100/100 [00:58<00:00,  1.70it/s]\n"
     ]
    },
    {
     "name": "stdout",
     "output_type": "stream",
     "text": [
      "Global Epoch: 7 | Client 0 | Time: 59.5 | Test Loss: 1.2730 | Test Acc: 59.57% | Attack Acc 65.19%\n"
     ]
    },
    {
     "name": "stderr",
     "output_type": "stream",
     "text": [
      "Global Epoch: 8 | Drop Num: 10: 100%|██████████| 100/100 [00:58<00:00,  1.71it/s]\n"
     ]
    },
    {
     "name": "stdout",
     "output_type": "stream",
     "text": [
      "Global Epoch: 8 | Client 0 | Time: 59.1 | Test Loss: 1.2414 | Test Acc: 61.03% | Attack Acc 58.75%\n"
     ]
    },
    {
     "name": "stderr",
     "output_type": "stream",
     "text": [
      "Global Epoch: 9 | Drop Num: 10: 100%|██████████| 100/100 [00:59<00:00,  1.69it/s]\n"
     ]
    },
    {
     "name": "stdout",
     "output_type": "stream",
     "text": [
      "Global Epoch: 9 | Client 0 | Time: 59.8 | Test Loss: 1.2198 | Test Acc: 62.46% | Attack Acc 63.17%\n"
     ]
    },
    {
     "name": "stderr",
     "output_type": "stream",
     "text": [
      "Global Epoch: 10 | Drop Num: 10: 100%|██████████| 100/100 [00:58<00:00,  1.71it/s]\n"
     ]
    },
    {
     "name": "stdout",
     "output_type": "stream",
     "text": [
      "Global Epoch: 10 | Client 0 | Time: 59.1 | Test Loss: 1.1698 | Test Acc: 64.26% | Attack Acc 68.83%\n"
     ]
    },
    {
     "name": "stderr",
     "output_type": "stream",
     "text": [
      "Global Epoch: 11 | Drop Num: 10: 100%|██████████| 100/100 [00:58<00:00,  1.71it/s]\n"
     ]
    },
    {
     "name": "stdout",
     "output_type": "stream",
     "text": [
      "Global Epoch: 11 | Client 0 | Time: 59.3 | Test Loss: 1.2355 | Test Acc: 63.77% | Attack Acc 64.00%\n"
     ]
    },
    {
     "name": "stderr",
     "output_type": "stream",
     "text": [
      "Global Epoch: 12 | Drop Num: 10: 100%|██████████| 100/100 [00:58<00:00,  1.70it/s]\n"
     ]
    },
    {
     "name": "stdout",
     "output_type": "stream",
     "text": [
      "Global Epoch: 12 | Client 0 | Time: 59.6 | Test Loss: 1.0901 | Test Acc: 66.47% | Attack Acc 64.52%\n"
     ]
    },
    {
     "name": "stderr",
     "output_type": "stream",
     "text": [
      "Global Epoch: 13 | Drop Num: 10: 100%|██████████| 100/100 [00:58<00:00,  1.70it/s]\n"
     ]
    },
    {
     "name": "stdout",
     "output_type": "stream",
     "text": [
      "Global Epoch: 13 | Client 0 | Time: 59.5 | Test Loss: 1.2654 | Test Acc: 64.35% | Attack Acc 67.32%\n"
     ]
    },
    {
     "name": "stderr",
     "output_type": "stream",
     "text": [
      "Global Epoch: 14 | Drop Num: 10: 100%|██████████| 100/100 [00:58<00:00,  1.70it/s]\n"
     ]
    },
    {
     "name": "stdout",
     "output_type": "stream",
     "text": [
      "Global Epoch: 14 | Client 0 | Time: 59.6 | Test Loss: 1.1056 | Test Acc: 67.06% | Attack Acc 71.33%\n"
     ]
    },
    {
     "name": "stderr",
     "output_type": "stream",
     "text": [
      "Global Epoch: 15 | Drop Num: 10: 100%|██████████| 100/100 [00:58<00:00,  1.71it/s]\n"
     ]
    },
    {
     "name": "stdout",
     "output_type": "stream",
     "text": [
      "Global Epoch: 15 | Client 0 | Time: 59.3 | Test Loss: 1.1385 | Test Acc: 67.33% | Attack Acc 69.89%\n"
     ]
    },
    {
     "name": "stderr",
     "output_type": "stream",
     "text": [
      "Global Epoch: 16 | Drop Num: 10: 100%|██████████| 100/100 [00:58<00:00,  1.71it/s]\n"
     ]
    },
    {
     "name": "stdout",
     "output_type": "stream",
     "text": [
      "Global Epoch: 16 | Client 0 | Time: 59.4 | Test Loss: 1.1543 | Test Acc: 67.91% | Attack Acc 70.05%\n"
     ]
    },
    {
     "name": "stderr",
     "output_type": "stream",
     "text": [
      "Global Epoch: 17 | Drop Num: 10: 100%|██████████| 100/100 [00:58<00:00,  1.70it/s]\n"
     ]
    },
    {
     "name": "stdout",
     "output_type": "stream",
     "text": [
      "Global Epoch: 17 | Client 0 | Time: 59.7 | Test Loss: 1.1649 | Test Acc: 67.99% | Attack Acc 70.87%\n"
     ]
    },
    {
     "name": "stderr",
     "output_type": "stream",
     "text": [
      "Global Epoch: 18 | Drop Num: 10: 100%|██████████| 100/100 [00:58<00:00,  1.70it/s]\n"
     ]
    },
    {
     "name": "stdout",
     "output_type": "stream",
     "text": [
      "Global Epoch: 18 | Client 0 | Time: 59.5 | Test Loss: 1.1420 | Test Acc: 68.92% | Attack Acc 69.25%\n"
     ]
    },
    {
     "name": "stderr",
     "output_type": "stream",
     "text": [
      "Global Epoch: 19 | Drop Num: 10: 100%|██████████| 100/100 [00:58<00:00,  1.70it/s]\n"
     ]
    },
    {
     "name": "stdout",
     "output_type": "stream",
     "text": [
      "Global Epoch: 19 | Client 0 | Time: 59.5 | Test Loss: 1.1805 | Test Acc: 68.10% | Attack Acc 68.87%\n"
     ]
    },
    {
     "name": "stderr",
     "output_type": "stream",
     "text": [
      "Global Epoch: 20 | Drop Num: 10: 100%|██████████| 100/100 [00:58<00:00,  1.70it/s]\n"
     ]
    },
    {
     "name": "stdout",
     "output_type": "stream",
     "text": [
      "Global Epoch: 20 | Client 0 | Time: 59.5 | Test Loss: 1.1479 | Test Acc: 69.02% | Attack Acc 72.40%\n"
     ]
    },
    {
     "name": "stderr",
     "output_type": "stream",
     "text": [
      "Global Epoch: 21 | Drop Num: 10: 100%|██████████| 100/100 [00:58<00:00,  1.71it/s]\n"
     ]
    },
    {
     "name": "stdout",
     "output_type": "stream",
     "text": [
      "Global Epoch: 21 | Client 0 | Time: 59.3 | Test Loss: 1.1816 | Test Acc: 68.65% | Attack Acc 65.30%\n"
     ]
    },
    {
     "name": "stderr",
     "output_type": "stream",
     "text": [
      "Global Epoch: 22 | Drop Num: 10: 100%|██████████| 100/100 [00:58<00:00,  1.70it/s]\n"
     ]
    },
    {
     "name": "stdout",
     "output_type": "stream",
     "text": [
      "Global Epoch: 22 | Client 0 | Time: 59.6 | Test Loss: 1.1663 | Test Acc: 69.19% | Attack Acc 72.28%\n"
     ]
    },
    {
     "name": "stderr",
     "output_type": "stream",
     "text": [
      "Global Epoch: 23 | Drop Num: 10: 100%|██████████| 100/100 [00:58<00:00,  1.71it/s]\n"
     ]
    },
    {
     "name": "stdout",
     "output_type": "stream",
     "text": [
      "Global Epoch: 23 | Client 0 | Time: 59.4 | Test Loss: 1.0957 | Test Acc: 70.52% | Attack Acc 68.32%\n"
     ]
    },
    {
     "name": "stderr",
     "output_type": "stream",
     "text": [
      "Global Epoch: 24 | Drop Num: 10: 100%|██████████| 100/100 [00:58<00:00,  1.70it/s]\n"
     ]
    },
    {
     "name": "stdout",
     "output_type": "stream",
     "text": [
      "Global Epoch: 24 | Client 0 | Time: 59.4 | Test Loss: 1.1544 | Test Acc: 70.04% | Attack Acc 70.34%\n"
     ]
    },
    {
     "name": "stderr",
     "output_type": "stream",
     "text": [
      "Global Epoch: 25 | Drop Num: 10: 100%|██████████| 100/100 [00:58<00:00,  1.71it/s]\n"
     ]
    },
    {
     "name": "stdout",
     "output_type": "stream",
     "text": [
      "Global Epoch: 25 | Client 0 | Time: 59.4 | Test Loss: 1.1194 | Test Acc: 70.65% | Attack Acc 68.80%\n"
     ]
    },
    {
     "name": "stderr",
     "output_type": "stream",
     "text": [
      "Global Epoch: 26 | Drop Num: 10: 100%|██████████| 100/100 [00:58<00:00,  1.70it/s]\n"
     ]
    },
    {
     "name": "stdout",
     "output_type": "stream",
     "text": [
      "Global Epoch: 26 | Client 0 | Time: 59.6 | Test Loss: 1.1351 | Test Acc: 70.86% | Attack Acc 71.60%\n"
     ]
    },
    {
     "name": "stderr",
     "output_type": "stream",
     "text": [
      "Global Epoch: 27 | Drop Num: 10: 100%|██████████| 100/100 [00:59<00:00,  1.69it/s]\n"
     ]
    },
    {
     "name": "stdout",
     "output_type": "stream",
     "text": [
      "Global Epoch: 27 | Client 0 | Time: 59.8 | Test Loss: 1.1558 | Test Acc: 70.84% | Attack Acc 72.85%\n"
     ]
    },
    {
     "name": "stderr",
     "output_type": "stream",
     "text": [
      "Global Epoch: 28 | Drop Num: 10: 100%|██████████| 100/100 [00:58<00:00,  1.69it/s]\n"
     ]
    },
    {
     "name": "stdout",
     "output_type": "stream",
     "text": [
      "Global Epoch: 28 | Client 0 | Time: 59.8 | Test Loss: 1.1805 | Test Acc: 70.32% | Attack Acc 70.04%\n"
     ]
    },
    {
     "name": "stderr",
     "output_type": "stream",
     "text": [
      "Global Epoch: 29 | Drop Num: 10: 100%|██████████| 100/100 [00:58<00:00,  1.70it/s]\n"
     ]
    },
    {
     "name": "stdout",
     "output_type": "stream",
     "text": [
      "Global Epoch: 29 | Client 0 | Time: 59.6 | Test Loss: 1.1574 | Test Acc: 71.03% | Attack Acc 70.24%\n"
     ]
    },
    {
     "name": "stderr",
     "output_type": "stream",
     "text": [
      "Global Epoch: 30 | Drop Num: 10: 100%|██████████| 100/100 [00:58<00:00,  1.70it/s]\n"
     ]
    },
    {
     "name": "stdout",
     "output_type": "stream",
     "text": [
      "Global Epoch: 30 | Client 0 | Time: 59.6 | Test Loss: 1.1057 | Test Acc: 72.11% | Attack Acc 75.34%\n"
     ]
    },
    {
     "name": "stderr",
     "output_type": "stream",
     "text": [
      "Global Epoch: 31 | Drop Num: 10: 100%|██████████| 100/100 [00:58<00:00,  1.71it/s]\n"
     ]
    },
    {
     "name": "stdout",
     "output_type": "stream",
     "text": [
      "Global Epoch: 31 | Client 0 | Time: 59.3 | Test Loss: 1.1568 | Test Acc: 71.55% | Attack Acc 70.20%\n"
     ]
    },
    {
     "name": "stderr",
     "output_type": "stream",
     "text": [
      "Global Epoch: 32 | Drop Num: 10: 100%|██████████| 100/100 [00:58<00:00,  1.71it/s]\n"
     ]
    },
    {
     "name": "stdout",
     "output_type": "stream",
     "text": [
      "Global Epoch: 32 | Client 0 | Time: 59.3 | Test Loss: 1.1552 | Test Acc: 71.39% | Attack Acc 69.30%\n"
     ]
    },
    {
     "name": "stderr",
     "output_type": "stream",
     "text": [
      "Global Epoch: 33 | Drop Num: 10: 100%|██████████| 100/100 [00:58<00:00,  1.70it/s]\n"
     ]
    },
    {
     "name": "stdout",
     "output_type": "stream",
     "text": [
      "Global Epoch: 33 | Client 0 | Time: 59.5 | Test Loss: 1.1552 | Test Acc: 71.50% | Attack Acc 71.43%\n"
     ]
    },
    {
     "name": "stderr",
     "output_type": "stream",
     "text": [
      "Global Epoch: 34 | Drop Num: 10: 100%|██████████| 100/100 [00:58<00:00,  1.70it/s]\n"
     ]
    },
    {
     "name": "stdout",
     "output_type": "stream",
     "text": [
      "Global Epoch: 34 | Client 0 | Time: 59.5 | Test Loss: 1.1846 | Test Acc: 71.78% | Attack Acc 73.44%\n"
     ]
    },
    {
     "name": "stderr",
     "output_type": "stream",
     "text": [
      "Global Epoch: 35 | Drop Num: 10: 100%|██████████| 100/100 [00:58<00:00,  1.71it/s]\n"
     ]
    },
    {
     "name": "stdout",
     "output_type": "stream",
     "text": [
      "Global Epoch: 35 | Client 0 | Time: 59.5 | Test Loss: 1.1536 | Test Acc: 71.70% | Attack Acc 73.12%\n"
     ]
    },
    {
     "name": "stderr",
     "output_type": "stream",
     "text": [
      "Global Epoch: 36 | Drop Num: 10: 100%|██████████| 100/100 [00:58<00:00,  1.70it/s]\n"
     ]
    },
    {
     "name": "stdout",
     "output_type": "stream",
     "text": [
      "Global Epoch: 36 | Client 0 | Time: 59.5 | Test Loss: 1.1409 | Test Acc: 72.14% | Attack Acc 72.44%\n"
     ]
    },
    {
     "name": "stderr",
     "output_type": "stream",
     "text": [
      "Global Epoch: 37 | Drop Num: 10: 100%|██████████| 100/100 [00:58<00:00,  1.70it/s]\n"
     ]
    },
    {
     "name": "stdout",
     "output_type": "stream",
     "text": [
      "Global Epoch: 37 | Client 0 | Time: 59.7 | Test Loss: 1.1542 | Test Acc: 72.44% | Attack Acc 73.96%\n"
     ]
    },
    {
     "name": "stderr",
     "output_type": "stream",
     "text": [
      "Global Epoch: 38 | Drop Num: 10: 100%|██████████| 100/100 [00:58<00:00,  1.70it/s]\n"
     ]
    },
    {
     "name": "stdout",
     "output_type": "stream",
     "text": [
      "Global Epoch: 38 | Client 0 | Time: 59.5 | Test Loss: 1.1612 | Test Acc: 72.25% | Attack Acc 76.63%\n"
     ]
    },
    {
     "name": "stderr",
     "output_type": "stream",
     "text": [
      "Global Epoch: 39 | Drop Num: 10: 100%|██████████| 100/100 [00:58<00:00,  1.71it/s]\n"
     ]
    },
    {
     "name": "stdout",
     "output_type": "stream",
     "text": [
      "Global Epoch: 39 | Client 0 | Time: 59.4 | Test Loss: 1.1795 | Test Acc: 71.95% | Attack Acc 74.82%\n"
     ]
    },
    {
     "name": "stderr",
     "output_type": "stream",
     "text": [
      "Global Epoch: 40 | Drop Num: 10: 100%|██████████| 100/100 [00:58<00:00,  1.70it/s]\n"
     ]
    },
    {
     "name": "stdout",
     "output_type": "stream",
     "text": [
      "Global Epoch: 40 | Client 0 | Time: 59.5 | Test Loss: 1.2231 | Test Acc: 71.80% | Attack Acc 75.54%\n"
     ]
    },
    {
     "name": "stderr",
     "output_type": "stream",
     "text": [
      "Global Epoch: 41 | Drop Num: 10: 100%|██████████| 100/100 [00:58<00:00,  1.71it/s]\n"
     ]
    },
    {
     "name": "stdout",
     "output_type": "stream",
     "text": [
      "Global Epoch: 41 | Client 0 | Time: 59.5 | Test Loss: 1.1783 | Test Acc: 72.21% | Attack Acc 74.88%\n"
     ]
    },
    {
     "name": "stderr",
     "output_type": "stream",
     "text": [
      "Global Epoch: 42 | Drop Num: 10: 100%|██████████| 100/100 [00:58<00:00,  1.71it/s]\n"
     ]
    },
    {
     "name": "stdout",
     "output_type": "stream",
     "text": [
      "Global Epoch: 42 | Client 0 | Time: 59.3 | Test Loss: 1.1203 | Test Acc: 72.73% | Attack Acc 73.39%\n"
     ]
    },
    {
     "name": "stderr",
     "output_type": "stream",
     "text": [
      "Global Epoch: 43 | Drop Num: 10: 100%|██████████| 100/100 [00:58<00:00,  1.70it/s]\n"
     ]
    },
    {
     "name": "stdout",
     "output_type": "stream",
     "text": [
      "Global Epoch: 43 | Client 0 | Time: 59.6 | Test Loss: 1.1761 | Test Acc: 72.56% | Attack Acc 75.79%\n"
     ]
    },
    {
     "name": "stderr",
     "output_type": "stream",
     "text": [
      "Global Epoch: 44 | Drop Num: 10: 100%|██████████| 100/100 [00:58<00:00,  1.70it/s]\n"
     ]
    },
    {
     "name": "stdout",
     "output_type": "stream",
     "text": [
      "Global Epoch: 44 | Client 0 | Time: 59.5 | Test Loss: 1.1609 | Test Acc: 72.62% | Attack Acc 72.96%\n"
     ]
    },
    {
     "name": "stderr",
     "output_type": "stream",
     "text": [
      "Global Epoch: 45 | Drop Num: 10: 100%|██████████| 100/100 [00:58<00:00,  1.71it/s]\n"
     ]
    },
    {
     "name": "stdout",
     "output_type": "stream",
     "text": [
      "Global Epoch: 45 | Client 0 | Time: 59.3 | Test Loss: 1.1714 | Test Acc: 73.03% | Attack Acc 73.64%\n"
     ]
    },
    {
     "name": "stderr",
     "output_type": "stream",
     "text": [
      "Global Epoch: 46 | Drop Num: 10: 100%|██████████| 100/100 [00:58<00:00,  1.70it/s]\n"
     ]
    },
    {
     "name": "stdout",
     "output_type": "stream",
     "text": [
      "Global Epoch: 46 | Client 0 | Time: 59.5 | Test Loss: 1.2202 | Test Acc: 72.43% | Attack Acc 68.86%\n"
     ]
    },
    {
     "name": "stderr",
     "output_type": "stream",
     "text": [
      "Global Epoch: 47 | Drop Num: 10: 100%|██████████| 100/100 [00:58<00:00,  1.70it/s]\n"
     ]
    },
    {
     "name": "stdout",
     "output_type": "stream",
     "text": [
      "Global Epoch: 47 | Client 0 | Time: 59.7 | Test Loss: 1.1848 | Test Acc: 72.58% | Attack Acc 74.61%\n"
     ]
    },
    {
     "name": "stderr",
     "output_type": "stream",
     "text": [
      "Global Epoch: 48 | Drop Num: 10: 100%|██████████| 100/100 [00:58<00:00,  1.70it/s]\n"
     ]
    },
    {
     "name": "stdout",
     "output_type": "stream",
     "text": [
      "Global Epoch: 48 | Client 0 | Time: 59.5 | Test Loss: 1.1868 | Test Acc: 73.01% | Attack Acc 72.03%\n"
     ]
    },
    {
     "name": "stderr",
     "output_type": "stream",
     "text": [
      "Global Epoch: 49 | Drop Num: 10: 100%|██████████| 100/100 [00:59<00:00,  1.69it/s]\n"
     ]
    },
    {
     "name": "stdout",
     "output_type": "stream",
     "text": [
      "Global Epoch: 49 | Client 0 | Time: 59.9 | Test Loss: 1.2204 | Test Acc: 72.66% | Attack Acc 72.27%\n"
     ]
    },
    {
     "name": "stderr",
     "output_type": "stream",
     "text": [
      "Global Epoch: 50 | Drop Num: 10: 100%|██████████| 100/100 [00:58<00:00,  1.71it/s]\n"
     ]
    },
    {
     "name": "stdout",
     "output_type": "stream",
     "text": [
      "Global Epoch: 50 | Client 0 | Time: 59.4 | Test Loss: 1.1749 | Test Acc: 72.83% | Attack Acc 75.22%\n"
     ]
    },
    {
     "name": "stderr",
     "output_type": "stream",
     "text": [
      "Global Epoch: 51 | Drop Num: 10: 100%|██████████| 100/100 [00:58<00:00,  1.70it/s]\n"
     ]
    },
    {
     "name": "stdout",
     "output_type": "stream",
     "text": [
      "Global Epoch: 51 | Client 0 | Time: 59.6 | Test Loss: 1.1907 | Test Acc: 73.21% | Attack Acc 73.65%\n"
     ]
    },
    {
     "name": "stderr",
     "output_type": "stream",
     "text": [
      "Global Epoch: 52 | Drop Num: 10: 100%|██████████| 100/100 [00:58<00:00,  1.70it/s]\n"
     ]
    },
    {
     "name": "stdout",
     "output_type": "stream",
     "text": [
      "Global Epoch: 52 | Client 0 | Time: 59.6 | Test Loss: 1.2019 | Test Acc: 73.13% | Attack Acc 75.74%\n"
     ]
    },
    {
     "name": "stderr",
     "output_type": "stream",
     "text": [
      "Global Epoch: 53 | Drop Num: 10: 100%|██████████| 100/100 [00:58<00:00,  1.70it/s]\n"
     ]
    },
    {
     "name": "stdout",
     "output_type": "stream",
     "text": [
      "Global Epoch: 53 | Client 0 | Time: 59.6 | Test Loss: 1.2287 | Test Acc: 72.78% | Attack Acc 74.06%\n"
     ]
    },
    {
     "name": "stderr",
     "output_type": "stream",
     "text": [
      "Global Epoch: 54 | Drop Num: 10: 100%|██████████| 100/100 [00:58<00:00,  1.70it/s]\n"
     ]
    },
    {
     "name": "stdout",
     "output_type": "stream",
     "text": [
      "Global Epoch: 54 | Client 0 | Time: 59.5 | Test Loss: 1.1883 | Test Acc: 73.33% | Attack Acc 72.22%\n"
     ]
    },
    {
     "name": "stderr",
     "output_type": "stream",
     "text": [
      "Global Epoch: 55 | Drop Num: 10: 100%|██████████| 100/100 [00:58<00:00,  1.70it/s]\n"
     ]
    },
    {
     "name": "stdout",
     "output_type": "stream",
     "text": [
      "Global Epoch: 55 | Client 0 | Time: 59.7 | Test Loss: 1.1796 | Test Acc: 73.00% | Attack Acc 73.89%\n"
     ]
    },
    {
     "name": "stderr",
     "output_type": "stream",
     "text": [
      "Global Epoch: 56 | Drop Num: 10: 100%|██████████| 100/100 [00:58<00:00,  1.71it/s]\n"
     ]
    },
    {
     "name": "stdout",
     "output_type": "stream",
     "text": [
      "Global Epoch: 56 | Client 0 | Time: 59.5 | Test Loss: 1.2102 | Test Acc: 73.30% | Attack Acc 70.01%\n"
     ]
    },
    {
     "name": "stderr",
     "output_type": "stream",
     "text": [
      "Global Epoch: 57 | Drop Num: 10: 100%|██████████| 100/100 [00:58<00:00,  1.70it/s]\n"
     ]
    },
    {
     "name": "stdout",
     "output_type": "stream",
     "text": [
      "Global Epoch: 57 | Client 0 | Time: 59.6 | Test Loss: 1.2113 | Test Acc: 73.33% | Attack Acc 72.61%\n"
     ]
    },
    {
     "name": "stderr",
     "output_type": "stream",
     "text": [
      "Global Epoch: 58 | Drop Num: 10: 100%|██████████| 100/100 [00:58<00:00,  1.71it/s]\n"
     ]
    },
    {
     "name": "stdout",
     "output_type": "stream",
     "text": [
      "Global Epoch: 58 | Client 0 | Time: 59.3 | Test Loss: 1.2598 | Test Acc: 72.53% | Attack Acc 73.93%\n"
     ]
    },
    {
     "name": "stderr",
     "output_type": "stream",
     "text": [
      "Global Epoch: 59 | Drop Num: 10: 100%|██████████| 100/100 [00:58<00:00,  1.70it/s]\n"
     ]
    },
    {
     "name": "stdout",
     "output_type": "stream",
     "text": [
      "Global Epoch: 59 | Client 0 | Time: 59.6 | Test Loss: 1.2335 | Test Acc: 73.30% | Attack Acc 73.88%\n"
     ]
    },
    {
     "name": "stderr",
     "output_type": "stream",
     "text": [
      "Global Epoch: 60 | Drop Num: 10: 100%|██████████| 100/100 [00:58<00:00,  1.70it/s]\n"
     ]
    },
    {
     "name": "stdout",
     "output_type": "stream",
     "text": [
      "Global Epoch: 60 | Client 0 | Time: 59.7 | Test Loss: 1.2422 | Test Acc: 73.13% | Attack Acc 72.55%\n"
     ]
    },
    {
     "name": "stderr",
     "output_type": "stream",
     "text": [
      "Global Epoch: 61 | Drop Num: 10: 100%|██████████| 100/100 [00:58<00:00,  1.70it/s]\n"
     ]
    },
    {
     "name": "stdout",
     "output_type": "stream",
     "text": [
      "Global Epoch: 61 | Client 0 | Time: 59.6 | Test Loss: 1.2429 | Test Acc: 72.82% | Attack Acc 74.70%\n"
     ]
    },
    {
     "name": "stderr",
     "output_type": "stream",
     "text": [
      "Global Epoch: 62 | Drop Num: 10: 100%|██████████| 100/100 [00:58<00:00,  1.70it/s]\n"
     ]
    },
    {
     "name": "stdout",
     "output_type": "stream",
     "text": [
      "Global Epoch: 62 | Client 0 | Time: 59.5 | Test Loss: 1.2686 | Test Acc: 73.50% | Attack Acc 72.01%\n"
     ]
    },
    {
     "name": "stderr",
     "output_type": "stream",
     "text": [
      "Global Epoch: 63 | Drop Num: 10: 100%|██████████| 100/100 [00:58<00:00,  1.71it/s]\n"
     ]
    },
    {
     "name": "stdout",
     "output_type": "stream",
     "text": [
      "Global Epoch: 63 | Client 0 | Time: 59.4 | Test Loss: 1.2305 | Test Acc: 73.37% | Attack Acc 73.24%\n"
     ]
    },
    {
     "name": "stderr",
     "output_type": "stream",
     "text": [
      "Global Epoch: 64 | Drop Num: 10: 100%|██████████| 100/100 [00:58<00:00,  1.70it/s]\n"
     ]
    },
    {
     "name": "stdout",
     "output_type": "stream",
     "text": [
      "Global Epoch: 64 | Client 0 | Time: 59.7 | Test Loss: 1.2225 | Test Acc: 73.74% | Attack Acc 73.79%\n"
     ]
    },
    {
     "name": "stderr",
     "output_type": "stream",
     "text": [
      "Global Epoch: 65 | Drop Num: 10: 100%|██████████| 100/100 [00:58<00:00,  1.70it/s]\n"
     ]
    },
    {
     "name": "stdout",
     "output_type": "stream",
     "text": [
      "Global Epoch: 65 | Client 0 | Time: 59.7 | Test Loss: 1.2505 | Test Acc: 73.42% | Attack Acc 74.96%\n"
     ]
    },
    {
     "name": "stderr",
     "output_type": "stream",
     "text": [
      "Global Epoch: 66 | Drop Num: 10: 100%|██████████| 100/100 [00:58<00:00,  1.71it/s]\n"
     ]
    },
    {
     "name": "stdout",
     "output_type": "stream",
     "text": [
      "Global Epoch: 66 | Client 0 | Time: 59.4 | Test Loss: 1.2307 | Test Acc: 73.68% | Attack Acc 71.93%\n"
     ]
    },
    {
     "name": "stderr",
     "output_type": "stream",
     "text": [
      "Global Epoch: 67 | Drop Num: 10: 100%|██████████| 100/100 [00:58<00:00,  1.70it/s]\n"
     ]
    },
    {
     "name": "stdout",
     "output_type": "stream",
     "text": [
      "Global Epoch: 67 | Client 0 | Time: 59.6 | Test Loss: 1.2677 | Test Acc: 73.39% | Attack Acc 73.83%\n"
     ]
    },
    {
     "name": "stderr",
     "output_type": "stream",
     "text": [
      "Global Epoch: 68 | Drop Num: 10: 100%|██████████| 100/100 [00:58<00:00,  1.70it/s]\n"
     ]
    },
    {
     "name": "stdout",
     "output_type": "stream",
     "text": [
      "Global Epoch: 68 | Client 0 | Time: 59.7 | Test Loss: 1.2481 | Test Acc: 73.74% | Attack Acc 74.20%\n"
     ]
    },
    {
     "name": "stderr",
     "output_type": "stream",
     "text": [
      "Global Epoch: 69 | Drop Num: 10: 100%|██████████| 100/100 [00:58<00:00,  1.70it/s]\n"
     ]
    },
    {
     "name": "stdout",
     "output_type": "stream",
     "text": [
      "Global Epoch: 69 | Client 0 | Time: 59.8 | Test Loss: 1.2298 | Test Acc: 73.91% | Attack Acc 73.46%\n"
     ]
    },
    {
     "name": "stderr",
     "output_type": "stream",
     "text": [
      "Global Epoch: 70 | Drop Num: 10: 100%|██████████| 100/100 [00:58<00:00,  1.70it/s]\n"
     ]
    },
    {
     "name": "stdout",
     "output_type": "stream",
     "text": [
      "Global Epoch: 70 | Client 0 | Time: 59.5 | Test Loss: 1.2322 | Test Acc: 73.92% | Attack Acc 72.22%\n"
     ]
    },
    {
     "name": "stderr",
     "output_type": "stream",
     "text": [
      "Global Epoch: 71 | Drop Num: 10: 100%|██████████| 100/100 [00:58<00:00,  1.70it/s]\n"
     ]
    },
    {
     "name": "stdout",
     "output_type": "stream",
     "text": [
      "Global Epoch: 71 | Client 0 | Time: 59.6 | Test Loss: 1.2286 | Test Acc: 73.76% | Attack Acc 72.76%\n"
     ]
    },
    {
     "name": "stderr",
     "output_type": "stream",
     "text": [
      "Global Epoch: 72 | Drop Num: 10: 100%|██████████| 100/100 [00:58<00:00,  1.70it/s]\n"
     ]
    },
    {
     "name": "stdout",
     "output_type": "stream",
     "text": [
      "Global Epoch: 72 | Client 0 | Time: 59.6 | Test Loss: 1.2239 | Test Acc: 74.09% | Attack Acc 72.00%\n"
     ]
    },
    {
     "name": "stderr",
     "output_type": "stream",
     "text": [
      "Global Epoch: 73 | Drop Num: 10: 100%|██████████| 100/100 [00:58<00:00,  1.71it/s]\n"
     ]
    },
    {
     "name": "stdout",
     "output_type": "stream",
     "text": [
      "Global Epoch: 73 | Client 0 | Time: 59.3 | Test Loss: 1.2611 | Test Acc: 73.61% | Attack Acc 73.64%\n"
     ]
    },
    {
     "name": "stderr",
     "output_type": "stream",
     "text": [
      "Global Epoch: 74 | Drop Num: 10: 100%|██████████| 100/100 [00:58<00:00,  1.70it/s]\n"
     ]
    },
    {
     "name": "stdout",
     "output_type": "stream",
     "text": [
      "Global Epoch: 74 | Client 0 | Time: 59.5 | Test Loss: 1.2599 | Test Acc: 73.80% | Attack Acc 72.11%\n"
     ]
    },
    {
     "name": "stderr",
     "output_type": "stream",
     "text": [
      "Global Epoch: 75 | Drop Num: 10: 100%|██████████| 100/100 [00:58<00:00,  1.71it/s]\n"
     ]
    },
    {
     "name": "stdout",
     "output_type": "stream",
     "text": [
      "Global Epoch: 75 | Client 0 | Time: 59.2 | Test Loss: 1.3031 | Test Acc: 73.34% | Attack Acc 72.43%\n"
     ]
    },
    {
     "name": "stderr",
     "output_type": "stream",
     "text": [
      "Global Epoch: 76 | Drop Num: 10: 100%|██████████| 100/100 [00:58<00:00,  1.71it/s]\n"
     ]
    },
    {
     "name": "stdout",
     "output_type": "stream",
     "text": [
      "Global Epoch: 76 | Client 0 | Time: 59.3 | Test Loss: 1.2478 | Test Acc: 73.91% | Attack Acc 73.64%\n"
     ]
    },
    {
     "name": "stderr",
     "output_type": "stream",
     "text": [
      "Global Epoch: 77 | Drop Num: 10: 100%|██████████| 100/100 [00:58<00:00,  1.70it/s]\n"
     ]
    },
    {
     "name": "stdout",
     "output_type": "stream",
     "text": [
      "Global Epoch: 77 | Client 0 | Time: 59.6 | Test Loss: 1.3053 | Test Acc: 73.64% | Attack Acc 73.96%\n"
     ]
    },
    {
     "name": "stderr",
     "output_type": "stream",
     "text": [
      "Global Epoch: 78 | Drop Num: 10: 100%|██████████| 100/100 [00:58<00:00,  1.71it/s]\n"
     ]
    },
    {
     "name": "stdout",
     "output_type": "stream",
     "text": [
      "Global Epoch: 78 | Client 0 | Time: 59.3 | Test Loss: 1.2657 | Test Acc: 73.88% | Attack Acc 73.11%\n"
     ]
    },
    {
     "name": "stderr",
     "output_type": "stream",
     "text": [
      "Global Epoch: 79 | Drop Num: 10: 100%|██████████| 100/100 [00:58<00:00,  1.70it/s]\n"
     ]
    },
    {
     "name": "stdout",
     "output_type": "stream",
     "text": [
      "Global Epoch: 79 | Client 0 | Time: 59.4 | Test Loss: 1.3300 | Test Acc: 73.57% | Attack Acc 73.45%\n"
     ]
    },
    {
     "name": "stderr",
     "output_type": "stream",
     "text": [
      "Global Epoch: 80 | Drop Num: 10: 100%|██████████| 100/100 [00:58<00:00,  1.70it/s]\n"
     ]
    },
    {
     "name": "stdout",
     "output_type": "stream",
     "text": [
      "Global Epoch: 80 | Client 0 | Time: 59.7 | Test Loss: 1.2714 | Test Acc: 73.68% | Attack Acc 72.84%\n"
     ]
    },
    {
     "name": "stderr",
     "output_type": "stream",
     "text": [
      "Global Epoch: 81 | Drop Num: 10: 100%|██████████| 100/100 [00:58<00:00,  1.71it/s]\n"
     ]
    },
    {
     "name": "stdout",
     "output_type": "stream",
     "text": [
      "Global Epoch: 81 | Client 0 | Time: 59.2 | Test Loss: 1.3022 | Test Acc: 74.07% | Attack Acc 71.81%\n"
     ]
    },
    {
     "name": "stderr",
     "output_type": "stream",
     "text": [
      "Global Epoch: 82 | Drop Num: 10: 100%|██████████| 100/100 [00:58<00:00,  1.71it/s]\n"
     ]
    },
    {
     "name": "stdout",
     "output_type": "stream",
     "text": [
      "Global Epoch: 82 | Client 0 | Time: 59.3 | Test Loss: 1.3021 | Test Acc: 73.85% | Attack Acc 74.79%\n"
     ]
    },
    {
     "name": "stderr",
     "output_type": "stream",
     "text": [
      "Global Epoch: 83 | Drop Num: 10: 100%|██████████| 100/100 [00:58<00:00,  1.71it/s]\n"
     ]
    },
    {
     "name": "stdout",
     "output_type": "stream",
     "text": [
      "Global Epoch: 83 | Client 0 | Time: 59.4 | Test Loss: 1.3265 | Test Acc: 73.49% | Attack Acc 71.10%\n"
     ]
    },
    {
     "name": "stderr",
     "output_type": "stream",
     "text": [
      "Global Epoch: 84 | Drop Num: 10: 100%|██████████| 100/100 [00:58<00:00,  1.70it/s]\n"
     ]
    },
    {
     "name": "stdout",
     "output_type": "stream",
     "text": [
      "Global Epoch: 84 | Client 0 | Time: 59.6 | Test Loss: 1.3165 | Test Acc: 73.70% | Attack Acc 74.40%\n"
     ]
    },
    {
     "name": "stderr",
     "output_type": "stream",
     "text": [
      "Global Epoch: 85 | Drop Num: 10: 100%|██████████| 100/100 [00:58<00:00,  1.71it/s]\n"
     ]
    },
    {
     "name": "stdout",
     "output_type": "stream",
     "text": [
      "Global Epoch: 85 | Client 0 | Time: 59.3 | Test Loss: 1.3167 | Test Acc: 74.24% | Attack Acc 74.44%\n"
     ]
    },
    {
     "name": "stderr",
     "output_type": "stream",
     "text": [
      "Global Epoch: 86 | Drop Num: 10: 100%|██████████| 100/100 [00:58<00:00,  1.71it/s]\n"
     ]
    },
    {
     "name": "stdout",
     "output_type": "stream",
     "text": [
      "Global Epoch: 86 | Client 0 | Time: 59.5 | Test Loss: 1.3186 | Test Acc: 73.67% | Attack Acc 73.03%\n"
     ]
    },
    {
     "name": "stderr",
     "output_type": "stream",
     "text": [
      "Global Epoch: 87 | Drop Num: 10: 100%|██████████| 100/100 [00:58<00:00,  1.70it/s]\n"
     ]
    },
    {
     "name": "stdout",
     "output_type": "stream",
     "text": [
      "Global Epoch: 87 | Client 0 | Time: 59.6 | Test Loss: 1.3297 | Test Acc: 74.05% | Attack Acc 73.49%\n"
     ]
    },
    {
     "name": "stderr",
     "output_type": "stream",
     "text": [
      "Global Epoch: 88 | Drop Num: 10: 100%|██████████| 100/100 [00:58<00:00,  1.70it/s]\n"
     ]
    },
    {
     "name": "stdout",
     "output_type": "stream",
     "text": [
      "Global Epoch: 88 | Client 0 | Time: 59.5 | Test Loss: 1.3197 | Test Acc: 74.08% | Attack Acc 73.04%\n"
     ]
    },
    {
     "name": "stderr",
     "output_type": "stream",
     "text": [
      "Global Epoch: 89 | Drop Num: 10: 100%|██████████| 100/100 [00:58<00:00,  1.71it/s]\n"
     ]
    },
    {
     "name": "stdout",
     "output_type": "stream",
     "text": [
      "Global Epoch: 89 | Client 0 | Time: 59.4 | Test Loss: 1.3070 | Test Acc: 74.23% | Attack Acc 70.52%\n"
     ]
    },
    {
     "name": "stderr",
     "output_type": "stream",
     "text": [
      "Global Epoch: 90 | Drop Num: 10: 100%|██████████| 100/100 [00:58<00:00,  1.70it/s]\n"
     ]
    },
    {
     "name": "stdout",
     "output_type": "stream",
     "text": [
      "Global Epoch: 90 | Client 0 | Time: 59.7 | Test Loss: 1.3314 | Test Acc: 74.25% | Attack Acc 72.65%\n"
     ]
    },
    {
     "name": "stderr",
     "output_type": "stream",
     "text": [
      "Global Epoch: 91 | Drop Num: 10: 100%|██████████| 100/100 [00:58<00:00,  1.71it/s]\n"
     ]
    },
    {
     "name": "stdout",
     "output_type": "stream",
     "text": [
      "Global Epoch: 91 | Client 0 | Time: 59.3 | Test Loss: 1.3409 | Test Acc: 74.07% | Attack Acc 74.60%\n"
     ]
    },
    {
     "name": "stderr",
     "output_type": "stream",
     "text": [
      "Global Epoch: 92 | Drop Num: 10: 100%|██████████| 100/100 [00:58<00:00,  1.71it/s]\n"
     ]
    },
    {
     "name": "stdout",
     "output_type": "stream",
     "text": [
      "Global Epoch: 92 | Client 0 | Time: 59.3 | Test Loss: 1.3453 | Test Acc: 73.87% | Attack Acc 71.21%\n"
     ]
    },
    {
     "name": "stderr",
     "output_type": "stream",
     "text": [
      "Global Epoch: 93 | Drop Num: 10: 100%|██████████| 100/100 [00:58<00:00,  1.71it/s]\n"
     ]
    },
    {
     "name": "stdout",
     "output_type": "stream",
     "text": [
      "Global Epoch: 93 | Client 0 | Time: 59.2 | Test Loss: 1.2621 | Test Acc: 74.59% | Attack Acc 72.20%\n"
     ]
    },
    {
     "name": "stderr",
     "output_type": "stream",
     "text": [
      "Global Epoch: 94 | Drop Num: 10: 100%|██████████| 100/100 [00:58<00:00,  1.71it/s]\n"
     ]
    },
    {
     "name": "stdout",
     "output_type": "stream",
     "text": [
      "Global Epoch: 94 | Client 0 | Time: 59.4 | Test Loss: 1.2988 | Test Acc: 74.48% | Attack Acc 67.91%\n"
     ]
    },
    {
     "name": "stderr",
     "output_type": "stream",
     "text": [
      "Global Epoch: 95 | Drop Num: 10: 100%|██████████| 100/100 [00:58<00:00,  1.70it/s]\n"
     ]
    },
    {
     "name": "stdout",
     "output_type": "stream",
     "text": [
      "Global Epoch: 95 | Client 0 | Time: 59.8 | Test Loss: 1.3829 | Test Acc: 73.75% | Attack Acc 72.52%\n"
     ]
    },
    {
     "name": "stderr",
     "output_type": "stream",
     "text": [
      "Global Epoch: 96 | Drop Num: 10: 100%|██████████| 100/100 [00:58<00:00,  1.71it/s]\n"
     ]
    },
    {
     "name": "stdout",
     "output_type": "stream",
     "text": [
      "Global Epoch: 96 | Client 0 | Time: 59.4 | Test Loss: 1.3279 | Test Acc: 74.52% | Attack Acc 71.16%\n"
     ]
    },
    {
     "name": "stderr",
     "output_type": "stream",
     "text": [
      "Global Epoch: 97 | Drop Num: 10: 100%|██████████| 100/100 [00:58<00:00,  1.71it/s]\n"
     ]
    },
    {
     "name": "stdout",
     "output_type": "stream",
     "text": [
      "Global Epoch: 97 | Client 0 | Time: 59.4 | Test Loss: 1.3350 | Test Acc: 74.48% | Attack Acc 73.93%\n"
     ]
    },
    {
     "name": "stderr",
     "output_type": "stream",
     "text": [
      "Global Epoch: 98 | Drop Num: 10: 100%|██████████| 100/100 [00:58<00:00,  1.70it/s]\n"
     ]
    },
    {
     "name": "stdout",
     "output_type": "stream",
     "text": [
      "Global Epoch: 98 | Client 0 | Time: 59.5 | Test Loss: 1.3418 | Test Acc: 74.16% | Attack Acc 69.05%\n"
     ]
    },
    {
     "name": "stderr",
     "output_type": "stream",
     "text": [
      "Global Epoch: 99 | Drop Num: 10: 100%|██████████| 100/100 [00:58<00:00,  1.71it/s]\n"
     ]
    },
    {
     "name": "stdout",
     "output_type": "stream",
     "text": [
      "Global Epoch: 99 | Client 0 | Time: 59.3 | Test Loss: 1.3132 | Test Acc: 74.28% | Attack Acc 73.24%\n"
     ]
    }
   ],
   "source": [
    "if model_name == 'resnet':\n",
    "   glob_model = ResNet(ResidualBlock, [2, 2, 2]) # ResNet18\n",
    "elif model_name == 'cnn':\n",
    "   glob_model = CNNCifar()\n",
    "   # glob_model = CNNDrop()\n",
    "elif model_name == 'lenet':\n",
    "   glob_model = LeNet()\n",
    "\n",
    "all_clients = range(clients)\n",
    "split_index, flat_indice = FlatSplitParams(copy.deepcopy(glob_model), clients)\n",
    "lr = [learning_rate] * clients\n",
    "sec_record, acc_record, loss_record, time_record = [], [], [], []\n",
    "test_sec_model = copy.deepcopy(glob_model)\n",
    "criterion = nn.CrossEntropyLoss()\n",
    "\n",
    "for j in range(glob_epochs):\n",
    "   drop_users = random.sample(all_clients[1:], int(clients * drop_frac)) # client 0 is used to evaluate security\n",
    "   nondrop_users = [x for x in range(clients) if x not in drop_users]\n",
    "   w_locals, weight_slices, noise_slices = [], [], []\n",
    "   start_time = time.time()\n",
    "   # print(\"Global Epoch: \", j, \" | Drop clients: \", drop_users)\n",
    "   for i in tqdm(range(clients), desc=f\"Global Epoch: {j} | Drop Num: {len(drop_users)}\"):\n",
    "      if i in drop_users:\n",
    "         weight_slices.insert(i, \"D\")\n",
    "         noise_slices.insert(i, \"D\")\n",
    "         continue\n",
    "      \n",
    "      if mechanism == 'None':\n",
    "        w = nor_train(copy.deepcopy(glob_model), device, i, lr, local_epochs, train_loader[i])\n",
    "      elif mechanism == 'DP':\n",
    "         w = dp_train(copy.deepcopy(glob_model), device, i, lr, local_epochs, batch_size, train_loader[i], test_loader[i], train_data[i], train_targets[i], test_data[i],\n",
    "                      test_targets[i], audit_data[i], audit_targets[i], sec_record, q, batch_size, clip, sigma, len(train_loader[i]))\n",
    "      elif mechanism == 'DP2':\n",
    "         w = dp_trainv2(copy.deepcopy(glob_model), device, i, lr, local_epochs, train_loader[i], train_data[i], eps, delta, glob_epochs, clip)\n",
    "      elif mechanism == 'Proposed':\n",
    "         w, weight_slice, noise_slice = proposed_train(copy.deepcopy(glob_model), device, i, lr, local_epochs, glob_epochs,train_loader[i], train_data[i], eps, delta, split_index, flat_indice, clients, clip)\n",
    "         weight_slices.insert(i, weight_slice)\n",
    "         noise_slices.insert(i, noise_slice)\n",
    "      else:\n",
    "         print(\"Please select a mechanism above.\")\n",
    "         exit()\n",
    "      w_locals.insert(i, copy.deepcopy(w))\n",
    "\n",
    "   if mechanism == 'Proposed':\n",
    "      for i, id in enumerate(nondrop_users):\n",
    "         ProtectWeight(w_locals[i], noise_slices, weight_slices, split_index, id, flat_indice, device, clip)\n",
    "   \n",
    "   random_id = nondrop_users[0] # randon choose a client\n",
    "\n",
    "   test_sec_model.load_state_dict(copy.deepcopy(w_locals[0]))\n",
    "   loss_audit_results = sec_func(copy.deepcopy(test_sec_model), criterion, device, train_data[random_id], train_targets[random_id], test_data[random_id], test_targets[random_id], audit_data[random_id], audit_targets[random_id])\n",
    "   sec_acc = loss_audit_results[0].roc_auc if loss_audit_results[0].roc_auc != 0.00 else float(loss_audit_results[0].accuracy[0]) # roc_acc = 0 代表完全分不出來誰是member or non-member\n",
    "   sec_record.append(sec_acc)\n",
    "\n",
    "   new_glob_w = aggregate(w_locals, int(clients * drop_frac), device)\n",
    "   glob_model.load_state_dict(copy.deepcopy(new_glob_w))\n",
    "   glob_loss, glob_acc = test(copy.deepcopy(glob_model), device, evl_loader)\n",
    "   acc_record.append(glob_acc)\n",
    "   loss_record.append(glob_loss)\n",
    "   time_record.append(time.time() - start_time)\n",
    "   print(f\"Global Epoch: {j} | Client {random_id} | Time: {time.time() - start_time:.1f} | Test Loss: {glob_loss:.4f} | Test Acc: {glob_acc:.2f}% | Attack Acc {100 * sec_acc:.2f}%\")"
   ]
  },
  {
   "cell_type": "code",
   "execution_count": 9,
   "metadata": {},
   "outputs": [
    {
     "data": {
      "image/png": "[encoded data removed]",
      "text/plain": [
       "<Figure size 640x480 with 1 Axes>"
      ]
     },
     "metadata": {},
     "output_type": "display_data"
    }
   ],
   "source": [
    "plt.figure()\n",
    "plt.ylabel('Attack Accuracy')\n",
    "plt.xlabel('Global Epoch')\n",
    "plt.plot(range(len(sec_record)), sec_record, label='{}'.format(mechanism))\n",
    "plt.title('{} Attack Accuracy'.format('Cifar'))\n",
    "plt.legend()\n",
    "plt.savefig('attack_acc.png')"
   ]
  },
  {
   "cell_type": "code",
   "execution_count": 10,
   "metadata": {},
   "outputs": [
    {
     "data": {
      "image/png": "[encoded data removed]",
      "text/plain": [
       "<Figure size 640x480 with 1 Axes>"
      ]
     },
     "metadata": {},
     "output_type": "display_data"
    }
   ],
   "source": [
    "plt.figure()\n",
    "plt.ylabel('Test Accuracy')\n",
    "plt.xlabel('Global Epoch')\n",
    "plt.plot(range(len(acc_record)), acc_record, label='{}'.format(mechanism))\n",
    "plt.title('{} Accuracy'.format('Cifar'))\n",
    "plt.legend()\n",
    "plt.savefig('acc.png')"
   ]
  },
  {
   "cell_type": "code",
   "execution_count": 11,
   "metadata": {},
   "outputs": [
    {
     "data": {
      "image/png": "[encoded data removed]",
      "text/plain": [
       "<Figure size 640x480 with 1 Axes>"
      ]
     },
     "metadata": {},
     "output_type": "display_data"
    }
   ],
   "source": [
    "plt.figure()\n",
    "plt.ylabel('Test Loss')\n",
    "plt.xlabel('Global Epoch')\n",
    "plt.plot(range(len(loss_record)), loss_record, label='{}'.format(mechanism))\n",
    "plt.title('{} Loss'.format('Cifar'))\n",
    "plt.legend()\n",
    "plt.savefig('loss.png')"
   ]
  },
  {
   "cell_type": "code",
   "execution_count": 12,
   "metadata": {},
   "outputs": [],
   "source": [
    "if not os.path.exists(rootpath):\n",
    "    os.makedirs(rootpath)\n",
    "\n",
    "accfile = open(rootpath + '/acc_{}_{}_{}_dp_{}_epsilon_{}_drop_{}dat'.\n",
    "                    format('cifar', model_name, glob_epochs,\n",
    "                    mechanism, eps, drop_frac), \"w\")\n",
    "lossfile = open(rootpath + '/loss_{}_{}_{}_dp_{}_epsilon_{}_drop_{}.dat'.\n",
    "                    format('cifar', model_name, glob_epochs,\n",
    "                    mechanism, eps, drop_frac), \"w\")\n",
    "secfile = open(rootpath + '/sec_{}_{}_{}_dp_{}_epsilon_{}_drop_{}.dat'.\n",
    "                    format('cifar', model_name, glob_epochs,\n",
    "                    mechanism, eps, drop_frac), \"w\")\n",
    "\n",
    "tac = str(sum(time_record)) # write execution time in first line of accfile\n",
    "accfile.write(tac)\n",
    "accfile.write('\\n')\n",
    "for ac in acc_record:\n",
    "    sac = str(ac)\n",
    "    accfile.write(sac)\n",
    "    accfile.write('\\n')\n",
    "accfile.close()\n",
    "\n",
    "for lo in loss_record:\n",
    "    slo = str(lo)\n",
    "    lossfile.write(slo)\n",
    "    lossfile.write('\\n')\n",
    "lossfile.close()\n",
    "\n",
    "for se in sec_record:\n",
    "    sse = str(se)\n",
    "    secfile.write(sse)\n",
    "    secfile.write('\\n')\n",
    "secfile.close()"
   ]
  }
 ],
 "metadata": {
  "kernelspec": {
   "display_name": "privacy_meter_test",
   "language": "python",
   "name": "python3"
  },
  "language_info": {
   "codemirror_mode": {
    "name": "ipython",
    "version": 3
   },
   "file_extension": ".py",
   "mimetype": "text/x-python",
   "name": "python",
   "nbconvert_exporter": "python",
   "pygments_lexer": "ipython3",
   "version": "3.9.16"
  },
  "orig_nbformat": 4,
  "vscode": {
   "interpreter": {
    "hash": "af48e0a30d2a0b619bf296aea7d7271ba14c9beb98b0928b3e23c82f12ae949a"
   }
  }
 },
 "nbformat": 4,
 "nbformat_minor": 2
}
