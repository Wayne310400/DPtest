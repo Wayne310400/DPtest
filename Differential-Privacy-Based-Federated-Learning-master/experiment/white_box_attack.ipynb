{
 "cells": [
  {
   "attachments": {},
   "cell_type": "markdown",
   "metadata": {},
   "source": [
    "# Whitebox attack using privacy meter"
   ]
  },
  {
   "attachments": {},
   "cell_type": "markdown",
   "metadata": {},
   "source": [
    "# Import"
   ]
  },
  {
   "cell_type": "code",
   "execution_count": 1,
   "metadata": {},
   "outputs": [
    {
     "name": "stderr",
     "output_type": "stream",
     "text": [
      "/home/wayne/.local/lib/python3.9/site-packages/tqdm/auto.py:21: TqdmWarning: IProgress not found. Please update jupyter and ipywidgets. See https://ipywidgets.readthedocs.io/en/stable/user_install.html\n",
      "  from .autonotebook import tqdm as notebook_tqdm\n",
      "2023-05-06 15:11:14.814658: I tensorflow/core/platform/cpu_feature_guard.cc:193] This TensorFlow binary is optimized with oneAPI Deep Neural Network Library (oneDNN) to use the following CPU instructions in performance-critical operations:  AVX2 FMA\n",
      "To enable them in other operations, rebuild TensorFlow with the appropriate compiler flags.\n",
      "2023-05-06 15:11:15.295765: W tensorflow/compiler/xla/stream_executor/platform/default/dso_loader.cc:64] Could not load dynamic library 'libnvinfer.so.7'; dlerror: libnvinfer.so.7: cannot open shared object file: No such file or directory\n",
      "2023-05-06 15:11:15.295813: W tensorflow/compiler/xla/stream_executor/platform/default/dso_loader.cc:64] Could not load dynamic library 'libnvinfer_plugin.so.7'; dlerror: libnvinfer_plugin.so.7: cannot open shared object file: No such file or directory\n",
      "2023-05-06 15:11:15.295818: W tensorflow/compiler/tf2tensorrt/utils/py_utils.cc:38] TF-TRT Warning: Cannot dlopen some TensorRT libraries. If you would like to use Nvidia GPU with TensorRT, please make sure the missing libraries mentioned above are installed properly.\n"
     ]
    }
   ],
   "source": [
    "import numpy as np\n",
    "import matplotlib.pyplot as plt\n",
    "import torch\n",
    "import torchvision\n",
    "import copy\n",
    "import random\n",
    "import os\n",
    "import time\n",
    "\n",
    "from torch import nn\n",
    "from tqdm import tqdm\n",
    "from ast import List\n",
    "from torchvision import transforms\n",
    "from model import Net, CNNMnist, CNNCifar, LeNet, ResNet, ResidualBlock, CNNDrop\n",
    "from train import nor_train, dp_train, dp_trainv2, proposed_train\n",
    "from util import sec_func, test\n",
    "from fed import ProtectWeight, FlatSplitParams, aggregate\n",
    "\n",
    "random.seed(123)\n",
    "np.random.seed(123)\n",
    "torch.manual_seed(123)\n",
    "torch.cuda.manual_seed_all(123)\n",
    "torch.cuda.manual_seed(123)"
   ]
  },
  {
   "attachments": {},
   "cell_type": "markdown",
   "metadata": {},
   "source": [
    "# Define hyper-parameters"
   ]
  },
  {
   "cell_type": "code",
   "execution_count": 2,
   "metadata": {},
   "outputs": [
    {
     "name": "stdout",
     "output_type": "stream",
     "text": [
      "sensitivity:  2.9999999999999997e-05\n",
      "sigma:  529.8802526850474\n",
      "sensitivity * sigma:  0.01589640758055142\n"
     ]
    }
   ],
   "source": [
    "# for training the target model\n",
    "num_train_points = 500\n",
    "num_test_points = 500\n",
    "num_population_points = 1000\n",
    "batch_size = 128\n",
    "learning_rate = 0.01\n",
    "local_epochs = 10\n",
    "clients = 100\n",
    "glob_epochs = 100\n",
    "drop_frac = 0.1\n",
    "\n",
    "q = 0.9 # sampling rate\n",
    "eps = 1.0 # privacy budget\n",
    "delta = 10e-5 # probability of something bad happening\n",
    "clip = 1.5\n",
    "# laplace noise: [np.random.laplace(loc=0, scale=1/epsilon) for x in range(100000)]\n",
    "sensitivity = learning_rate * clip  / num_train_points\n",
    "sigma = np.sqrt(2 * np.log(1.25 / (delta/ glob_epochs))) * 1 / (eps/ glob_epochs)\n",
    "# gaussian noise: vals_gauss = [np.random.normal(loc=0, scale=sigma) for x in range(100000)]\n",
    "print(\"sensitivity: \", sensitivity)\n",
    "print(\"sigma: \", sigma)\n",
    "print(\"sensitivity * sigma: \", sensitivity * sigma)\n",
    "\n",
    "device = 'cuda' if torch.cuda.is_available() else 'cpu' # you can change it to 'cuda' if you have GPU\n",
    "rootpath = './log'\n",
    "mechanism = \"None\"\n",
    "model_name = 'cnn'"
   ]
  },
  {
   "attachments": {},
   "cell_type": "markdown",
   "metadata": {},
   "source": [
    "# Create the data"
   ]
  },
  {
   "attachments": {},
   "cell_type": "markdown",
   "metadata": {},
   "source": [
    "Load all the data"
   ]
  },
  {
   "cell_type": "code",
   "execution_count": 3,
   "metadata": {},
   "outputs": [
    {
     "name": "stdout",
     "output_type": "stream",
     "text": [
      "Files already downloaded and verified\n"
     ]
    }
   ],
   "source": [
    "# transform = transforms.Compose([\n",
    "#     transforms.RandomCrop(32, padding=4),\n",
    "#     transforms.RandomHorizontalFlip(),\n",
    "#     transforms.ToTensor(),\n",
    "#     transforms.Normalize((0.4914, 0.4822, 0.4465), (0.2023, 0.1994, 0.2010)),\n",
    "# ])\n",
    "\n",
    "transform = transforms.Compose([\n",
    "    transforms.RandomCrop(32, padding=4),\n",
    "    transforms.RandomHorizontalFlip(),\n",
    "    transforms.ToTensor(),\n",
    "])\n",
    "\n",
    "# transform = transforms.Compose([\n",
    "# #     transforms.Resize((32,32)),  #resises the image so it can be perfect for our model.\n",
    "#     transforms.RandomHorizontalFlip(), # FLips the image w.r.t horizontal axis\n",
    "#     transforms.RandomRotation(10),     #Rotates the image to a specified angel\n",
    "#     transforms.RandomAffine(0, shear=10, scale=(0.8,1.2)), #Performs actions like zooms, change shear angles.\n",
    "#     transforms.ColorJitter(brightness=0.2, contrast=0.2, saturation=0.2), # Set the color params\n",
    "#     transforms.ToTensor(), # comvert the image to tensor so that it can work with torch\n",
    "# #     transforms.Normalize((0.5, 0.5, 0.5), (0.5, 0.5, 0.5)) #Normalize all the images\n",
    "# ])\n",
    "\n",
    "# transform = transforms.Compose([\n",
    "#     transforms.ToTensor(),\n",
    "#     transforms.Normalize((0.4914, 0.4822, 0.4465), (0.2023, 0.1994, 0.2010)),\n",
    "# ])\n",
    "# transform = transforms.Compose([transforms.ToTensor()])\n",
    "\n",
    "all_data = torchvision.datasets.CIFAR10(\n",
    "    root='.', train=True, download=True, transform=transform\n",
    ")\n",
    "# test_data = torchvision.datasets.CIFAR10(\n",
    "#     root='.', train=False, download=True, transform=transform\n",
    "# )\n",
    "# all_features = np.concatenate([all_data.data, test_data.data], axis=0)\n",
    "# all_targets = np.concatenate([all_data.targets, test_data.targets], axis=0)\n",
    "\n",
    "# all_data.data = all_features\n",
    "# all_data.targets = all_targets"
   ]
  },
  {
   "cell_type": "code",
   "execution_count": 4,
   "metadata": {},
   "outputs": [],
   "source": [
    "def get_dataset_subset(dataset: torchvision.datasets, index: List(int)):\n",
    "    \"\"\"Get a subset of the dataset.\n",
    "\n",
    "    Args:\n",
    "        dataset (torchvision.datasets): Whole dataset.\n",
    "        index (list): List of index.\n",
    "    \"\"\"\n",
    "    assert max(index) < len(dataset) and min(index) >= 0, \"Index out of range\"\n",
    "    data = (\n",
    "        torch.from_numpy(dataset.data[index]).float().permute(0, 3, 1, 2) / 255\n",
    "    )  # channel first\n",
    "    targets = list(np.array(dataset.targets)[index])\n",
    "    targets = torch.tensor(targets, dtype=torch.long)\n",
    "    return data, targets"
   ]
  },
  {
   "attachments": {},
   "cell_type": "markdown",
   "metadata": {},
   "source": [
    "Split the data into train, test and population"
   ]
  },
  {
   "cell_type": "code",
   "execution_count": 5,
   "metadata": {},
   "outputs": [],
   "source": [
    "chosen_index = []\n",
    "train_data, train_targets, test_data, test_targets, audit_data, audit_targets, train_index, test_index = [], [], [], [], [], [], [], []\n",
    "\n",
    "all_index = np.arange(len(all_data))\n",
    "for i in range(clients):\n",
    "  train_i = np.random.choice([i for i in all_index if i not in chosen_index], num_train_points, replace=False)\n",
    "  test_i = np.random.choice([i for i in all_index if i not in train_i], num_test_points, replace=False)\n",
    "  population_index = np.random.choice([i for i in all_index if i not in train_i and i not in test_i], num_population_points, replace=False)\n",
    "  chosen_index = np.concatenate((chosen_index,train_i))\n",
    "\n",
    "  train_d, train_t = get_dataset_subset(all_data, train_i)\n",
    "  test_d, test_t = get_dataset_subset(all_data, test_i)\n",
    "  audit_d, audit_t = get_dataset_subset(all_data, population_index)\n",
    "  train_data.insert(i, train_d)\n",
    "  train_targets.insert(i, train_t)\n",
    "  test_data.insert(i, test_d)\n",
    "  test_targets.insert(i, test_t)\n",
    "  audit_data.insert(i, audit_d)\n",
    "  audit_targets.insert(i, audit_t)\n",
    "  train_index.insert(i, train_i)\n",
    "  test_index.insert(i, test_i)"
   ]
  },
  {
   "attachments": {},
   "cell_type": "markdown",
   "metadata": {},
   "source": [
    "Create the data loader for training the target model"
   ]
  },
  {
   "cell_type": "code",
   "execution_count": 6,
   "metadata": {},
   "outputs": [],
   "source": [
    "train_loader, test_loader = [], []\n",
    "for i in range(clients):\n",
    "  train_l = torch.utils.data.DataLoader(\n",
    "              torch.utils.data.Subset(all_data,train_index[i]),\n",
    "              batch_size=batch_size,\n",
    "              shuffle=True,\n",
    "              num_workers=4,\n",
    "              pin_memory=True,\n",
    "              persistent_workers=True,\n",
    "              prefetch_factor=16)\n",
    "  test_l = torch.utils.data.DataLoader(\n",
    "              torch.utils.data.Subset(all_data,test_index[i]),\n",
    "              batch_size=batch_size,\n",
    "              shuffle=True,\n",
    "              num_workers=4,\n",
    "              pin_memory=True,\n",
    "              persistent_workers=True,\n",
    "              prefetch_factor=16)\n",
    "  train_loader.insert(i, train_l)\n",
    "  test_loader.insert(i, test_l)"
   ]
  },
  {
   "cell_type": "code",
   "execution_count": 7,
   "metadata": {},
   "outputs": [
    {
     "name": "stdout",
     "output_type": "stream",
     "text": [
      "Files already downloaded and verified\n"
     ]
    }
   ],
   "source": [
    "transform = transforms.Compose([transforms.ToTensor()])\n",
    "evl_data = torchvision.datasets.CIFAR10(\n",
    "    root='.', train=False, download=True, transform=transform\n",
    ")\n",
    "evl_index = np.arange(len(evl_data))\n",
    "# eval_index = np.random.choice([i for i in evl_index], int(num_train_points * 0.25), replace=False)\n",
    "evl_loader = torch.utils.data.DataLoader(\n",
    "            #   torch.utils.data.Subset(evl_data,eval_index),\n",
    "              evl_data,\n",
    "              batch_size=batch_size,\n",
    "              shuffle=False,\n",
    "              num_workers=4,\n",
    "              pin_memory=True,\n",
    "              persistent_workers=True,\n",
    "              prefetch_factor=16)"
   ]
  },
  {
   "attachments": {},
   "cell_type": "markdown",
   "metadata": {},
   "source": [
    "# Train the target model"
   ]
  },
  {
   "cell_type": "code",
   "execution_count": 8,
   "metadata": {},
   "outputs": [
    {
     "name": "stderr",
     "output_type": "stream",
     "text": [
      "Global Epoch: 0 | Drop Num: 10: 100%|██████████| 100/100 [00:56<00:00,  1.77it/s]\n"
     ]
    },
    {
     "name": "stdout",
     "output_type": "stream",
     "text": [
      "Global Epoch: 0 | Client 0 | Time: 57.1 | Test Loss: 2.3017 | Test Acc: 10.01% | Attack Acc 50.65%\n"
     ]
    },
    {
     "name": "stderr",
     "output_type": "stream",
     "text": [
      "Global Epoch: 1 | Drop Num: 10: 100%|██████████| 100/100 [00:29<00:00,  3.34it/s]\n"
     ]
    },
    {
     "name": "stdout",
     "output_type": "stream",
     "text": [
      "Global Epoch: 1 | Client 0 | Time: 30.3 | Test Loss: 2.2987 | Test Acc: 13.46% | Attack Acc 51.53%\n"
     ]
    },
    {
     "name": "stderr",
     "output_type": "stream",
     "text": [
      "Global Epoch: 2 | Drop Num: 10: 100%|██████████| 100/100 [00:28<00:00,  3.54it/s]\n"
     ]
    },
    {
     "name": "stdout",
     "output_type": "stream",
     "text": [
      "Global Epoch: 2 | Client 0 | Time: 28.6 | Test Loss: 2.2925 | Test Acc: 11.42% | Attack Acc 52.23%\n"
     ]
    },
    {
     "name": "stderr",
     "output_type": "stream",
     "text": [
      "Global Epoch: 3 | Drop Num: 10: 100%|██████████| 100/100 [00:27<00:00,  3.58it/s]\n"
     ]
    },
    {
     "name": "stdout",
     "output_type": "stream",
     "text": [
      "Global Epoch: 3 | Client 0 | Time: 28.2 | Test Loss: 2.2741 | Test Acc: 12.95% | Attack Acc 51.98%\n"
     ]
    },
    {
     "name": "stderr",
     "output_type": "stream",
     "text": [
      "Global Epoch: 4 | Drop Num: 10: 100%|██████████| 100/100 [00:27<00:00,  3.63it/s]\n"
     ]
    },
    {
     "name": "stdout",
     "output_type": "stream",
     "text": [
      "Global Epoch: 4 | Client 0 | Time: 27.9 | Test Loss: 2.1834 | Test Acc: 17.65% | Attack Acc 52.38%\n"
     ]
    },
    {
     "name": "stderr",
     "output_type": "stream",
     "text": [
      "Global Epoch: 5 | Drop Num: 10: 100%|██████████| 100/100 [00:27<00:00,  3.66it/s]\n"
     ]
    },
    {
     "name": "stdout",
     "output_type": "stream",
     "text": [
      "Global Epoch: 5 | Client 0 | Time: 27.6 | Test Loss: 2.0456 | Test Acc: 23.61% | Attack Acc 50.59%\n"
     ]
    },
    {
     "name": "stderr",
     "output_type": "stream",
     "text": [
      "Global Epoch: 6 | Drop Num: 10: 100%|██████████| 100/100 [00:27<00:00,  3.64it/s]\n"
     ]
    },
    {
     "name": "stdout",
     "output_type": "stream",
     "text": [
      "Global Epoch: 6 | Client 0 | Time: 27.8 | Test Loss: 2.0165 | Test Acc: 25.56% | Attack Acc 50.77%\n"
     ]
    },
    {
     "name": "stderr",
     "output_type": "stream",
     "text": [
      "Global Epoch: 7 | Drop Num: 10: 100%|██████████| 100/100 [00:27<00:00,  3.66it/s]\n"
     ]
    },
    {
     "name": "stdout",
     "output_type": "stream",
     "text": [
      "Global Epoch: 7 | Client 0 | Time: 27.7 | Test Loss: 1.9844 | Test Acc: 27.36% | Attack Acc 51.43%\n"
     ]
    },
    {
     "name": "stderr",
     "output_type": "stream",
     "text": [
      "Global Epoch: 8 | Drop Num: 10: 100%|██████████| 100/100 [00:27<00:00,  3.66it/s]\n"
     ]
    },
    {
     "name": "stdout",
     "output_type": "stream",
     "text": [
      "Global Epoch: 8 | Client 0 | Time: 27.7 | Test Loss: 1.9552 | Test Acc: 28.50% | Attack Acc 51.62%\n"
     ]
    },
    {
     "name": "stderr",
     "output_type": "stream",
     "text": [
      "Global Epoch: 9 | Drop Num: 10: 100%|██████████| 100/100 [00:27<00:00,  3.65it/s]\n"
     ]
    },
    {
     "name": "stdout",
     "output_type": "stream",
     "text": [
      "Global Epoch: 9 | Client 0 | Time: 27.8 | Test Loss: 1.9297 | Test Acc: 29.48% | Attack Acc 51.63%\n"
     ]
    },
    {
     "name": "stderr",
     "output_type": "stream",
     "text": [
      "Global Epoch: 10 | Drop Num: 10: 100%|██████████| 100/100 [00:27<00:00,  3.64it/s]\n"
     ]
    },
    {
     "name": "stdout",
     "output_type": "stream",
     "text": [
      "Global Epoch: 10 | Client 0 | Time: 27.8 | Test Loss: 1.8973 | Test Acc: 31.88% | Attack Acc 52.17%\n"
     ]
    },
    {
     "name": "stderr",
     "output_type": "stream",
     "text": [
      "Global Epoch: 11 | Drop Num: 10: 100%|██████████| 100/100 [00:27<00:00,  3.69it/s]\n"
     ]
    },
    {
     "name": "stdout",
     "output_type": "stream",
     "text": [
      "Global Epoch: 11 | Client 0 | Time: 27.5 | Test Loss: 1.8722 | Test Acc: 33.03% | Attack Acc 52.52%\n"
     ]
    },
    {
     "name": "stderr",
     "output_type": "stream",
     "text": [
      "Global Epoch: 12 | Drop Num: 10: 100%|██████████| 100/100 [00:27<00:00,  3.60it/s]\n"
     ]
    },
    {
     "name": "stdout",
     "output_type": "stream",
     "text": [
      "Global Epoch: 12 | Client 0 | Time: 28.2 | Test Loss: 1.8458 | Test Acc: 34.26% | Attack Acc 52.72%\n"
     ]
    },
    {
     "name": "stderr",
     "output_type": "stream",
     "text": [
      "Global Epoch: 13 | Drop Num: 10: 100%|██████████| 100/100 [00:27<00:00,  3.61it/s]\n"
     ]
    },
    {
     "name": "stdout",
     "output_type": "stream",
     "text": [
      "Global Epoch: 13 | Client 0 | Time: 28.0 | Test Loss: 1.8185 | Test Acc: 35.47% | Attack Acc 52.63%\n"
     ]
    },
    {
     "name": "stderr",
     "output_type": "stream",
     "text": [
      "Global Epoch: 14 | Drop Num: 10: 100%|██████████| 100/100 [00:27<00:00,  3.64it/s]\n"
     ]
    },
    {
     "name": "stdout",
     "output_type": "stream",
     "text": [
      "Global Epoch: 14 | Client 0 | Time: 27.8 | Test Loss: 1.7948 | Test Acc: 36.05% | Attack Acc 52.37%\n"
     ]
    },
    {
     "name": "stderr",
     "output_type": "stream",
     "text": [
      "Global Epoch: 15 | Drop Num: 10: 100%|██████████| 100/100 [00:27<00:00,  3.63it/s]\n"
     ]
    },
    {
     "name": "stdout",
     "output_type": "stream",
     "text": [
      "Global Epoch: 15 | Client 0 | Time: 27.9 | Test Loss: 1.7625 | Test Acc: 37.36% | Attack Acc 52.34%\n"
     ]
    },
    {
     "name": "stderr",
     "output_type": "stream",
     "text": [
      "Global Epoch: 16 | Drop Num: 10: 100%|██████████| 100/100 [00:27<00:00,  3.63it/s]\n"
     ]
    },
    {
     "name": "stdout",
     "output_type": "stream",
     "text": [
      "Global Epoch: 16 | Client 0 | Time: 27.9 | Test Loss: 1.7176 | Test Acc: 38.21% | Attack Acc 52.60%\n"
     ]
    },
    {
     "name": "stderr",
     "output_type": "stream",
     "text": [
      "Global Epoch: 17 | Drop Num: 10: 100%|██████████| 100/100 [00:27<00:00,  3.60it/s]\n"
     ]
    },
    {
     "name": "stdout",
     "output_type": "stream",
     "text": [
      "Global Epoch: 17 | Client 0 | Time: 28.1 | Test Loss: 1.6796 | Test Acc: 39.29% | Attack Acc 52.02%\n"
     ]
    },
    {
     "name": "stderr",
     "output_type": "stream",
     "text": [
      "Global Epoch: 18 | Drop Num: 10: 100%|██████████| 100/100 [00:27<00:00,  3.63it/s]\n"
     ]
    },
    {
     "name": "stdout",
     "output_type": "stream",
     "text": [
      "Global Epoch: 18 | Client 0 | Time: 27.9 | Test Loss: 1.6398 | Test Acc: 40.44% | Attack Acc 52.04%\n"
     ]
    },
    {
     "name": "stderr",
     "output_type": "stream",
     "text": [
      "Global Epoch: 19 | Drop Num: 10: 100%|██████████| 100/100 [00:27<00:00,  3.61it/s]\n"
     ]
    },
    {
     "name": "stdout",
     "output_type": "stream",
     "text": [
      "Global Epoch: 19 | Client 0 | Time: 28.0 | Test Loss: 1.6385 | Test Acc: 40.66% | Attack Acc 52.15%\n"
     ]
    },
    {
     "name": "stderr",
     "output_type": "stream",
     "text": [
      "Global Epoch: 20 | Drop Num: 10: 100%|██████████| 100/100 [00:27<00:00,  3.61it/s]\n"
     ]
    },
    {
     "name": "stdout",
     "output_type": "stream",
     "text": [
      "Global Epoch: 20 | Client 0 | Time: 28.1 | Test Loss: 1.5967 | Test Acc: 42.28% | Attack Acc 52.87%\n"
     ]
    },
    {
     "name": "stderr",
     "output_type": "stream",
     "text": [
      "Global Epoch: 21 | Drop Num: 10: 100%|██████████| 100/100 [00:27<00:00,  3.63it/s]\n"
     ]
    },
    {
     "name": "stdout",
     "output_type": "stream",
     "text": [
      "Global Epoch: 21 | Client 0 | Time: 27.9 | Test Loss: 1.5801 | Test Acc: 42.55% | Attack Acc 52.13%\n"
     ]
    },
    {
     "name": "stderr",
     "output_type": "stream",
     "text": [
      "Global Epoch: 22 | Drop Num: 10: 100%|██████████| 100/100 [00:27<00:00,  3.65it/s]\n"
     ]
    },
    {
     "name": "stdout",
     "output_type": "stream",
     "text": [
      "Global Epoch: 22 | Client 0 | Time: 27.7 | Test Loss: 1.5677 | Test Acc: 43.56% | Attack Acc 52.51%\n"
     ]
    },
    {
     "name": "stderr",
     "output_type": "stream",
     "text": [
      "Global Epoch: 23 | Drop Num: 10: 100%|██████████| 100/100 [00:27<00:00,  3.62it/s]\n"
     ]
    },
    {
     "name": "stdout",
     "output_type": "stream",
     "text": [
      "Global Epoch: 23 | Client 0 | Time: 28.0 | Test Loss: 1.5423 | Test Acc: 43.99% | Attack Acc 52.09%\n"
     ]
    },
    {
     "name": "stderr",
     "output_type": "stream",
     "text": [
      "Global Epoch: 24 | Drop Num: 10: 100%|██████████| 100/100 [00:27<00:00,  3.67it/s]\n"
     ]
    },
    {
     "name": "stdout",
     "output_type": "stream",
     "text": [
      "Global Epoch: 24 | Client 0 | Time: 27.6 | Test Loss: 1.5275 | Test Acc: 44.24% | Attack Acc 52.18%\n"
     ]
    },
    {
     "name": "stderr",
     "output_type": "stream",
     "text": [
      "Global Epoch: 25 | Drop Num: 10: 100%|██████████| 100/100 [00:27<00:00,  3.64it/s]\n"
     ]
    },
    {
     "name": "stdout",
     "output_type": "stream",
     "text": [
      "Global Epoch: 25 | Client 0 | Time: 27.8 | Test Loss: 1.5208 | Test Acc: 45.01% | Attack Acc 53.20%\n"
     ]
    },
    {
     "name": "stderr",
     "output_type": "stream",
     "text": [
      "Global Epoch: 26 | Drop Num: 10: 100%|██████████| 100/100 [00:27<00:00,  3.66it/s]\n"
     ]
    },
    {
     "name": "stdout",
     "output_type": "stream",
     "text": [
      "Global Epoch: 26 | Client 0 | Time: 27.7 | Test Loss: 1.5140 | Test Acc: 45.13% | Attack Acc 53.06%\n"
     ]
    },
    {
     "name": "stderr",
     "output_type": "stream",
     "text": [
      "Global Epoch: 27 | Drop Num: 10: 100%|██████████| 100/100 [00:27<00:00,  3.65it/s]\n"
     ]
    },
    {
     "name": "stdout",
     "output_type": "stream",
     "text": [
      "Global Epoch: 27 | Client 0 | Time: 27.7 | Test Loss: 1.4805 | Test Acc: 46.49% | Attack Acc 52.97%\n"
     ]
    },
    {
     "name": "stderr",
     "output_type": "stream",
     "text": [
      "Global Epoch: 28 | Drop Num: 10: 100%|██████████| 100/100 [00:27<00:00,  3.62it/s]\n"
     ]
    },
    {
     "name": "stdout",
     "output_type": "stream",
     "text": [
      "Global Epoch: 28 | Client 0 | Time: 28.0 | Test Loss: 1.4775 | Test Acc: 46.88% | Attack Acc 53.99%\n"
     ]
    },
    {
     "name": "stderr",
     "output_type": "stream",
     "text": [
      "Global Epoch: 29 | Drop Num: 10: 100%|██████████| 100/100 [00:27<00:00,  3.68it/s]\n"
     ]
    },
    {
     "name": "stdout",
     "output_type": "stream",
     "text": [
      "Global Epoch: 29 | Client 0 | Time: 27.6 | Test Loss: 1.4735 | Test Acc: 46.95% | Attack Acc 54.00%\n"
     ]
    },
    {
     "name": "stderr",
     "output_type": "stream",
     "text": [
      "Global Epoch: 30 | Drop Num: 10: 100%|██████████| 100/100 [00:27<00:00,  3.67it/s]\n"
     ]
    },
    {
     "name": "stdout",
     "output_type": "stream",
     "text": [
      "Global Epoch: 30 | Client 0 | Time: 27.6 | Test Loss: 1.4504 | Test Acc: 47.24% | Attack Acc 54.08%\n"
     ]
    },
    {
     "name": "stderr",
     "output_type": "stream",
     "text": [
      "Global Epoch: 31 | Drop Num: 10: 100%|██████████| 100/100 [00:27<00:00,  3.67it/s]\n"
     ]
    },
    {
     "name": "stdout",
     "output_type": "stream",
     "text": [
      "Global Epoch: 31 | Client 0 | Time: 27.6 | Test Loss: 1.4575 | Test Acc: 47.79% | Attack Acc 54.63%\n"
     ]
    },
    {
     "name": "stderr",
     "output_type": "stream",
     "text": [
      "Global Epoch: 32 | Drop Num: 10: 100%|██████████| 100/100 [00:27<00:00,  3.67it/s]\n"
     ]
    },
    {
     "name": "stdout",
     "output_type": "stream",
     "text": [
      "Global Epoch: 32 | Client 0 | Time: 27.6 | Test Loss: 1.4399 | Test Acc: 48.36% | Attack Acc 53.98%\n"
     ]
    },
    {
     "name": "stderr",
     "output_type": "stream",
     "text": [
      "Global Epoch: 33 | Drop Num: 10: 100%|██████████| 100/100 [00:27<00:00,  3.63it/s]\n"
     ]
    },
    {
     "name": "stdout",
     "output_type": "stream",
     "text": [
      "Global Epoch: 33 | Client 0 | Time: 27.9 | Test Loss: 1.4287 | Test Acc: 48.75% | Attack Acc 55.18%\n"
     ]
    },
    {
     "name": "stderr",
     "output_type": "stream",
     "text": [
      "Global Epoch: 34 | Drop Num: 10: 100%|██████████| 100/100 [00:27<00:00,  3.66it/s]\n"
     ]
    },
    {
     "name": "stdout",
     "output_type": "stream",
     "text": [
      "Global Epoch: 34 | Client 0 | Time: 27.7 | Test Loss: 1.4250 | Test Acc: 48.53% | Attack Acc 55.14%\n"
     ]
    },
    {
     "name": "stderr",
     "output_type": "stream",
     "text": [
      "Global Epoch: 35 | Drop Num: 10: 100%|██████████| 100/100 [00:27<00:00,  3.60it/s]\n"
     ]
    },
    {
     "name": "stdout",
     "output_type": "stream",
     "text": [
      "Global Epoch: 35 | Client 0 | Time: 28.1 | Test Loss: 1.4190 | Test Acc: 49.68% | Attack Acc 54.28%\n"
     ]
    },
    {
     "name": "stderr",
     "output_type": "stream",
     "text": [
      "Global Epoch: 36 | Drop Num: 10: 100%|██████████| 100/100 [00:27<00:00,  3.61it/s]\n"
     ]
    },
    {
     "name": "stdout",
     "output_type": "stream",
     "text": [
      "Global Epoch: 36 | Client 0 | Time: 28.1 | Test Loss: 1.4062 | Test Acc: 49.88% | Attack Acc 56.75%\n"
     ]
    },
    {
     "name": "stderr",
     "output_type": "stream",
     "text": [
      "Global Epoch: 37 | Drop Num: 10: 100%|██████████| 100/100 [00:27<00:00,  3.59it/s]\n"
     ]
    },
    {
     "name": "stdout",
     "output_type": "stream",
     "text": [
      "Global Epoch: 37 | Client 0 | Time: 28.2 | Test Loss: 1.4140 | Test Acc: 49.97% | Attack Acc 56.07%\n"
     ]
    },
    {
     "name": "stderr",
     "output_type": "stream",
     "text": [
      "Global Epoch: 38 | Drop Num: 10: 100%|██████████| 100/100 [00:27<00:00,  3.64it/s]\n"
     ]
    },
    {
     "name": "stdout",
     "output_type": "stream",
     "text": [
      "Global Epoch: 38 | Client 0 | Time: 27.8 | Test Loss: 1.3980 | Test Acc: 50.08% | Attack Acc 56.57%\n"
     ]
    },
    {
     "name": "stderr",
     "output_type": "stream",
     "text": [
      "Global Epoch: 39 | Drop Num: 10: 100%|██████████| 100/100 [00:27<00:00,  3.67it/s]\n"
     ]
    },
    {
     "name": "stdout",
     "output_type": "stream",
     "text": [
      "Global Epoch: 39 | Client 0 | Time: 27.6 | Test Loss: 1.4004 | Test Acc: 50.42% | Attack Acc 57.27%\n"
     ]
    },
    {
     "name": "stderr",
     "output_type": "stream",
     "text": [
      "Global Epoch: 40 | Drop Num: 10: 100%|██████████| 100/100 [00:27<00:00,  3.66it/s]\n"
     ]
    },
    {
     "name": "stdout",
     "output_type": "stream",
     "text": [
      "Global Epoch: 40 | Client 0 | Time: 27.7 | Test Loss: 1.3836 | Test Acc: 51.03% | Attack Acc 57.42%\n"
     ]
    },
    {
     "name": "stderr",
     "output_type": "stream",
     "text": [
      "Global Epoch: 41 | Drop Num: 10: 100%|██████████| 100/100 [00:27<00:00,  3.61it/s]\n"
     ]
    },
    {
     "name": "stdout",
     "output_type": "stream",
     "text": [
      "Global Epoch: 41 | Client 0 | Time: 28.0 | Test Loss: 1.3846 | Test Acc: 50.65% | Attack Acc 56.88%\n"
     ]
    },
    {
     "name": "stderr",
     "output_type": "stream",
     "text": [
      "Global Epoch: 42 | Drop Num: 10: 100%|██████████| 100/100 [00:28<00:00,  3.57it/s]\n"
     ]
    },
    {
     "name": "stdout",
     "output_type": "stream",
     "text": [
      "Global Epoch: 42 | Client 0 | Time: 28.4 | Test Loss: 1.3679 | Test Acc: 51.34% | Attack Acc 58.63%\n"
     ]
    },
    {
     "name": "stderr",
     "output_type": "stream",
     "text": [
      "Global Epoch: 43 | Drop Num: 10: 100%|██████████| 100/100 [00:27<00:00,  3.63it/s]\n"
     ]
    },
    {
     "name": "stdout",
     "output_type": "stream",
     "text": [
      "Global Epoch: 43 | Client 0 | Time: 27.9 | Test Loss: 1.3620 | Test Acc: 51.53% | Attack Acc 58.47%\n"
     ]
    },
    {
     "name": "stderr",
     "output_type": "stream",
     "text": [
      "Global Epoch: 44 | Drop Num: 10: 100%|██████████| 100/100 [00:27<00:00,  3.63it/s]\n"
     ]
    },
    {
     "name": "stdout",
     "output_type": "stream",
     "text": [
      "Global Epoch: 44 | Client 0 | Time: 27.9 | Test Loss: 1.3589 | Test Acc: 51.53% | Attack Acc 59.24%\n"
     ]
    },
    {
     "name": "stderr",
     "output_type": "stream",
     "text": [
      "Global Epoch: 45 | Drop Num: 10: 100%|██████████| 100/100 [00:27<00:00,  3.61it/s]\n"
     ]
    },
    {
     "name": "stdout",
     "output_type": "stream",
     "text": [
      "Global Epoch: 45 | Client 0 | Time: 28.1 | Test Loss: 1.3602 | Test Acc: 52.04% | Attack Acc 59.21%\n"
     ]
    },
    {
     "name": "stderr",
     "output_type": "stream",
     "text": [
      "Global Epoch: 46 | Drop Num: 10: 100%|██████████| 100/100 [00:27<00:00,  3.64it/s]\n"
     ]
    },
    {
     "name": "stdout",
     "output_type": "stream",
     "text": [
      "Global Epoch: 46 | Client 0 | Time: 27.8 | Test Loss: 1.3443 | Test Acc: 52.41% | Attack Acc 59.33%\n"
     ]
    },
    {
     "name": "stderr",
     "output_type": "stream",
     "text": [
      "Global Epoch: 47 | Drop Num: 10: 100%|██████████| 100/100 [00:27<00:00,  3.65it/s]\n"
     ]
    },
    {
     "name": "stdout",
     "output_type": "stream",
     "text": [
      "Global Epoch: 47 | Client 0 | Time: 27.7 | Test Loss: 1.3526 | Test Acc: 52.51% | Attack Acc 60.28%\n"
     ]
    },
    {
     "name": "stderr",
     "output_type": "stream",
     "text": [
      "Global Epoch: 48 | Drop Num: 10: 100%|██████████| 100/100 [00:27<00:00,  3.66it/s]\n"
     ]
    },
    {
     "name": "stdout",
     "output_type": "stream",
     "text": [
      "Global Epoch: 48 | Client 0 | Time: 27.7 | Test Loss: 1.3446 | Test Acc: 52.21% | Attack Acc 59.71%\n"
     ]
    },
    {
     "name": "stderr",
     "output_type": "stream",
     "text": [
      "Global Epoch: 49 | Drop Num: 10: 100%|██████████| 100/100 [00:27<00:00,  3.64it/s]\n"
     ]
    },
    {
     "name": "stdout",
     "output_type": "stream",
     "text": [
      "Global Epoch: 49 | Client 0 | Time: 27.8 | Test Loss: 1.3464 | Test Acc: 52.52% | Attack Acc 60.90%\n"
     ]
    },
    {
     "name": "stderr",
     "output_type": "stream",
     "text": [
      "Global Epoch: 50 | Drop Num: 10: 100%|██████████| 100/100 [00:27<00:00,  3.65it/s]\n"
     ]
    },
    {
     "name": "stdout",
     "output_type": "stream",
     "text": [
      "Global Epoch: 50 | Client 0 | Time: 27.7 | Test Loss: 1.3344 | Test Acc: 53.43% | Attack Acc 60.95%\n"
     ]
    },
    {
     "name": "stderr",
     "output_type": "stream",
     "text": [
      "Global Epoch: 51 | Drop Num: 10: 100%|██████████| 100/100 [00:27<00:00,  3.66it/s]\n"
     ]
    },
    {
     "name": "stdout",
     "output_type": "stream",
     "text": [
      "Global Epoch: 51 | Client 0 | Time: 27.7 | Test Loss: 1.3325 | Test Acc: 53.51% | Attack Acc 61.06%\n"
     ]
    },
    {
     "name": "stderr",
     "output_type": "stream",
     "text": [
      "Global Epoch: 52 | Drop Num: 10: 100%|██████████| 100/100 [00:27<00:00,  3.61it/s]\n"
     ]
    },
    {
     "name": "stdout",
     "output_type": "stream",
     "text": [
      "Global Epoch: 52 | Client 0 | Time: 28.1 | Test Loss: 1.3302 | Test Acc: 52.91% | Attack Acc 60.25%\n"
     ]
    },
    {
     "name": "stderr",
     "output_type": "stream",
     "text": [
      "Global Epoch: 53 | Drop Num: 10: 100%|██████████| 100/100 [00:27<00:00,  3.66it/s]\n"
     ]
    },
    {
     "name": "stdout",
     "output_type": "stream",
     "text": [
      "Global Epoch: 53 | Client 0 | Time: 27.7 | Test Loss: 1.3377 | Test Acc: 53.41% | Attack Acc 63.38%\n"
     ]
    },
    {
     "name": "stderr",
     "output_type": "stream",
     "text": [
      "Global Epoch: 54 | Drop Num: 10: 100%|██████████| 100/100 [00:27<00:00,  3.61it/s]\n"
     ]
    },
    {
     "name": "stdout",
     "output_type": "stream",
     "text": [
      "Global Epoch: 54 | Client 0 | Time: 28.1 | Test Loss: 1.3209 | Test Acc: 53.73% | Attack Acc 62.32%\n"
     ]
    },
    {
     "name": "stderr",
     "output_type": "stream",
     "text": [
      "Global Epoch: 55 | Drop Num: 10: 100%|██████████| 100/100 [00:27<00:00,  3.63it/s]\n"
     ]
    },
    {
     "name": "stdout",
     "output_type": "stream",
     "text": [
      "Global Epoch: 55 | Client 0 | Time: 27.9 | Test Loss: 1.3149 | Test Acc: 53.97% | Attack Acc 62.81%\n"
     ]
    },
    {
     "name": "stderr",
     "output_type": "stream",
     "text": [
      "Global Epoch: 56 | Drop Num: 10: 100%|██████████| 100/100 [00:27<00:00,  3.65it/s]\n"
     ]
    },
    {
     "name": "stdout",
     "output_type": "stream",
     "text": [
      "Global Epoch: 56 | Client 0 | Time: 27.7 | Test Loss: 1.3320 | Test Acc: 53.64% | Attack Acc 62.61%\n"
     ]
    },
    {
     "name": "stderr",
     "output_type": "stream",
     "text": [
      "Global Epoch: 57 | Drop Num: 10: 100%|██████████| 100/100 [00:27<00:00,  3.67it/s]\n"
     ]
    },
    {
     "name": "stdout",
     "output_type": "stream",
     "text": [
      "Global Epoch: 57 | Client 0 | Time: 27.6 | Test Loss: 1.3267 | Test Acc: 54.01% | Attack Acc 63.73%\n"
     ]
    },
    {
     "name": "stderr",
     "output_type": "stream",
     "text": [
      "Global Epoch: 58 | Drop Num: 10: 100%|██████████| 100/100 [00:27<00:00,  3.64it/s]\n"
     ]
    },
    {
     "name": "stdout",
     "output_type": "stream",
     "text": [
      "Global Epoch: 58 | Client 0 | Time: 27.8 | Test Loss: 1.3169 | Test Acc: 54.52% | Attack Acc 64.18%\n"
     ]
    },
    {
     "name": "stderr",
     "output_type": "stream",
     "text": [
      "Global Epoch: 59 | Drop Num: 10: 100%|██████████| 100/100 [00:27<00:00,  3.66it/s]\n"
     ]
    },
    {
     "name": "stdout",
     "output_type": "stream",
     "text": [
      "Global Epoch: 59 | Client 0 | Time: 27.7 | Test Loss: 1.3146 | Test Acc: 54.60% | Attack Acc 64.90%\n"
     ]
    },
    {
     "name": "stderr",
     "output_type": "stream",
     "text": [
      "Global Epoch: 60 | Drop Num: 10: 100%|██████████| 100/100 [00:27<00:00,  3.67it/s]\n"
     ]
    },
    {
     "name": "stdout",
     "output_type": "stream",
     "text": [
      "Global Epoch: 60 | Client 0 | Time: 27.6 | Test Loss: 1.3223 | Test Acc: 54.48% | Attack Acc 64.55%\n"
     ]
    },
    {
     "name": "stderr",
     "output_type": "stream",
     "text": [
      "Global Epoch: 61 | Drop Num: 10: 100%|██████████| 100/100 [00:27<00:00,  3.64it/s]\n"
     ]
    },
    {
     "name": "stdout",
     "output_type": "stream",
     "text": [
      "Global Epoch: 61 | Client 0 | Time: 27.8 | Test Loss: 1.3239 | Test Acc: 54.39% | Attack Acc 65.83%\n"
     ]
    },
    {
     "name": "stderr",
     "output_type": "stream",
     "text": [
      "Global Epoch: 62 | Drop Num: 10: 100%|██████████| 100/100 [00:27<00:00,  3.62it/s]\n"
     ]
    },
    {
     "name": "stdout",
     "output_type": "stream",
     "text": [
      "Global Epoch: 62 | Client 0 | Time: 28.0 | Test Loss: 1.3109 | Test Acc: 54.74% | Attack Acc 64.68%\n"
     ]
    },
    {
     "name": "stderr",
     "output_type": "stream",
     "text": [
      "Global Epoch: 63 | Drop Num: 10: 100%|██████████| 100/100 [00:27<00:00,  3.63it/s]\n"
     ]
    },
    {
     "name": "stdout",
     "output_type": "stream",
     "text": [
      "Global Epoch: 63 | Client 0 | Time: 27.9 | Test Loss: 1.3125 | Test Acc: 54.79% | Attack Acc 66.82%\n"
     ]
    },
    {
     "name": "stderr",
     "output_type": "stream",
     "text": [
      "Global Epoch: 64 | Drop Num: 10: 100%|██████████| 100/100 [00:27<00:00,  3.64it/s]\n"
     ]
    },
    {
     "name": "stdout",
     "output_type": "stream",
     "text": [
      "Global Epoch: 64 | Client 0 | Time: 27.8 | Test Loss: 1.3185 | Test Acc: 54.57% | Attack Acc 66.04%\n"
     ]
    },
    {
     "name": "stderr",
     "output_type": "stream",
     "text": [
      "Global Epoch: 65 | Drop Num: 10: 100%|██████████| 100/100 [00:27<00:00,  3.63it/s]\n"
     ]
    },
    {
     "name": "stdout",
     "output_type": "stream",
     "text": [
      "Global Epoch: 65 | Client 0 | Time: 28.0 | Test Loss: 1.3178 | Test Acc: 54.95% | Attack Acc 66.00%\n"
     ]
    },
    {
     "name": "stderr",
     "output_type": "stream",
     "text": [
      "Global Epoch: 66 | Drop Num: 10: 100%|██████████| 100/100 [00:27<00:00,  3.64it/s]\n"
     ]
    },
    {
     "name": "stdout",
     "output_type": "stream",
     "text": [
      "Global Epoch: 66 | Client 0 | Time: 27.9 | Test Loss: 1.3202 | Test Acc: 55.16% | Attack Acc 65.70%\n"
     ]
    },
    {
     "name": "stderr",
     "output_type": "stream",
     "text": [
      "Global Epoch: 67 | Drop Num: 10: 100%|██████████| 100/100 [00:27<00:00,  3.64it/s]\n"
     ]
    },
    {
     "name": "stdout",
     "output_type": "stream",
     "text": [
      "Global Epoch: 67 | Client 0 | Time: 27.8 | Test Loss: 1.3165 | Test Acc: 55.06% | Attack Acc 66.38%\n"
     ]
    },
    {
     "name": "stderr",
     "output_type": "stream",
     "text": [
      "Global Epoch: 68 | Drop Num: 10: 100%|██████████| 100/100 [00:27<00:00,  3.62it/s]\n"
     ]
    },
    {
     "name": "stdout",
     "output_type": "stream",
     "text": [
      "Global Epoch: 68 | Client 0 | Time: 28.0 | Test Loss: 1.3323 | Test Acc: 55.13% | Attack Acc 67.49%\n"
     ]
    },
    {
     "name": "stderr",
     "output_type": "stream",
     "text": [
      "Global Epoch: 69 | Drop Num: 10: 100%|██████████| 100/100 [00:27<00:00,  3.66it/s]\n"
     ]
    },
    {
     "name": "stdout",
     "output_type": "stream",
     "text": [
      "Global Epoch: 69 | Client 0 | Time: 27.7 | Test Loss: 1.3128 | Test Acc: 55.27% | Attack Acc 67.19%\n"
     ]
    },
    {
     "name": "stderr",
     "output_type": "stream",
     "text": [
      "Global Epoch: 70 | Drop Num: 10: 100%|██████████| 100/100 [00:27<00:00,  3.63it/s]\n"
     ]
    },
    {
     "name": "stdout",
     "output_type": "stream",
     "text": [
      "Global Epoch: 70 | Client 0 | Time: 27.9 | Test Loss: 1.3284 | Test Acc: 55.23% | Attack Acc 67.87%\n"
     ]
    },
    {
     "name": "stderr",
     "output_type": "stream",
     "text": [
      "Global Epoch: 71 | Drop Num: 10: 100%|██████████| 100/100 [00:27<00:00,  3.64it/s]\n"
     ]
    },
    {
     "name": "stdout",
     "output_type": "stream",
     "text": [
      "Global Epoch: 71 | Client 0 | Time: 27.8 | Test Loss: 1.3130 | Test Acc: 55.15% | Attack Acc 67.27%\n"
     ]
    },
    {
     "name": "stderr",
     "output_type": "stream",
     "text": [
      "Global Epoch: 72 | Drop Num: 10: 100%|██████████| 100/100 [00:27<00:00,  3.59it/s]\n"
     ]
    },
    {
     "name": "stdout",
     "output_type": "stream",
     "text": [
      "Global Epoch: 72 | Client 0 | Time: 28.2 | Test Loss: 1.3329 | Test Acc: 55.07% | Attack Acc 67.52%\n"
     ]
    },
    {
     "name": "stderr",
     "output_type": "stream",
     "text": [
      "Global Epoch: 73 | Drop Num: 10: 100%|██████████| 100/100 [00:27<00:00,  3.64it/s]\n"
     ]
    },
    {
     "name": "stdout",
     "output_type": "stream",
     "text": [
      "Global Epoch: 73 | Client 0 | Time: 27.8 | Test Loss: 1.3285 | Test Acc: 55.81% | Attack Acc 68.26%\n"
     ]
    },
    {
     "name": "stderr",
     "output_type": "stream",
     "text": [
      "Global Epoch: 74 | Drop Num: 10: 100%|██████████| 100/100 [00:27<00:00,  3.64it/s]\n"
     ]
    },
    {
     "name": "stdout",
     "output_type": "stream",
     "text": [
      "Global Epoch: 74 | Client 0 | Time: 27.8 | Test Loss: 1.3154 | Test Acc: 55.51% | Attack Acc 68.92%\n"
     ]
    },
    {
     "name": "stderr",
     "output_type": "stream",
     "text": [
      "Global Epoch: 75 | Drop Num: 10: 100%|██████████| 100/100 [00:27<00:00,  3.62it/s]\n"
     ]
    },
    {
     "name": "stdout",
     "output_type": "stream",
     "text": [
      "Global Epoch: 75 | Client 0 | Time: 27.9 | Test Loss: 1.3280 | Test Acc: 55.61% | Attack Acc 68.13%\n"
     ]
    },
    {
     "name": "stderr",
     "output_type": "stream",
     "text": [
      "Global Epoch: 76 | Drop Num: 10: 100%|██████████| 100/100 [00:27<00:00,  3.61it/s]\n"
     ]
    },
    {
     "name": "stdout",
     "output_type": "stream",
     "text": [
      "Global Epoch: 76 | Client 0 | Time: 28.0 | Test Loss: 1.3210 | Test Acc: 55.71% | Attack Acc 68.43%\n"
     ]
    },
    {
     "name": "stderr",
     "output_type": "stream",
     "text": [
      "Global Epoch: 77 | Drop Num: 10: 100%|██████████| 100/100 [00:27<00:00,  3.66it/s]\n"
     ]
    },
    {
     "name": "stdout",
     "output_type": "stream",
     "text": [
      "Global Epoch: 77 | Client 0 | Time: 27.7 | Test Loss: 1.3186 | Test Acc: 56.12% | Attack Acc 69.77%\n"
     ]
    },
    {
     "name": "stderr",
     "output_type": "stream",
     "text": [
      "Global Epoch: 78 | Drop Num: 10: 100%|██████████| 100/100 [00:27<00:00,  3.62it/s]\n"
     ]
    },
    {
     "name": "stdout",
     "output_type": "stream",
     "text": [
      "Global Epoch: 78 | Client 0 | Time: 28.0 | Test Loss: 1.3310 | Test Acc: 55.64% | Attack Acc 69.04%\n"
     ]
    },
    {
     "name": "stderr",
     "output_type": "stream",
     "text": [
      "Global Epoch: 79 | Drop Num: 10: 100%|██████████| 100/100 [00:27<00:00,  3.64it/s]\n"
     ]
    },
    {
     "name": "stdout",
     "output_type": "stream",
     "text": [
      "Global Epoch: 79 | Client 0 | Time: 27.9 | Test Loss: 1.3346 | Test Acc: 56.17% | Attack Acc 68.43%\n"
     ]
    },
    {
     "name": "stderr",
     "output_type": "stream",
     "text": [
      "Global Epoch: 80 | Drop Num: 10: 100%|██████████| 100/100 [00:27<00:00,  3.61it/s]\n"
     ]
    },
    {
     "name": "stdout",
     "output_type": "stream",
     "text": [
      "Global Epoch: 80 | Client 0 | Time: 28.0 | Test Loss: 1.3410 | Test Acc: 56.15% | Attack Acc 71.28%\n"
     ]
    },
    {
     "name": "stderr",
     "output_type": "stream",
     "text": [
      "Global Epoch: 81 | Drop Num: 10: 100%|██████████| 100/100 [00:27<00:00,  3.64it/s]\n"
     ]
    },
    {
     "name": "stdout",
     "output_type": "stream",
     "text": [
      "Global Epoch: 81 | Client 0 | Time: 27.8 | Test Loss: 1.3504 | Test Acc: 55.90% | Attack Acc 70.49%\n"
     ]
    },
    {
     "name": "stderr",
     "output_type": "stream",
     "text": [
      "Global Epoch: 82 | Drop Num: 10: 100%|██████████| 100/100 [00:27<00:00,  3.60it/s]\n"
     ]
    },
    {
     "name": "stdout",
     "output_type": "stream",
     "text": [
      "Global Epoch: 82 | Client 0 | Time: 28.1 | Test Loss: 1.3485 | Test Acc: 56.07% | Attack Acc 70.90%\n"
     ]
    },
    {
     "name": "stderr",
     "output_type": "stream",
     "text": [
      "Global Epoch: 83 | Drop Num: 10: 100%|██████████| 100/100 [00:27<00:00,  3.63it/s]\n"
     ]
    },
    {
     "name": "stdout",
     "output_type": "stream",
     "text": [
      "Global Epoch: 83 | Client 0 | Time: 27.9 | Test Loss: 1.3541 | Test Acc: 55.73% | Attack Acc 70.31%\n"
     ]
    },
    {
     "name": "stderr",
     "output_type": "stream",
     "text": [
      "Global Epoch: 84 | Drop Num: 10: 100%|██████████| 100/100 [00:27<00:00,  3.65it/s]\n"
     ]
    },
    {
     "name": "stdout",
     "output_type": "stream",
     "text": [
      "Global Epoch: 84 | Client 0 | Time: 27.7 | Test Loss: 1.3530 | Test Acc: 56.11% | Attack Acc 70.43%\n"
     ]
    },
    {
     "name": "stderr",
     "output_type": "stream",
     "text": [
      "Global Epoch: 85 | Drop Num: 10: 100%|██████████| 100/100 [00:27<00:00,  3.65it/s]\n"
     ]
    },
    {
     "name": "stdout",
     "output_type": "stream",
     "text": [
      "Global Epoch: 85 | Client 0 | Time: 27.8 | Test Loss: 1.3399 | Test Acc: 56.31% | Attack Acc 71.59%\n"
     ]
    },
    {
     "name": "stderr",
     "output_type": "stream",
     "text": [
      "Global Epoch: 86 | Drop Num: 10: 100%|██████████| 100/100 [00:27<00:00,  3.66it/s]\n"
     ]
    },
    {
     "name": "stdout",
     "output_type": "stream",
     "text": [
      "Global Epoch: 86 | Client 0 | Time: 27.7 | Test Loss: 1.3723 | Test Acc: 56.08% | Attack Acc 70.20%\n"
     ]
    },
    {
     "name": "stderr",
     "output_type": "stream",
     "text": [
      "Global Epoch: 87 | Drop Num: 10: 100%|██████████| 100/100 [00:27<00:00,  3.67it/s]\n"
     ]
    },
    {
     "name": "stdout",
     "output_type": "stream",
     "text": [
      "Global Epoch: 87 | Client 0 | Time: 27.6 | Test Loss: 1.3717 | Test Acc: 56.18% | Attack Acc 70.39%\n"
     ]
    },
    {
     "name": "stderr",
     "output_type": "stream",
     "text": [
      "Global Epoch: 88 | Drop Num: 10: 100%|██████████| 100/100 [00:27<00:00,  3.66it/s]\n"
     ]
    },
    {
     "name": "stdout",
     "output_type": "stream",
     "text": [
      "Global Epoch: 88 | Client 0 | Time: 27.7 | Test Loss: 1.3702 | Test Acc: 55.81% | Attack Acc 71.03%\n"
     ]
    },
    {
     "name": "stderr",
     "output_type": "stream",
     "text": [
      "Global Epoch: 89 | Drop Num: 10: 100%|██████████| 100/100 [00:27<00:00,  3.65it/s]\n"
     ]
    },
    {
     "name": "stdout",
     "output_type": "stream",
     "text": [
      "Global Epoch: 89 | Client 0 | Time: 27.8 | Test Loss: 1.3483 | Test Acc: 56.28% | Attack Acc 72.60%\n"
     ]
    },
    {
     "name": "stderr",
     "output_type": "stream",
     "text": [
      "Global Epoch: 90 | Drop Num: 10: 100%|██████████| 100/100 [00:27<00:00,  3.67it/s]\n"
     ]
    },
    {
     "name": "stdout",
     "output_type": "stream",
     "text": [
      "Global Epoch: 90 | Client 0 | Time: 27.6 | Test Loss: 1.3637 | Test Acc: 56.79% | Attack Acc 72.89%\n"
     ]
    },
    {
     "name": "stderr",
     "output_type": "stream",
     "text": [
      "Global Epoch: 91 | Drop Num: 10: 100%|██████████| 100/100 [00:27<00:00,  3.65it/s]\n"
     ]
    },
    {
     "name": "stdout",
     "output_type": "stream",
     "text": [
      "Global Epoch: 91 | Client 0 | Time: 27.7 | Test Loss: 1.3768 | Test Acc: 56.35% | Attack Acc 71.40%\n"
     ]
    },
    {
     "name": "stderr",
     "output_type": "stream",
     "text": [
      "Global Epoch: 92 | Drop Num: 10: 100%|██████████| 100/100 [00:27<00:00,  3.64it/s]\n"
     ]
    },
    {
     "name": "stdout",
     "output_type": "stream",
     "text": [
      "Global Epoch: 92 | Client 0 | Time: 27.8 | Test Loss: 1.3778 | Test Acc: 55.87% | Attack Acc 72.16%\n"
     ]
    },
    {
     "name": "stderr",
     "output_type": "stream",
     "text": [
      "Global Epoch: 93 | Drop Num: 10: 100%|██████████| 100/100 [00:27<00:00,  3.65it/s]\n"
     ]
    },
    {
     "name": "stdout",
     "output_type": "stream",
     "text": [
      "Global Epoch: 93 | Client 0 | Time: 27.8 | Test Loss: 1.3681 | Test Acc: 56.06% | Attack Acc 71.62%\n"
     ]
    },
    {
     "name": "stderr",
     "output_type": "stream",
     "text": [
      "Global Epoch: 94 | Drop Num: 10: 100%|██████████| 100/100 [00:27<00:00,  3.66it/s]\n"
     ]
    },
    {
     "name": "stdout",
     "output_type": "stream",
     "text": [
      "Global Epoch: 94 | Client 0 | Time: 27.7 | Test Loss: 1.3578 | Test Acc: 56.49% | Attack Acc 72.60%\n"
     ]
    },
    {
     "name": "stderr",
     "output_type": "stream",
     "text": [
      "Global Epoch: 95 | Drop Num: 10: 100%|██████████| 100/100 [00:27<00:00,  3.58it/s]\n"
     ]
    },
    {
     "name": "stdout",
     "output_type": "stream",
     "text": [
      "Global Epoch: 95 | Client 0 | Time: 28.3 | Test Loss: 1.3937 | Test Acc: 56.73% | Attack Acc 72.38%\n"
     ]
    },
    {
     "name": "stderr",
     "output_type": "stream",
     "text": [
      "Global Epoch: 96 | Drop Num: 10: 100%|██████████| 100/100 [00:27<00:00,  3.64it/s]\n"
     ]
    },
    {
     "name": "stdout",
     "output_type": "stream",
     "text": [
      "Global Epoch: 96 | Client 0 | Time: 27.8 | Test Loss: 1.3888 | Test Acc: 56.65% | Attack Acc 71.21%\n"
     ]
    },
    {
     "name": "stderr",
     "output_type": "stream",
     "text": [
      "Global Epoch: 97 | Drop Num: 10: 100%|██████████| 100/100 [00:27<00:00,  3.63it/s]\n"
     ]
    },
    {
     "name": "stdout",
     "output_type": "stream",
     "text": [
      "Global Epoch: 97 | Client 0 | Time: 27.9 | Test Loss: 1.3939 | Test Acc: 56.63% | Attack Acc 72.44%\n"
     ]
    },
    {
     "name": "stderr",
     "output_type": "stream",
     "text": [
      "Global Epoch: 98 | Drop Num: 10: 100%|██████████| 100/100 [00:27<00:00,  3.67it/s]\n"
     ]
    },
    {
     "name": "stdout",
     "output_type": "stream",
     "text": [
      "Global Epoch: 98 | Client 0 | Time: 27.6 | Test Loss: 1.3951 | Test Acc: 56.50% | Attack Acc 73.62%\n"
     ]
    },
    {
     "name": "stderr",
     "output_type": "stream",
     "text": [
      "Global Epoch: 99 | Drop Num: 10: 100%|██████████| 100/100 [00:27<00:00,  3.63it/s]\n"
     ]
    },
    {
     "name": "stdout",
     "output_type": "stream",
     "text": [
      "Global Epoch: 99 | Client 0 | Time: 27.9 | Test Loss: 1.3849 | Test Acc: 56.73% | Attack Acc 70.70%\n"
     ]
    }
   ],
   "source": [
    "if model_name == 'resnet':\n",
    "   glob_model = ResNet(ResidualBlock, [2, 2, 2]) # ResNet18\n",
    "elif model_name == 'cnn':\n",
    "   # glob_model = CNNCifar()\n",
    "   glob_model = CNNDrop()\n",
    "elif model_name == 'lenet':\n",
    "   glob_model = LeNet()\n",
    "\n",
    "all_clients = range(clients)\n",
    "split_index, flat_indice = FlatSplitParams(copy.deepcopy(glob_model), clients)\n",
    "lr = [learning_rate] * clients\n",
    "sec_record, acc_record, loss_record, time_record = [], [], [], []\n",
    "test_sec_model = copy.deepcopy(glob_model)\n",
    "criterion = nn.CrossEntropyLoss()\n",
    "\n",
    "for j in range(glob_epochs):\n",
    "   drop_users = random.sample(all_clients[1:], int(clients * drop_frac)) # client 0 is used to evaluate security\n",
    "   nondrop_users = [x for x in range(clients) if x not in drop_users]\n",
    "   w_locals, weight_slices, noise_slices = [], [], []\n",
    "   start_time = time.time()\n",
    "   # print(\"Global Epoch: \", j, \" | Drop clients: \", drop_users)\n",
    "   for i in tqdm(range(clients), desc=f\"Global Epoch: {j} | Drop Num: {len(drop_users)}\"):\n",
    "      if i in drop_users:\n",
    "         weight_slices.insert(i, \"D\")\n",
    "         noise_slices.insert(i, \"D\")\n",
    "         continue\n",
    "      \n",
    "      if mechanism == 'None':\n",
    "        w = nor_train(copy.deepcopy(glob_model), device, i, lr, local_epochs, train_loader[i])\n",
    "      elif mechanism == 'DP':\n",
    "         w = dp_train(copy.deepcopy(glob_model), device, i, lr, local_epochs, batch_size, train_loader[i], test_loader[i], train_data[i], train_targets[i], test_data[i],\n",
    "                      test_targets[i], audit_data[i], audit_targets[i], sec_record, q, batch_size, clip, sigma, len(train_loader[i]))\n",
    "      elif mechanism == 'DP2':\n",
    "         w = dp_trainv2(copy.deepcopy(glob_model), device, i, lr, local_epochs, train_loader[i], train_data[i], eps, delta, glob_epochs, clip)\n",
    "      elif mechanism == 'Proposed':\n",
    "         w, weight_slice, noise_slice = proposed_train(copy.deepcopy(glob_model), device, i, lr, local_epochs, glob_epochs,train_loader[i], train_data[i], eps, delta, split_index, flat_indice, clients, clip)\n",
    "         weight_slices.insert(i, weight_slice)\n",
    "         noise_slices.insert(i, noise_slice)\n",
    "      else:\n",
    "         print(\"Please select a mechanism above.\")\n",
    "         exit()\n",
    "      w_locals.insert(i, copy.deepcopy(w))\n",
    "\n",
    "   if mechanism == 'Proposed':\n",
    "      for i, id in enumerate(nondrop_users):\n",
    "         ProtectWeight(w_locals[i], noise_slices, weight_slices, split_index, id, flat_indice, device, clip)\n",
    "   \n",
    "   random_id = nondrop_users[0] # randon choose a client\n",
    "\n",
    "   test_sec_model.load_state_dict(copy.deepcopy(w_locals[0]))\n",
    "   loss_audit_results = sec_func(copy.deepcopy(test_sec_model), criterion, device, train_data[random_id], train_targets[random_id], test_data[random_id], test_targets[random_id], audit_data[random_id], audit_targets[random_id])\n",
    "   sec_acc = loss_audit_results[0].roc_auc if loss_audit_results[0].roc_auc != 0.00 else float(loss_audit_results[0].accuracy[0]) # roc_acc = 0 代表完全分不出來誰是member or non-member\n",
    "   sec_record.append(sec_acc)\n",
    "\n",
    "   new_glob_w = aggregate(w_locals, int(clients * drop_frac), device)\n",
    "   glob_model.load_state_dict(copy.deepcopy(new_glob_w))\n",
    "   glob_loss, glob_acc = test(copy.deepcopy(glob_model), device, evl_loader)\n",
    "   acc_record.append(glob_acc)\n",
    "   loss_record.append(glob_loss)\n",
    "   time_record.append(time.time() - start_time)\n",
    "   print(f\"Global Epoch: {j} | Client {random_id} | Time: {time.time() - start_time:.1f} | Test Loss: {glob_loss:.4f} | Test Acc: {glob_acc:.2f}% | Attack Acc {100 * sec_acc:.2f}%\")"
   ]
  },
  {
   "cell_type": "code",
   "execution_count": 9,
   "metadata": {},
   "outputs": [
    {
     "data": {
      "image/png": "[encoded data removed]",
      "text/plain": [
       "<Figure size 640x480 with 1 Axes>"
      ]
     },
     "metadata": {},
     "output_type": "display_data"
    }
   ],
   "source": [
    "plt.figure()\n",
    "plt.ylabel('Attack Accuracy')\n",
    "plt.xlabel('Global Epoch')\n",
    "plt.plot(range(len(sec_record)), sec_record, label='{}'.format(mechanism))\n",
    "plt.title('{} Attack Accuracy'.format('Cifar'))\n",
    "plt.legend()\n",
    "plt.savefig('attack_acc.png')"
   ]
  },
  {
   "cell_type": "code",
   "execution_count": 10,
   "metadata": {},
   "outputs": [
    {
     "data": {
      "image/png": "[encoded data removed]",
      "text/plain": [
       "<Figure size 640x480 with 1 Axes>"
      ]
     },
     "metadata": {},
     "output_type": "display_data"
    }
   ],
   "source": [
    "plt.figure()\n",
    "plt.ylabel('Test Accuracy')\n",
    "plt.xlabel('Global Epoch')\n",
    "plt.plot(range(len(acc_record)), acc_record, label='{}'.format(mechanism))\n",
    "plt.title('{} Accuracy'.format('Cifar'))\n",
    "plt.legend()\n",
    "plt.savefig('acc.png')"
   ]
  },
  {
   "cell_type": "code",
   "execution_count": 11,
   "metadata": {},
   "outputs": [
    {
     "data": {
      "image/png": "[encoded data removed]",
      "text/plain": [
       "<Figure size 640x480 with 1 Axes>"
      ]
     },
     "metadata": {},
     "output_type": "display_data"
    }
   ],
   "source": [
    "plt.figure()\n",
    "plt.ylabel('Test Loss')\n",
    "plt.xlabel('Global Epoch')\n",
    "plt.plot(range(len(loss_record)), loss_record, label='{}'.format(mechanism))\n",
    "plt.title('{} Loss'.format('Cifar'))\n",
    "plt.legend()\n",
    "plt.savefig('loss.png')"
   ]
  },
  {
   "cell_type": "code",
   "execution_count": 12,
   "metadata": {},
   "outputs": [],
   "source": [
    "if not os.path.exists(rootpath):\n",
    "    os.makedirs(rootpath)\n",
    "\n",
    "accfile = open(rootpath + '/acc_{}_{}_{}_dp_{}_epsilon_{}_drop_{}dat'.\n",
    "                    format('cifar', model_name, glob_epochs,\n",
    "                    mechanism, eps, drop_frac), \"w\")\n",
    "lossfile = open(rootpath + '/loss_{}_{}_{}_dp_{}_epsilon_{}_drop_{}.dat'.\n",
    "                    format('cifar', model_name, glob_epochs,\n",
    "                    mechanism, eps, drop_frac), \"w\")\n",
    "secfile = open(rootpath + '/sec_{}_{}_{}_dp_{}_epsilon_{}_drop_{}.dat'.\n",
    "                    format('cifar', model_name, glob_epochs,\n",
    "                    mechanism, eps, drop_frac), \"w\")\n",
    "\n",
    "tac = str(sum(time_record)) # write execution time in first line of accfile\n",
    "accfile.write(tac)\n",
    "accfile.write('\\n')\n",
    "for ac in acc_record:\n",
    "    sac = str(ac)\n",
    "    accfile.write(sac)\n",
    "    accfile.write('\\n')\n",
    "accfile.close()\n",
    "\n",
    "for lo in loss_record:\n",
    "    slo = str(lo)\n",
    "    lossfile.write(slo)\n",
    "    lossfile.write('\\n')\n",
    "lossfile.close()\n",
    "\n",
    "for se in sec_record:\n",
    "    sse = str(se)\n",
    "    secfile.write(sse)\n",
    "    secfile.write('\\n')\n",
    "secfile.close()"
   ]
  }
 ],
 "metadata": {
  "kernelspec": {
   "display_name": "privacy_meter_test",
   "language": "python",
   "name": "python3"
  },
  "language_info": {
   "codemirror_mode": {
    "name": "ipython",
    "version": 3
   },
   "file_extension": ".py",
   "mimetype": "text/x-python",
   "name": "python",
   "nbconvert_exporter": "python",
   "pygments_lexer": "ipython3",
   "version": "3.9.16"
  },
  "orig_nbformat": 4,
  "vscode": {
   "interpreter": {
    "hash": "af48e0a30d2a0b619bf296aea7d7271ba14c9beb98b0928b3e23c82f12ae949a"
   }
  }
 },
 "nbformat": 4,
 "nbformat_minor": 2
}
