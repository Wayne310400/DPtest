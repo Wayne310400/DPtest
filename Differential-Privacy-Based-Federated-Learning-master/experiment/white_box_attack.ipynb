{
 "cells": [
  {
   "attachments": {},
   "cell_type": "markdown",
   "metadata": {},
   "source": [
    "# Whitebox attack using privacy meter"
   ]
  },
  {
   "attachments": {},
   "cell_type": "markdown",
   "metadata": {},
   "source": [
    "# Import"
   ]
  },
  {
   "cell_type": "code",
   "execution_count": 1,
   "metadata": {},
   "outputs": [
    {
     "name": "stderr",
     "output_type": "stream",
     "text": [
      "/home/wayne/.local/lib/python3.9/site-packages/tqdm/auto.py:21: TqdmWarning: IProgress not found. Please update jupyter and ipywidgets. See https://ipywidgets.readthedocs.io/en/stable/user_install.html\n",
      "  from .autonotebook import tqdm as notebook_tqdm\n",
      "2023-05-27 10:01:08.541880: I tensorflow/core/platform/cpu_feature_guard.cc:193] This TensorFlow binary is optimized with oneAPI Deep Neural Network Library (oneDNN) to use the following CPU instructions in performance-critical operations:  AVX2 FMA\n",
      "To enable them in other operations, rebuild TensorFlow with the appropriate compiler flags.\n",
      "2023-05-27 10:01:09.026032: W tensorflow/compiler/xla/stream_executor/platform/default/dso_loader.cc:64] Could not load dynamic library 'libnvinfer.so.7'; dlerror: libnvinfer.so.7: cannot open shared object file: No such file or directory\n",
      "2023-05-27 10:01:09.026076: W tensorflow/compiler/xla/stream_executor/platform/default/dso_loader.cc:64] Could not load dynamic library 'libnvinfer_plugin.so.7'; dlerror: libnvinfer_plugin.so.7: cannot open shared object file: No such file or directory\n",
      "2023-05-27 10:01:09.026082: W tensorflow/compiler/tf2tensorrt/utils/py_utils.cc:38] TF-TRT Warning: Cannot dlopen some TensorRT libraries. If you would like to use Nvidia GPU with TensorRT, please make sure the missing libraries mentioned above are installed properly.\n"
     ]
    }
   ],
   "source": [
    "import numpy as np\n",
    "import matplotlib.pyplot as plt\n",
    "import torch\n",
    "import torchvision\n",
    "import copy\n",
    "import random\n",
    "import os\n",
    "import time\n",
    "import warnings\n",
    "warnings.filterwarnings('ignore')\n",
    "\n",
    "from torch import nn\n",
    "from tqdm import tqdm\n",
    "from ast import List\n",
    "from torchvision import transforms\n",
    "from torchvision.models import resnet18, resnet34, densenet121\n",
    "from model import CNNCifar, LeNet, ResNet18, DenseNet121, AlexNet, MobileNetV3, get_model_parameters\n",
    "from train import nor_train, dp_train, dp_trainv2, proposed_train, indust_train\n",
    "from util import sec_func, test\n",
    "from fed import ProtectWeight, FlatSplitParams, aggregate\n",
    "\n",
    "random.seed(123)\n",
    "np.random.seed(123)\n",
    "torch.manual_seed(123)\n",
    "torch.cuda.manual_seed_all(123)\n",
    "torch.cuda.manual_seed(123)"
   ]
  },
  {
   "attachments": {},
   "cell_type": "markdown",
   "metadata": {},
   "source": [
    "# Define hyper-parameters"
   ]
  },
  {
   "cell_type": "code",
   "execution_count": 2,
   "metadata": {},
   "outputs": [
    {
     "name": "stdout",
     "output_type": "stream",
     "text": [
      "sensitivity:  0.002\n",
      "sigma:  529.8802526850474\n",
      "sensitivity * sigma:  1.0597605053700947\n"
     ]
    }
   ],
   "source": [
    "# for training the target model\n",
    "num_train_points = 500\n",
    "num_test_points = 500\n",
    "num_population_points = 1000\n",
    "batch_size = 64\n",
    "learning_rate = 0.1\n",
    "local_epochs = 5\n",
    "clients = 100\n",
    "glob_epochs = 100\n",
    "drop_frac = 0.0\n",
    "rate_decay = False\n",
    "iid = False\n",
    "\n",
    "q = 0.9 # sampling rate\n",
    "eps = 1.0 # privacy budget\n",
    "delta = 10e-5 # probability of something bad happening\n",
    "clip = 20.0\n",
    "# laplace noise: [np.random.laplace(loc=0, scale=1/epsilon) for x in range(100000)]\n",
    "sensitivity = learning_rate * clip  / num_train_points\n",
    "sigma = np.sqrt(2 * np.log(1.25 / (delta/ (glob_epochs * (1 - drop_frac))))) * 1 / (eps/ (glob_epochs * (1 - drop_frac)))\n",
    "# gaussian noise: vals_gauss = [np.random.normal(loc=0, scale=sigma) for x in range(100000)]\n",
    "print(\"sensitivity: \", sensitivity)\n",
    "print(\"sigma: \", sigma)\n",
    "print(\"sensitivity * sigma: \", sensitivity * sigma)\n",
    "\n",
    "device = 'cuda:1' if torch.cuda.is_available() else 'cpu' # you can change it to 'cuda' if you have GPU\n",
    "rootpath = './log'\n",
    "mechanism = \"DP2\"\n",
    "model_name = 'resnet18'"
   ]
  },
  {
   "attachments": {},
   "cell_type": "markdown",
   "metadata": {},
   "source": [
    "# Create the data"
   ]
  },
  {
   "attachments": {},
   "cell_type": "markdown",
   "metadata": {},
   "source": [
    "Load all the data"
   ]
  },
  {
   "cell_type": "code",
   "execution_count": 3,
   "metadata": {},
   "outputs": [
    {
     "name": "stdout",
     "output_type": "stream",
     "text": [
      "Files already downloaded and verified\n"
     ]
    }
   ],
   "source": [
    "# transform = transforms.Compose([\n",
    "#     transforms.RandomCrop(32, padding=4),\n",
    "#     transforms.RandomHorizontalFlip(),\n",
    "#     transforms.ToTensor(),\n",
    "#     transforms.Normalize((0.4914, 0.4822, 0.4465), (0.2023, 0.1994, 0.2010)),\n",
    "# ])\n",
    "\n",
    "transform = transforms.Compose([\n",
    "    transforms.RandomCrop(32, padding=4),\n",
    "    transforms.RandomHorizontalFlip(),\n",
    "    transforms.ToTensor()\n",
    "])\n",
    "\n",
    "# transform = transforms.Compose([\n",
    "# #     transforms.Resize((32,32)),  #resises the image so it can be perfect for our model.\n",
    "#     transforms.RandomHorizontalFlip(), # FLips the image w.r.t horizontal axis\n",
    "#     transforms.RandomRotation(10),     #Rotates the image to a specified angel\n",
    "#     transforms.RandomAffine(0, shear=10, scale=(0.8,1.2)), #Performs actions like zooms, change shear angles.\n",
    "#     transforms.ColorJitter(brightness=0.2, contrast=0.2, saturation=0.2), # Set the color params\n",
    "#     transforms.ToTensor(), # comvert the image to tensor so that it can work with torch\n",
    "# #     transforms.Normalize((0.5, 0.5, 0.5), (0.5, 0.5, 0.5)) #Normalize all the images\n",
    "# ])\n",
    "\n",
    "# transform = transforms.Compose([\n",
    "#     transforms.ToTensor(),\n",
    "#     transforms.Normalize((0.4914, 0.4822, 0.4465), (0.2023, 0.1994, 0.2010)),\n",
    "# ])\n",
    "# transform = transforms.Compose([transforms.ToTensor()])\n",
    "\n",
    "# all_data = torchvision.datasets.CIFAR10(\n",
    "#     root='.', train=True, download=True, transform=transform\n",
    "# )\n",
    "all_data = torchvision.datasets.CIFAR10(\n",
    "    root='.', train=True, download=True, transform=transform\n",
    ")\n",
    "# test_data = torchvision.datasets.CIFAR10(\n",
    "#     root='.', train=False, download=True, transform=transform\n",
    "# )\n",
    "# all_features = np.concatenate([all_data.data, test_data.data], axis=0)\n",
    "# all_targets = np.concatenate([all_data.targets, test_data.targets], axis=0)\n",
    "\n",
    "# all_data.data = all_features\n",
    "# all_data.targets = all_targets"
   ]
  },
  {
   "cell_type": "code",
   "execution_count": 4,
   "metadata": {},
   "outputs": [],
   "source": [
    "def get_dataset_subset(dataset: torchvision.datasets, index: List(int)):\n",
    "    \"\"\"Get a subset of the dataset.\n",
    "\n",
    "    Args:\n",
    "        dataset (torchvision.datasets): Whole dataset.\n",
    "        index (list): List of index.\n",
    "    \"\"\"\n",
    "    assert max(index) < len(dataset) and min(index) >= 0, \"Index out of range\"\n",
    "    data = (\n",
    "        torch.from_numpy(dataset.data[index]).float().permute(0, 3, 1, 2) / 255\n",
    "    )  # channel first\n",
    "    targets = list(np.array(dataset.targets)[index])\n",
    "    targets = torch.tensor(targets, dtype=torch.long)\n",
    "    return data, targets\n",
    "\n",
    "def cifar_noniid(dataset, num_users):\n",
    "    \"\"\"\n",
    "    Sample non-I.I.D client data from CIFAR10 dataset\n",
    "    :param dataset:\n",
    "    :param num_users:\n",
    "    :return:\n",
    "    \"\"\"\n",
    "    num_shards, num_imgs = 1000, 50\n",
    "    idx_shard = [i for i in range(num_shards)]\n",
    "    dict_users = {i: np.array([]) for i in range(num_users)}\n",
    "    idxs = np.arange(num_shards*num_imgs)\n",
    "    # labels = dataset.train_labels.numpy()\n",
    "    labels = np.array(dataset.targets)\n",
    "\n",
    "    # sort labels\n",
    "    idxs_labels = np.vstack((idxs, labels))\n",
    "    idxs_labels = idxs_labels[:, idxs_labels[1, :].argsort()]\n",
    "    idxs = idxs_labels[0, :]\n",
    "\n",
    "    # divide and assign\n",
    "    for i in range(num_users):\n",
    "        rand_set = set(np.random.choice(idx_shard, 10, replace=False))\n",
    "        idx_shard = list(set(idx_shard) - rand_set)\n",
    "        for rand in rand_set:\n",
    "            dict_users[i] = np.concatenate(\n",
    "                (dict_users[i], idxs[rand*num_imgs:(rand+1)*num_imgs]), axis=0)\n",
    "    return dict_users"
   ]
  },
  {
   "attachments": {},
   "cell_type": "markdown",
   "metadata": {},
   "source": [
    "Split the data into train, test and population"
   ]
  },
  {
   "cell_type": "code",
   "execution_count": 5,
   "metadata": {},
   "outputs": [],
   "source": [
    "chosen_index = []\n",
    "train_data, train_targets, test_data, test_targets, audit_data, audit_targets, train_index, test_index = [], [], [], [], [], [], [], []\n",
    "\n",
    "all_index = np.arange(len(all_data))\n",
    "if iid:\n",
    "  for i in range(clients):\n",
    "    train_i = np.random.choice([i for i in all_index if i not in chosen_index], num_train_points, replace=False)\n",
    "    test_i = np.random.choice([i for i in all_index if i not in train_i], num_test_points, replace=False)\n",
    "    population_index = np.random.choice([i for i in all_index if i not in train_i and i not in test_i], num_population_points, replace=False)\n",
    "    chosen_index = np.concatenate((chosen_index,train_i))\n",
    "\n",
    "    train_d, train_t = get_dataset_subset(all_data, train_i)\n",
    "    test_d, test_t = get_dataset_subset(all_data, test_i)\n",
    "    audit_d, audit_t = get_dataset_subset(all_data, population_index)\n",
    "    train_data.insert(i, train_d)\n",
    "    train_targets.insert(i, train_t)\n",
    "    test_data.insert(i, test_d)\n",
    "    test_targets.insert(i, test_t)\n",
    "    audit_data.insert(i, audit_d)\n",
    "    audit_targets.insert(i, audit_t)\n",
    "    train_index.insert(i, train_i)\n",
    "    test_index.insert(i, test_i)\n",
    "else:\n",
    "  train_is = cifar_noniid(all_data, clients)\n",
    "  for i in range(clients):\n",
    "    train_i = train_is[i].astype('int32')\n",
    "    test_i = np.random.choice([i for i in all_index if i not in train_i], num_test_points, replace=False)\n",
    "    population_index = np.random.choice([i for i in all_index if i not in train_i and i not in test_i], num_population_points, replace=False)\n",
    "\n",
    "    train_d, train_t = get_dataset_subset(all_data, train_i)\n",
    "    test_d, test_t = get_dataset_subset(all_data, test_i)\n",
    "    audit_d, audit_t = get_dataset_subset(all_data, population_index)\n",
    "    train_data.insert(i, train_d)\n",
    "    train_targets.insert(i, train_t)\n",
    "    test_data.insert(i, test_d)\n",
    "    test_targets.insert(i, test_t)\n",
    "    audit_data.insert(i, audit_d)\n",
    "    audit_targets.insert(i, audit_t)\n",
    "    train_index.insert(i, train_i)\n",
    "    test_index.insert(i, test_i)"
   ]
  },
  {
   "attachments": {},
   "cell_type": "markdown",
   "metadata": {},
   "source": [
    "Create the data loader for training the target model"
   ]
  },
  {
   "cell_type": "code",
   "execution_count": 6,
   "metadata": {},
   "outputs": [],
   "source": [
    "train_loader, test_loader = [], []\n",
    "for i in range(clients):\n",
    "  train_l = torch.utils.data.DataLoader(\n",
    "              torch.utils.data.Subset(all_data,train_index[i]),\n",
    "              batch_size=batch_size,\n",
    "              shuffle=True,\n",
    "              num_workers=4,\n",
    "              pin_memory=True,\n",
    "              persistent_workers=True,\n",
    "              prefetch_factor=16)\n",
    "  test_l = torch.utils.data.DataLoader(\n",
    "              torch.utils.data.Subset(all_data,test_index[i]),\n",
    "              batch_size=batch_size,\n",
    "              shuffle=True,\n",
    "              num_workers=4,\n",
    "              pin_memory=True,\n",
    "              persistent_workers=True,\n",
    "              prefetch_factor=16)\n",
    "  train_loader.insert(i, train_l)\n",
    "  test_loader.insert(i, test_l)"
   ]
  },
  {
   "cell_type": "code",
   "execution_count": 7,
   "metadata": {},
   "outputs": [
    {
     "name": "stdout",
     "output_type": "stream",
     "text": [
      "Files already downloaded and verified\n"
     ]
    }
   ],
   "source": [
    "transform = transforms.Compose([transforms.ToTensor()])\n",
    "evl_data = torchvision.datasets.CIFAR10(\n",
    "    root='.', train=False, download=True, transform=transform\n",
    ")\n",
    "evl_index = np.arange(len(evl_data))\n",
    "# eval_index = np.random.choice([i for i in evl_index], int(num_train_points * 0.25), replace=False)\n",
    "evl_loader = torch.utils.data.DataLoader(\n",
    "            #   torch.utils.data.Subset(evl_data,eval_index),\n",
    "              evl_data,\n",
    "              batch_size=batch_size,\n",
    "              shuffle=False,\n",
    "              num_workers=4,\n",
    "              pin_memory=True,\n",
    "              persistent_workers=True,\n",
    "              prefetch_factor=16)"
   ]
  },
  {
   "cell_type": "code",
   "execution_count": 8,
   "metadata": {},
   "outputs": [
    {
     "name": "stdout",
     "output_type": "stream",
     "text": [
      "Number of model parameters:  195738\n",
      "Number of model layers:  18\n",
      "['conv.weight', 'bn.weight', 'bn.bias', 'layer1.0.conv1.weight', 'layer1.0.bn1.weight', 'layer1.0.bn1.bias', 'layer1.0.conv2.weight', 'layer1.0.bn2.weight', 'layer1.0.bn2.bias', 'layer1.1.conv1.weight', 'layer1.1.bn1.weight', 'layer1.1.bn1.bias', 'layer1.1.conv2.weight', 'layer1.1.bn2.weight', 'layer1.1.bn2.bias', 'layer2.0.conv1.weight', 'layer2.0.bn1.weight', 'layer2.0.bn1.bias', 'layer2.0.conv2.weight', 'layer2.0.bn2.weight', 'layer2.0.bn2.bias', 'layer2.0.downsample.0.weight', 'layer2.0.downsample.1.weight', 'layer2.0.downsample.1.bias', 'layer2.1.conv1.weight', 'layer2.1.bn1.weight', 'layer2.1.bn1.bias', 'layer2.1.conv2.weight', 'layer2.1.bn2.weight', 'layer2.1.bn2.bias', 'layer3.0.conv1.weight', 'layer3.0.bn1.weight', 'layer3.0.bn1.bias', 'layer3.0.conv2.weight', 'layer3.0.bn2.weight', 'layer3.0.bn2.bias', 'layer3.0.downsample.0.weight', 'layer3.0.downsample.1.weight', 'layer3.0.downsample.1.bias', 'layer3.1.conv1.weight', 'layer3.1.bn1.weight', 'layer3.1.bn1.bias', 'layer3.1.conv2.weight', 'layer3.1.bn2.weight', 'layer3.1.bn2.bias', 'fc.weight', 'fc.bias']\n"
     ]
    }
   ],
   "source": [
    "if model_name == 'resnet18': # 11.2 M params -> 195 K\n",
    "   glob_model = ResNet18()\n",
    "# elif model_name == 'resnet34': # 21.3 M params\n",
    "#    glob_model = ResNet34()\n",
    "elif model_name == 'cnn': # 570 K params\n",
    "   glob_model = CNNCifar()\n",
    "   # glob_model = CNNDrop()\n",
    "elif model_name == 'lenet': # 60 K params\n",
    "   glob_model = LeNet()\n",
    "elif model_name == 'densenet': # 7.2 M params -> 1 M\n",
    "   glob_model = DenseNet121()\n",
    "# elif model_name == 'alexnet': # 60 M params\n",
    "#    glob_model = AlexNet()\n",
    "elif model_name == 'mobilenetv3': # L: 3.9 M params, S: 1.8 M params\n",
    "   glob_model = MobileNetV3(model_mode=\"LARGE\", num_classes=10, multiplier=0.75)\n",
    "\n",
    "num_params = get_model_parameters(glob_model)\n",
    "num_layers = len([x for x , y in glob_model.named_parameters() if ('conv' in x or 'fc' in x or 'downsample' in x) and 'weight' in x])\n",
    "print(\"Number of model parameters: \", num_params)\n",
    "print(\"Number of model layers: \", num_layers)\n",
    "print([x for x , y in glob_model.named_parameters()])"
   ]
  },
  {
   "attachments": {},
   "cell_type": "markdown",
   "metadata": {},
   "source": [
    "# Train the target model"
   ]
  },
  {
   "cell_type": "code",
   "execution_count": 9,
   "metadata": {},
   "outputs": [
    {
     "name": "stderr",
     "output_type": "stream",
     "text": [
      "Global Epoch: 0 | Drop Num: 0: 100%|██████████| 100/100 [01:06<00:00,  1.50it/s]\n"
     ]
    },
    {
     "name": "stdout",
     "output_type": "stream",
     "text": [
      "Global Epoch: 0 | Client 0 | lr: 0.1 | Time: 67.7 | Test Loss: 2.4582 | Test Acc: 9.95% | Attack Acc 62.11%\n"
     ]
    },
    {
     "name": "stderr",
     "output_type": "stream",
     "text": [
      "Global Epoch: 1 | Drop Num: 0: 100%|██████████| 100/100 [00:35<00:00,  2.85it/s]\n"
     ]
    },
    {
     "name": "stdout",
     "output_type": "stream",
     "text": [
      "Global Epoch: 1 | Client 0 | lr: 0.1 | Time: 35.8 | Test Loss: 2.0659 | Test Acc: 20.97% | Attack Acc 62.01%\n"
     ]
    },
    {
     "name": "stderr",
     "output_type": "stream",
     "text": [
      "Global Epoch: 2 | Drop Num: 0: 100%|██████████| 100/100 [00:35<00:00,  2.85it/s]\n"
     ]
    },
    {
     "name": "stdout",
     "output_type": "stream",
     "text": [
      "Global Epoch: 2 | Client 0 | lr: 0.1 | Time: 35.8 | Test Loss: 1.8910 | Test Acc: 25.07% | Attack Acc 62.08%\n"
     ]
    },
    {
     "name": "stderr",
     "output_type": "stream",
     "text": [
      "Global Epoch: 3 | Drop Num: 0: 100%|██████████| 100/100 [00:35<00:00,  2.85it/s]\n"
     ]
    },
    {
     "name": "stdout",
     "output_type": "stream",
     "text": [
      "Global Epoch: 3 | Client 0 | lr: 0.1 | Time: 35.9 | Test Loss: 1.7081 | Test Acc: 34.81% | Attack Acc 62.99%\n"
     ]
    },
    {
     "name": "stderr",
     "output_type": "stream",
     "text": [
      "Global Epoch: 4 | Drop Num: 0: 100%|██████████| 100/100 [00:35<00:00,  2.84it/s]\n"
     ]
    },
    {
     "name": "stdout",
     "output_type": "stream",
     "text": [
      "Global Epoch: 4 | Client 0 | lr: 0.1 | Time: 35.9 | Test Loss: 1.6662 | Test Acc: 35.25% | Attack Acc 63.52%\n"
     ]
    },
    {
     "name": "stderr",
     "output_type": "stream",
     "text": [
      "Global Epoch: 5 | Drop Num: 0: 100%|██████████| 100/100 [00:35<00:00,  2.86it/s]\n"
     ]
    },
    {
     "name": "stdout",
     "output_type": "stream",
     "text": [
      "Global Epoch: 5 | Client 0 | lr: 0.1 | Time: 35.8 | Test Loss: 1.5305 | Test Acc: 42.83% | Attack Acc 61.73%\n"
     ]
    },
    {
     "name": "stderr",
     "output_type": "stream",
     "text": [
      "Global Epoch: 6 | Drop Num: 0: 100%|██████████| 100/100 [00:35<00:00,  2.85it/s]\n"
     ]
    },
    {
     "name": "stdout",
     "output_type": "stream",
     "text": [
      "Global Epoch: 6 | Client 0 | lr: 0.1 | Time: 35.8 | Test Loss: 1.4676 | Test Acc: 45.50% | Attack Acc 65.22%\n"
     ]
    },
    {
     "name": "stderr",
     "output_type": "stream",
     "text": [
      "Global Epoch: 7 | Drop Num: 0: 100%|██████████| 100/100 [00:35<00:00,  2.84it/s]\n"
     ]
    },
    {
     "name": "stdout",
     "output_type": "stream",
     "text": [
      "Global Epoch: 7 | Client 0 | lr: 0.1 | Time: 35.9 | Test Loss: 1.3718 | Test Acc: 49.77% | Attack Acc 67.19%\n"
     ]
    },
    {
     "name": "stderr",
     "output_type": "stream",
     "text": [
      "Global Epoch: 8 | Drop Num: 0: 100%|██████████| 100/100 [00:35<00:00,  2.85it/s]\n"
     ]
    },
    {
     "name": "stdout",
     "output_type": "stream",
     "text": [
      "Global Epoch: 8 | Client 0 | lr: 0.1 | Time: 35.9 | Test Loss: 1.3445 | Test Acc: 50.15% | Attack Acc 66.21%\n"
     ]
    },
    {
     "name": "stderr",
     "output_type": "stream",
     "text": [
      "Global Epoch: 9 | Drop Num: 0: 100%|██████████| 100/100 [00:34<00:00,  2.86it/s]\n"
     ]
    },
    {
     "name": "stdout",
     "output_type": "stream",
     "text": [
      "Global Epoch: 9 | Client 0 | lr: 0.1 | Time: 35.6 | Test Loss: 1.2737 | Test Acc: 53.78% | Attack Acc 62.40%\n"
     ]
    },
    {
     "name": "stderr",
     "output_type": "stream",
     "text": [
      "Global Epoch: 10 | Drop Num: 0: 100%|██████████| 100/100 [00:35<00:00,  2.85it/s]\n"
     ]
    },
    {
     "name": "stdout",
     "output_type": "stream",
     "text": [
      "Global Epoch: 10 | Client 0 | lr: 0.1 | Time: 35.8 | Test Loss: 1.2544 | Test Acc: 54.23% | Attack Acc 61.91%\n"
     ]
    },
    {
     "name": "stderr",
     "output_type": "stream",
     "text": [
      "Global Epoch: 11 | Drop Num: 0: 100%|██████████| 100/100 [00:35<00:00,  2.84it/s]\n"
     ]
    },
    {
     "name": "stdout",
     "output_type": "stream",
     "text": [
      "Global Epoch: 11 | Client 0 | lr: 0.1 | Time: 35.9 | Test Loss: 1.1774 | Test Acc: 57.34% | Attack Acc 66.90%\n"
     ]
    },
    {
     "name": "stderr",
     "output_type": "stream",
     "text": [
      "Global Epoch: 12 | Drop Num: 0: 100%|██████████| 100/100 [00:35<00:00,  2.84it/s]\n"
     ]
    },
    {
     "name": "stdout",
     "output_type": "stream",
     "text": [
      "Global Epoch: 12 | Client 0 | lr: 0.1 | Time: 36.0 | Test Loss: 1.1957 | Test Acc: 56.86% | Attack Acc 65.67%\n"
     ]
    },
    {
     "name": "stderr",
     "output_type": "stream",
     "text": [
      "Global Epoch: 13 | Drop Num: 0: 100%|██████████| 100/100 [00:35<00:00,  2.84it/s]\n"
     ]
    },
    {
     "name": "stdout",
     "output_type": "stream",
     "text": [
      "Global Epoch: 13 | Client 0 | lr: 0.1 | Time: 35.9 | Test Loss: 1.1008 | Test Acc: 60.11% | Attack Acc 64.99%\n"
     ]
    },
    {
     "name": "stderr",
     "output_type": "stream",
     "text": [
      "Global Epoch: 14 | Drop Num: 0: 100%|██████████| 100/100 [00:35<00:00,  2.85it/s]\n"
     ]
    },
    {
     "name": "stdout",
     "output_type": "stream",
     "text": [
      "Global Epoch: 14 | Client 0 | lr: 0.1 | Time: 35.8 | Test Loss: 1.0906 | Test Acc: 60.62% | Attack Acc 66.98%\n"
     ]
    },
    {
     "name": "stderr",
     "output_type": "stream",
     "text": [
      "Global Epoch: 15 | Drop Num: 0: 100%|██████████| 100/100 [00:35<00:00,  2.84it/s]\n"
     ]
    },
    {
     "name": "stdout",
     "output_type": "stream",
     "text": [
      "Global Epoch: 15 | Client 0 | lr: 0.1 | Time: 35.9 | Test Loss: 1.0584 | Test Acc: 61.63% | Attack Acc 69.05%\n"
     ]
    },
    {
     "name": "stderr",
     "output_type": "stream",
     "text": [
      "Global Epoch: 16 | Drop Num: 0: 100%|██████████| 100/100 [00:35<00:00,  2.84it/s]\n"
     ]
    },
    {
     "name": "stdout",
     "output_type": "stream",
     "text": [
      "Global Epoch: 16 | Client 0 | lr: 0.1 | Time: 35.9 | Test Loss: 1.0187 | Test Acc: 63.44% | Attack Acc 67.81%\n"
     ]
    },
    {
     "name": "stderr",
     "output_type": "stream",
     "text": [
      "Global Epoch: 17 | Drop Num: 0: 100%|██████████| 100/100 [00:35<00:00,  2.84it/s]\n"
     ]
    },
    {
     "name": "stdout",
     "output_type": "stream",
     "text": [
      "Global Epoch: 17 | Client 0 | lr: 0.1 | Time: 35.9 | Test Loss: 1.0510 | Test Acc: 61.69% | Attack Acc 60.80%\n"
     ]
    },
    {
     "name": "stderr",
     "output_type": "stream",
     "text": [
      "Global Epoch: 18 | Drop Num: 0: 100%|██████████| 100/100 [00:35<00:00,  2.84it/s]\n"
     ]
    },
    {
     "name": "stdout",
     "output_type": "stream",
     "text": [
      "Global Epoch: 18 | Client 0 | lr: 0.1 | Time: 36.0 | Test Loss: 0.9656 | Test Acc: 65.35% | Attack Acc 69.40%\n"
     ]
    },
    {
     "name": "stderr",
     "output_type": "stream",
     "text": [
      "Global Epoch: 19 | Drop Num: 0: 100%|██████████| 100/100 [00:34<00:00,  2.86it/s]\n"
     ]
    },
    {
     "name": "stdout",
     "output_type": "stream",
     "text": [
      "Global Epoch: 19 | Client 0 | lr: 0.1 | Time: 35.7 | Test Loss: 1.0406 | Test Acc: 62.21% | Attack Acc 61.99%\n"
     ]
    },
    {
     "name": "stderr",
     "output_type": "stream",
     "text": [
      "Global Epoch: 20 | Drop Num: 0: 100%|██████████| 100/100 [00:35<00:00,  2.85it/s]\n"
     ]
    },
    {
     "name": "stdout",
     "output_type": "stream",
     "text": [
      "Global Epoch: 20 | Client 0 | lr: 0.1 | Time: 35.9 | Test Loss: 0.9267 | Test Acc: 67.03% | Attack Acc 68.28%\n"
     ]
    },
    {
     "name": "stderr",
     "output_type": "stream",
     "text": [
      "Global Epoch: 21 | Drop Num: 0: 100%|██████████| 100/100 [00:35<00:00,  2.84it/s]\n"
     ]
    },
    {
     "name": "stdout",
     "output_type": "stream",
     "text": [
      "Global Epoch: 21 | Client 0 | lr: 0.1 | Time: 35.9 | Test Loss: 1.0369 | Test Acc: 62.73% | Attack Acc 70.02%\n"
     ]
    },
    {
     "name": "stderr",
     "output_type": "stream",
     "text": [
      "Global Epoch: 22 | Drop Num: 0: 100%|██████████| 100/100 [00:35<00:00,  2.84it/s]\n"
     ]
    },
    {
     "name": "stdout",
     "output_type": "stream",
     "text": [
      "Global Epoch: 22 | Client 0 | lr: 0.1 | Time: 36.0 | Test Loss: 0.9094 | Test Acc: 67.68% | Attack Acc 70.03%\n"
     ]
    },
    {
     "name": "stderr",
     "output_type": "stream",
     "text": [
      "Global Epoch: 23 | Drop Num: 0: 100%|██████████| 100/100 [00:35<00:00,  2.84it/s]\n"
     ]
    },
    {
     "name": "stdout",
     "output_type": "stream",
     "text": [
      "Global Epoch: 23 | Client 0 | lr: 0.1 | Time: 35.9 | Test Loss: 1.0362 | Test Acc: 63.35% | Attack Acc 64.67%\n"
     ]
    },
    {
     "name": "stderr",
     "output_type": "stream",
     "text": [
      "Global Epoch: 24 | Drop Num: 0: 100%|██████████| 100/100 [00:35<00:00,  2.83it/s]\n"
     ]
    },
    {
     "name": "stdout",
     "output_type": "stream",
     "text": [
      "Global Epoch: 24 | Client 0 | lr: 0.1 | Time: 36.1 | Test Loss: 0.8747 | Test Acc: 69.16% | Attack Acc 70.24%\n"
     ]
    },
    {
     "name": "stderr",
     "output_type": "stream",
     "text": [
      "Global Epoch: 25 | Drop Num: 0: 100%|██████████| 100/100 [00:35<00:00,  2.84it/s]\n"
     ]
    },
    {
     "name": "stdout",
     "output_type": "stream",
     "text": [
      "Global Epoch: 25 | Client 0 | lr: 0.1 | Time: 35.9 | Test Loss: 1.0072 | Test Acc: 64.59% | Attack Acc 71.46%\n"
     ]
    },
    {
     "name": "stderr",
     "output_type": "stream",
     "text": [
      "Global Epoch: 26 | Drop Num: 0: 100%|██████████| 100/100 [00:34<00:00,  2.87it/s]\n"
     ]
    },
    {
     "name": "stdout",
     "output_type": "stream",
     "text": [
      "Global Epoch: 26 | Client 0 | lr: 0.1 | Time: 35.6 | Test Loss: 0.8724 | Test Acc: 69.43% | Attack Acc 69.14%\n"
     ]
    },
    {
     "name": "stderr",
     "output_type": "stream",
     "text": [
      "Global Epoch: 27 | Drop Num: 0: 100%|██████████| 100/100 [00:35<00:00,  2.85it/s]\n"
     ]
    },
    {
     "name": "stdout",
     "output_type": "stream",
     "text": [
      "Global Epoch: 27 | Client 0 | lr: 0.1 | Time: 35.9 | Test Loss: 1.0191 | Test Acc: 64.00% | Attack Acc 65.28%\n"
     ]
    },
    {
     "name": "stderr",
     "output_type": "stream",
     "text": [
      "Global Epoch: 28 | Drop Num: 0: 100%|██████████| 100/100 [00:35<00:00,  2.85it/s]\n"
     ]
    },
    {
     "name": "stdout",
     "output_type": "stream",
     "text": [
      "Global Epoch: 28 | Client 0 | lr: 0.1 | Time: 35.8 | Test Loss: 0.8669 | Test Acc: 69.62% | Attack Acc 68.98%\n"
     ]
    },
    {
     "name": "stderr",
     "output_type": "stream",
     "text": [
      "Global Epoch: 29 | Drop Num: 0: 100%|██████████| 100/100 [00:35<00:00,  2.84it/s]\n"
     ]
    },
    {
     "name": "stdout",
     "output_type": "stream",
     "text": [
      "Global Epoch: 29 | Client 0 | lr: 0.1 | Time: 35.9 | Test Loss: 0.9852 | Test Acc: 65.01% | Attack Acc 71.18%\n"
     ]
    },
    {
     "name": "stderr",
     "output_type": "stream",
     "text": [
      "Global Epoch: 30 | Drop Num: 0: 100%|██████████| 100/100 [00:35<00:00,  2.84it/s]\n"
     ]
    },
    {
     "name": "stdout",
     "output_type": "stream",
     "text": [
      "Global Epoch: 30 | Client 0 | lr: 0.1 | Time: 35.9 | Test Loss: 0.8548 | Test Acc: 70.08% | Attack Acc 69.15%\n"
     ]
    },
    {
     "name": "stderr",
     "output_type": "stream",
     "text": [
      "Global Epoch: 31 | Drop Num: 0: 100%|██████████| 100/100 [00:35<00:00,  2.84it/s]\n"
     ]
    },
    {
     "name": "stdout",
     "output_type": "stream",
     "text": [
      "Global Epoch: 31 | Client 0 | lr: 0.1 | Time: 35.9 | Test Loss: 1.0033 | Test Acc: 64.79% | Attack Acc 62.73%\n"
     ]
    },
    {
     "name": "stderr",
     "output_type": "stream",
     "text": [
      "Global Epoch: 32 | Drop Num: 0: 100%|██████████| 100/100 [00:35<00:00,  2.84it/s]\n"
     ]
    },
    {
     "name": "stdout",
     "output_type": "stream",
     "text": [
      "Global Epoch: 32 | Client 0 | lr: 0.1 | Time: 35.9 | Test Loss: 0.8877 | Test Acc: 68.68% | Attack Acc 64.13%\n"
     ]
    },
    {
     "name": "stderr",
     "output_type": "stream",
     "text": [
      "Global Epoch: 33 | Drop Num: 0: 100%|██████████| 100/100 [00:35<00:00,  2.83it/s]\n"
     ]
    },
    {
     "name": "stdout",
     "output_type": "stream",
     "text": [
      "Global Epoch: 33 | Client 0 | lr: 0.1 | Time: 36.1 | Test Loss: 1.0183 | Test Acc: 64.36% | Attack Acc 68.67%\n"
     ]
    },
    {
     "name": "stderr",
     "output_type": "stream",
     "text": [
      "Global Epoch: 34 | Drop Num: 0: 100%|██████████| 100/100 [00:35<00:00,  2.84it/s]\n"
     ]
    },
    {
     "name": "stdout",
     "output_type": "stream",
     "text": [
      "Global Epoch: 34 | Client 0 | lr: 0.1 | Time: 35.9 | Test Loss: 0.8884 | Test Acc: 68.87% | Attack Acc 61.08%\n"
     ]
    },
    {
     "name": "stderr",
     "output_type": "stream",
     "text": [
      "Global Epoch: 35 | Drop Num: 0: 100%|██████████| 100/100 [00:35<00:00,  2.84it/s]\n"
     ]
    },
    {
     "name": "stdout",
     "output_type": "stream",
     "text": [
      "Global Epoch: 35 | Client 0 | lr: 0.1 | Time: 35.9 | Test Loss: 1.0476 | Test Acc: 63.54% | Attack Acc 67.04%\n"
     ]
    },
    {
     "name": "stderr",
     "output_type": "stream",
     "text": [
      "Global Epoch: 36 | Drop Num: 0: 100%|██████████| 100/100 [00:35<00:00,  2.85it/s]\n"
     ]
    },
    {
     "name": "stdout",
     "output_type": "stream",
     "text": [
      "Global Epoch: 36 | Client 0 | lr: 0.1 | Time: 35.8 | Test Loss: 0.9031 | Test Acc: 68.64% | Attack Acc 62.24%\n"
     ]
    },
    {
     "name": "stderr",
     "output_type": "stream",
     "text": [
      "Global Epoch: 37 | Drop Num: 0: 100%|██████████| 100/100 [00:35<00:00,  2.84it/s]\n"
     ]
    },
    {
     "name": "stdout",
     "output_type": "stream",
     "text": [
      "Global Epoch: 37 | Client 0 | lr: 0.1 | Time: 35.9 | Test Loss: 1.0322 | Test Acc: 64.12% | Attack Acc 64.86%\n"
     ]
    },
    {
     "name": "stderr",
     "output_type": "stream",
     "text": [
      "Global Epoch: 38 | Drop Num: 0: 100%|██████████| 100/100 [00:35<00:00,  2.84it/s]\n"
     ]
    },
    {
     "name": "stdout",
     "output_type": "stream",
     "text": [
      "Global Epoch: 38 | Client 0 | lr: 0.1 | Time: 36.0 | Test Loss: 0.9157 | Test Acc: 68.27% | Attack Acc 69.15%\n"
     ]
    },
    {
     "name": "stderr",
     "output_type": "stream",
     "text": [
      "Global Epoch: 39 | Drop Num: 0: 100%|██████████| 100/100 [00:35<00:00,  2.85it/s]\n"
     ]
    },
    {
     "name": "stdout",
     "output_type": "stream",
     "text": [
      "Global Epoch: 39 | Client 0 | lr: 0.1 | Time: 35.8 | Test Loss: 1.0939 | Test Acc: 62.16% | Attack Acc 66.45%\n"
     ]
    },
    {
     "name": "stderr",
     "output_type": "stream",
     "text": [
      "Global Epoch: 40 | Drop Num: 0: 100%|██████████| 100/100 [00:35<00:00,  2.84it/s]\n"
     ]
    },
    {
     "name": "stdout",
     "output_type": "stream",
     "text": [
      "Global Epoch: 40 | Client 0 | lr: 0.1 | Time: 35.9 | Test Loss: 0.9330 | Test Acc: 67.61% | Attack Acc 67.66%\n"
     ]
    },
    {
     "name": "stderr",
     "output_type": "stream",
     "text": [
      "Global Epoch: 41 | Drop Num: 0: 100%|██████████| 100/100 [00:35<00:00,  2.83it/s]\n"
     ]
    },
    {
     "name": "stdout",
     "output_type": "stream",
     "text": [
      "Global Epoch: 41 | Client 0 | lr: 0.1 | Time: 36.1 | Test Loss: 1.1583 | Test Acc: 61.13% | Attack Acc 64.60%\n"
     ]
    },
    {
     "name": "stderr",
     "output_type": "stream",
     "text": [
      "Global Epoch: 42 | Drop Num: 0: 100%|██████████| 100/100 [00:35<00:00,  2.83it/s]\n"
     ]
    },
    {
     "name": "stdout",
     "output_type": "stream",
     "text": [
      "Global Epoch: 42 | Client 0 | lr: 0.1 | Time: 36.1 | Test Loss: 0.9556 | Test Acc: 66.96% | Attack Acc 65.24%\n"
     ]
    },
    {
     "name": "stderr",
     "output_type": "stream",
     "text": [
      "Global Epoch: 43 | Drop Num: 0: 100%|██████████| 100/100 [00:35<00:00,  2.85it/s]\n"
     ]
    },
    {
     "name": "stdout",
     "output_type": "stream",
     "text": [
      "Global Epoch: 43 | Client 0 | lr: 0.1 | Time: 35.8 | Test Loss: 1.1168 | Test Acc: 62.37% | Attack Acc 60.86%\n"
     ]
    },
    {
     "name": "stderr",
     "output_type": "stream",
     "text": [
      "Global Epoch: 44 | Drop Num: 0: 100%|██████████| 100/100 [00:35<00:00,  2.84it/s]\n"
     ]
    },
    {
     "name": "stdout",
     "output_type": "stream",
     "text": [
      "Global Epoch: 44 | Client 0 | lr: 0.1 | Time: 36.0 | Test Loss: 0.9705 | Test Acc: 66.79% | Attack Acc 63.25%\n"
     ]
    },
    {
     "name": "stderr",
     "output_type": "stream",
     "text": [
      "Global Epoch: 45 | Drop Num: 0: 100%|██████████| 100/100 [00:35<00:00,  2.85it/s]\n"
     ]
    },
    {
     "name": "stdout",
     "output_type": "stream",
     "text": [
      "Global Epoch: 45 | Client 0 | lr: 0.1 | Time: 35.8 | Test Loss: 1.1006 | Test Acc: 62.66% | Attack Acc 67.53%\n"
     ]
    },
    {
     "name": "stderr",
     "output_type": "stream",
     "text": [
      "Global Epoch: 46 | Drop Num: 0: 100%|██████████| 100/100 [00:35<00:00,  2.83it/s]\n"
     ]
    },
    {
     "name": "stdout",
     "output_type": "stream",
     "text": [
      "Global Epoch: 46 | Client 0 | lr: 0.1 | Time: 36.0 | Test Loss: 0.9816 | Test Acc: 66.20% | Attack Acc 60.92%\n"
     ]
    },
    {
     "name": "stderr",
     "output_type": "stream",
     "text": [
      "Global Epoch: 47 | Drop Num: 0: 100%|██████████| 100/100 [00:35<00:00,  2.85it/s]\n"
     ]
    },
    {
     "name": "stdout",
     "output_type": "stream",
     "text": [
      "Global Epoch: 47 | Client 0 | lr: 0.1 | Time: 35.8 | Test Loss: 1.1163 | Test Acc: 63.06% | Attack Acc 66.94%\n"
     ]
    },
    {
     "name": "stderr",
     "output_type": "stream",
     "text": [
      "Global Epoch: 48 | Drop Num: 0: 100%|██████████| 100/100 [00:35<00:00,  2.84it/s]\n"
     ]
    },
    {
     "name": "stdout",
     "output_type": "stream",
     "text": [
      "Global Epoch: 48 | Client 0 | lr: 0.1 | Time: 35.9 | Test Loss: 1.0716 | Test Acc: 64.48% | Attack Acc 65.40%\n"
     ]
    },
    {
     "name": "stderr",
     "output_type": "stream",
     "text": [
      "Global Epoch: 49 | Drop Num: 0: 100%|██████████| 100/100 [00:35<00:00,  2.83it/s]\n"
     ]
    },
    {
     "name": "stdout",
     "output_type": "stream",
     "text": [
      "Global Epoch: 49 | Client 0 | lr: 0.1 | Time: 36.1 | Test Loss: 1.1282 | Test Acc: 63.04% | Attack Acc 61.57%\n"
     ]
    },
    {
     "name": "stderr",
     "output_type": "stream",
     "text": [
      "Global Epoch: 50 | Drop Num: 0: 100%|██████████| 100/100 [00:35<00:00,  2.83it/s]\n"
     ]
    },
    {
     "name": "stdout",
     "output_type": "stream",
     "text": [
      "Global Epoch: 50 | Client 0 | lr: 0.1 | Time: 36.1 | Test Loss: 1.0679 | Test Acc: 64.44% | Attack Acc 68.75%\n"
     ]
    },
    {
     "name": "stderr",
     "output_type": "stream",
     "text": [
      "Global Epoch: 51 | Drop Num: 0: 100%|██████████| 100/100 [00:35<00:00,  2.84it/s]\n"
     ]
    },
    {
     "name": "stdout",
     "output_type": "stream",
     "text": [
      "Global Epoch: 51 | Client 0 | lr: 0.1 | Time: 36.0 | Test Loss: 1.1442 | Test Acc: 62.60% | Attack Acc 69.50%\n"
     ]
    },
    {
     "name": "stderr",
     "output_type": "stream",
     "text": [
      "Global Epoch: 52 | Drop Num: 0: 100%|██████████| 100/100 [00:35<00:00,  2.84it/s]\n"
     ]
    },
    {
     "name": "stdout",
     "output_type": "stream",
     "text": [
      "Global Epoch: 52 | Client 0 | lr: 0.1 | Time: 35.9 | Test Loss: 1.0179 | Test Acc: 65.72% | Attack Acc 67.85%\n"
     ]
    },
    {
     "name": "stderr",
     "output_type": "stream",
     "text": [
      "Global Epoch: 53 | Drop Num: 0: 100%|██████████| 100/100 [00:35<00:00,  2.84it/s]\n"
     ]
    },
    {
     "name": "stdout",
     "output_type": "stream",
     "text": [
      "Global Epoch: 53 | Client 0 | lr: 0.1 | Time: 36.0 | Test Loss: 1.1854 | Test Acc: 61.50% | Attack Acc 57.01%\n"
     ]
    },
    {
     "name": "stderr",
     "output_type": "stream",
     "text": [
      "Global Epoch: 54 | Drop Num: 0: 100%|██████████| 100/100 [00:35<00:00,  2.85it/s]\n"
     ]
    },
    {
     "name": "stdout",
     "output_type": "stream",
     "text": [
      "Global Epoch: 54 | Client 0 | lr: 0.1 | Time: 35.9 | Test Loss: 1.0673 | Test Acc: 64.82% | Attack Acc 65.70%\n"
     ]
    },
    {
     "name": "stderr",
     "output_type": "stream",
     "text": [
      "Global Epoch: 55 | Drop Num: 0: 100%|██████████| 100/100 [00:35<00:00,  2.84it/s]\n"
     ]
    },
    {
     "name": "stdout",
     "output_type": "stream",
     "text": [
      "Global Epoch: 55 | Client 0 | lr: 0.1 | Time: 35.9 | Test Loss: 1.1626 | Test Acc: 62.30% | Attack Acc 60.81%\n"
     ]
    },
    {
     "name": "stderr",
     "output_type": "stream",
     "text": [
      "Global Epoch: 56 | Drop Num: 0: 100%|██████████| 100/100 [00:35<00:00,  2.85it/s]\n"
     ]
    },
    {
     "name": "stdout",
     "output_type": "stream",
     "text": [
      "Global Epoch: 56 | Client 0 | lr: 0.1 | Time: 35.9 | Test Loss: 1.0303 | Test Acc: 66.38% | Attack Acc 66.70%\n"
     ]
    },
    {
     "name": "stderr",
     "output_type": "stream",
     "text": [
      "Global Epoch: 57 | Drop Num: 0: 100%|██████████| 100/100 [00:35<00:00,  2.85it/s]\n"
     ]
    },
    {
     "name": "stdout",
     "output_type": "stream",
     "text": [
      "Global Epoch: 57 | Client 0 | lr: 0.1 | Time: 35.8 | Test Loss: 1.1913 | Test Acc: 61.92% | Attack Acc 64.26%\n"
     ]
    },
    {
     "name": "stderr",
     "output_type": "stream",
     "text": [
      "Global Epoch: 58 | Drop Num: 0: 100%|██████████| 100/100 [00:35<00:00,  2.85it/s]\n"
     ]
    },
    {
     "name": "stdout",
     "output_type": "stream",
     "text": [
      "Global Epoch: 58 | Client 0 | lr: 0.1 | Time: 35.8 | Test Loss: 1.1048 | Test Acc: 64.29% | Attack Acc 56.82%\n"
     ]
    },
    {
     "name": "stderr",
     "output_type": "stream",
     "text": [
      "Global Epoch: 59 | Drop Num: 0: 100%|██████████| 100/100 [00:35<00:00,  2.83it/s]\n"
     ]
    },
    {
     "name": "stdout",
     "output_type": "stream",
     "text": [
      "Global Epoch: 59 | Client 0 | lr: 0.1 | Time: 36.1 | Test Loss: 1.1378 | Test Acc: 63.30% | Attack Acc 65.77%\n"
     ]
    },
    {
     "name": "stderr",
     "output_type": "stream",
     "text": [
      "Global Epoch: 60 | Drop Num: 0: 100%|██████████| 100/100 [00:35<00:00,  2.83it/s]\n"
     ]
    },
    {
     "name": "stdout",
     "output_type": "stream",
     "text": [
      "Global Epoch: 60 | Client 0 | lr: 0.1 | Time: 36.1 | Test Loss: 1.1321 | Test Acc: 64.01% | Attack Acc 62.65%\n"
     ]
    },
    {
     "name": "stderr",
     "output_type": "stream",
     "text": [
      "Global Epoch: 61 | Drop Num: 0: 100%|██████████| 100/100 [00:35<00:00,  2.84it/s]\n"
     ]
    },
    {
     "name": "stdout",
     "output_type": "stream",
     "text": [
      "Global Epoch: 61 | Client 0 | lr: 0.1 | Time: 35.9 | Test Loss: 1.2052 | Test Acc: 61.86% | Attack Acc 65.66%\n"
     ]
    },
    {
     "name": "stderr",
     "output_type": "stream",
     "text": [
      "Global Epoch: 62 | Drop Num: 0: 100%|██████████| 100/100 [00:35<00:00,  2.85it/s]\n"
     ]
    },
    {
     "name": "stdout",
     "output_type": "stream",
     "text": [
      "Global Epoch: 62 | Client 0 | lr: 0.1 | Time: 35.9 | Test Loss: 1.0997 | Test Acc: 64.81% | Attack Acc 61.49%\n"
     ]
    },
    {
     "name": "stderr",
     "output_type": "stream",
     "text": [
      "Global Epoch: 63 | Drop Num: 0: 100%|██████████| 100/100 [00:35<00:00,  2.85it/s]\n"
     ]
    },
    {
     "name": "stdout",
     "output_type": "stream",
     "text": [
      "Global Epoch: 63 | Client 0 | lr: 0.1 | Time: 35.9 | Test Loss: 1.1702 | Test Acc: 63.30% | Attack Acc 68.84%\n"
     ]
    },
    {
     "name": "stderr",
     "output_type": "stream",
     "text": [
      "Global Epoch: 64 | Drop Num: 0: 100%|██████████| 100/100 [00:35<00:00,  2.81it/s]\n"
     ]
    },
    {
     "name": "stdout",
     "output_type": "stream",
     "text": [
      "Global Epoch: 64 | Client 0 | lr: 0.1 | Time: 36.3 | Test Loss: 1.1040 | Test Acc: 64.73% | Attack Acc 63.21%\n"
     ]
    },
    {
     "name": "stderr",
     "output_type": "stream",
     "text": [
      "Global Epoch: 65 | Drop Num: 0: 100%|██████████| 100/100 [00:35<00:00,  2.85it/s]\n"
     ]
    },
    {
     "name": "stdout",
     "output_type": "stream",
     "text": [
      "Global Epoch: 65 | Client 0 | lr: 0.1 | Time: 35.8 | Test Loss: 1.1531 | Test Acc: 63.73% | Attack Acc 61.34%\n"
     ]
    },
    {
     "name": "stderr",
     "output_type": "stream",
     "text": [
      "Global Epoch: 66 | Drop Num: 0: 100%|██████████| 100/100 [00:35<00:00,  2.83it/s]\n"
     ]
    },
    {
     "name": "stdout",
     "output_type": "stream",
     "text": [
      "Global Epoch: 66 | Client 0 | lr: 0.1 | Time: 36.1 | Test Loss: 1.1549 | Test Acc: 63.68% | Attack Acc 57.58%\n"
     ]
    },
    {
     "name": "stderr",
     "output_type": "stream",
     "text": [
      "Global Epoch: 67 | Drop Num: 0: 100%|██████████| 100/100 [00:35<00:00,  2.84it/s]\n"
     ]
    },
    {
     "name": "stdout",
     "output_type": "stream",
     "text": [
      "Global Epoch: 67 | Client 0 | lr: 0.1 | Time: 35.9 | Test Loss: 1.1501 | Test Acc: 63.85% | Attack Acc 59.47%\n"
     ]
    },
    {
     "name": "stderr",
     "output_type": "stream",
     "text": [
      "Global Epoch: 68 | Drop Num: 0: 100%|██████████| 100/100 [00:35<00:00,  2.83it/s]\n"
     ]
    },
    {
     "name": "stdout",
     "output_type": "stream",
     "text": [
      "Global Epoch: 68 | Client 0 | lr: 0.1 | Time: 36.1 | Test Loss: 1.1137 | Test Acc: 64.85% | Attack Acc 59.95%\n"
     ]
    },
    {
     "name": "stderr",
     "output_type": "stream",
     "text": [
      "Global Epoch: 69 | Drop Num: 0: 100%|██████████| 100/100 [00:35<00:00,  2.82it/s]\n"
     ]
    },
    {
     "name": "stdout",
     "output_type": "stream",
     "text": [
      "Global Epoch: 69 | Client 0 | lr: 0.1 | Time: 36.2 | Test Loss: 1.1549 | Test Acc: 64.04% | Attack Acc 62.65%\n"
     ]
    },
    {
     "name": "stderr",
     "output_type": "stream",
     "text": [
      "Global Epoch: 70 | Drop Num: 0: 100%|██████████| 100/100 [00:35<00:00,  2.85it/s]\n"
     ]
    },
    {
     "name": "stdout",
     "output_type": "stream",
     "text": [
      "Global Epoch: 70 | Client 0 | lr: 0.1 | Time: 35.8 | Test Loss: 1.1980 | Test Acc: 63.59% | Attack Acc 66.04%\n"
     ]
    },
    {
     "name": "stderr",
     "output_type": "stream",
     "text": [
      "Global Epoch: 71 | Drop Num: 0: 100%|██████████| 100/100 [00:35<00:00,  2.84it/s]\n"
     ]
    },
    {
     "name": "stdout",
     "output_type": "stream",
     "text": [
      "Global Epoch: 71 | Client 0 | lr: 0.1 | Time: 36.0 | Test Loss: 1.1181 | Test Acc: 65.16% | Attack Acc 59.74%\n"
     ]
    },
    {
     "name": "stderr",
     "output_type": "stream",
     "text": [
      "Global Epoch: 72 | Drop Num: 0: 100%|██████████| 100/100 [00:35<00:00,  2.82it/s]\n"
     ]
    },
    {
     "name": "stdout",
     "output_type": "stream",
     "text": [
      "Global Epoch: 72 | Client 0 | lr: 0.1 | Time: 36.2 | Test Loss: 1.1762 | Test Acc: 64.32% | Attack Acc 63.69%\n"
     ]
    },
    {
     "name": "stderr",
     "output_type": "stream",
     "text": [
      "Global Epoch: 73 | Drop Num: 0: 100%|██████████| 100/100 [00:35<00:00,  2.85it/s]\n"
     ]
    },
    {
     "name": "stdout",
     "output_type": "stream",
     "text": [
      "Global Epoch: 73 | Client 0 | lr: 0.1 | Time: 35.8 | Test Loss: 1.1708 | Test Acc: 64.41% | Attack Acc 61.95%\n"
     ]
    },
    {
     "name": "stderr",
     "output_type": "stream",
     "text": [
      "Global Epoch: 74 | Drop Num: 0: 100%|██████████| 100/100 [00:35<00:00,  2.85it/s]\n"
     ]
    },
    {
     "name": "stdout",
     "output_type": "stream",
     "text": [
      "Global Epoch: 74 | Client 0 | lr: 0.1 | Time: 35.8 | Test Loss: 1.1720 | Test Acc: 64.54% | Attack Acc 63.64%\n"
     ]
    },
    {
     "name": "stderr",
     "output_type": "stream",
     "text": [
      "Global Epoch: 75 | Drop Num: 0: 100%|██████████| 100/100 [00:35<00:00,  2.85it/s]\n"
     ]
    },
    {
     "name": "stdout",
     "output_type": "stream",
     "text": [
      "Global Epoch: 75 | Client 0 | lr: 0.1 | Time: 35.8 | Test Loss: 1.1962 | Test Acc: 63.81% | Attack Acc 59.74%\n"
     ]
    },
    {
     "name": "stderr",
     "output_type": "stream",
     "text": [
      "Global Epoch: 76 | Drop Num: 0: 100%|██████████| 100/100 [00:35<00:00,  2.83it/s]\n"
     ]
    },
    {
     "name": "stdout",
     "output_type": "stream",
     "text": [
      "Global Epoch: 76 | Client 0 | lr: 0.1 | Time: 36.0 | Test Loss: 1.1299 | Test Acc: 64.93% | Attack Acc 64.27%\n"
     ]
    },
    {
     "name": "stderr",
     "output_type": "stream",
     "text": [
      "Global Epoch: 77 | Drop Num: 0: 100%|██████████| 100/100 [00:35<00:00,  2.84it/s]\n"
     ]
    },
    {
     "name": "stdout",
     "output_type": "stream",
     "text": [
      "Global Epoch: 77 | Client 0 | lr: 0.1 | Time: 35.9 | Test Loss: 1.1585 | Test Acc: 65.14% | Attack Acc 67.25%\n"
     ]
    },
    {
     "name": "stderr",
     "output_type": "stream",
     "text": [
      "Global Epoch: 78 | Drop Num: 0: 100%|██████████| 100/100 [00:35<00:00,  2.85it/s]\n"
     ]
    },
    {
     "name": "stdout",
     "output_type": "stream",
     "text": [
      "Global Epoch: 78 | Client 0 | lr: 0.1 | Time: 35.9 | Test Loss: 1.1443 | Test Acc: 65.28% | Attack Acc 61.66%\n"
     ]
    },
    {
     "name": "stderr",
     "output_type": "stream",
     "text": [
      "Global Epoch: 79 | Drop Num: 0: 100%|██████████| 100/100 [00:35<00:00,  2.84it/s]\n"
     ]
    },
    {
     "name": "stdout",
     "output_type": "stream",
     "text": [
      "Global Epoch: 79 | Client 0 | lr: 0.1 | Time: 35.9 | Test Loss: 1.1557 | Test Acc: 65.03% | Attack Acc 61.92%\n"
     ]
    },
    {
     "name": "stderr",
     "output_type": "stream",
     "text": [
      "Global Epoch: 80 | Drop Num: 0: 100%|██████████| 100/100 [00:35<00:00,  2.84it/s]\n"
     ]
    },
    {
     "name": "stdout",
     "output_type": "stream",
     "text": [
      "Global Epoch: 80 | Client 0 | lr: 0.1 | Time: 36.0 | Test Loss: 1.1544 | Test Acc: 65.47% | Attack Acc 63.73%\n"
     ]
    },
    {
     "name": "stderr",
     "output_type": "stream",
     "text": [
      "Global Epoch: 81 | Drop Num: 0: 100%|██████████| 100/100 [00:35<00:00,  2.84it/s]\n"
     ]
    },
    {
     "name": "stdout",
     "output_type": "stream",
     "text": [
      "Global Epoch: 81 | Client 0 | lr: 0.1 | Time: 35.9 | Test Loss: 1.1340 | Test Acc: 65.98% | Attack Acc 66.48%\n"
     ]
    },
    {
     "name": "stderr",
     "output_type": "stream",
     "text": [
      "Global Epoch: 82 | Drop Num: 0: 100%|██████████| 100/100 [00:35<00:00,  2.84it/s]\n"
     ]
    },
    {
     "name": "stdout",
     "output_type": "stream",
     "text": [
      "Global Epoch: 82 | Client 0 | lr: 0.1 | Time: 35.9 | Test Loss: 1.1024 | Test Acc: 66.53% | Attack Acc 65.78%\n"
     ]
    },
    {
     "name": "stderr",
     "output_type": "stream",
     "text": [
      "Global Epoch: 83 | Drop Num: 0: 100%|██████████| 100/100 [00:35<00:00,  2.86it/s]\n"
     ]
    },
    {
     "name": "stdout",
     "output_type": "stream",
     "text": [
      "Global Epoch: 83 | Client 0 | lr: 0.1 | Time: 35.8 | Test Loss: 1.1193 | Test Acc: 65.96% | Attack Acc 64.68%\n"
     ]
    },
    {
     "name": "stderr",
     "output_type": "stream",
     "text": [
      "Global Epoch: 84 | Drop Num: 0: 100%|██████████| 100/100 [00:35<00:00,  2.84it/s]\n"
     ]
    },
    {
     "name": "stdout",
     "output_type": "stream",
     "text": [
      "Global Epoch: 84 | Client 0 | lr: 0.1 | Time: 36.0 | Test Loss: 1.1148 | Test Acc: 66.14% | Attack Acc 63.97%\n"
     ]
    },
    {
     "name": "stderr",
     "output_type": "stream",
     "text": [
      "Global Epoch: 85 | Drop Num: 0: 100%|██████████| 100/100 [00:35<00:00,  2.82it/s]\n"
     ]
    },
    {
     "name": "stdout",
     "output_type": "stream",
     "text": [
      "Global Epoch: 85 | Client 0 | lr: 0.1 | Time: 36.2 | Test Loss: 1.1458 | Test Acc: 66.10% | Attack Acc 61.92%\n"
     ]
    },
    {
     "name": "stderr",
     "output_type": "stream",
     "text": [
      "Global Epoch: 86 | Drop Num: 0: 100%|██████████| 100/100 [00:35<00:00,  2.84it/s]\n"
     ]
    },
    {
     "name": "stdout",
     "output_type": "stream",
     "text": [
      "Global Epoch: 86 | Client 0 | lr: 0.1 | Time: 35.9 | Test Loss: 1.1394 | Test Acc: 65.67% | Attack Acc 56.82%\n"
     ]
    },
    {
     "name": "stderr",
     "output_type": "stream",
     "text": [
      "Global Epoch: 87 | Drop Num: 0: 100%|██████████| 100/100 [00:35<00:00,  2.83it/s]\n"
     ]
    },
    {
     "name": "stdout",
     "output_type": "stream",
     "text": [
      "Global Epoch: 87 | Client 0 | lr: 0.1 | Time: 36.0 | Test Loss: 1.0975 | Test Acc: 66.93% | Attack Acc 65.45%\n"
     ]
    },
    {
     "name": "stderr",
     "output_type": "stream",
     "text": [
      "Global Epoch: 88 | Drop Num: 0: 100%|██████████| 100/100 [00:35<00:00,  2.84it/s]\n"
     ]
    },
    {
     "name": "stdout",
     "output_type": "stream",
     "text": [
      "Global Epoch: 88 | Client 0 | lr: 0.1 | Time: 35.9 | Test Loss: 1.1639 | Test Acc: 65.84% | Attack Acc 62.45%\n"
     ]
    },
    {
     "name": "stderr",
     "output_type": "stream",
     "text": [
      "Global Epoch: 89 | Drop Num: 0: 100%|██████████| 100/100 [00:35<00:00,  2.83it/s]\n"
     ]
    },
    {
     "name": "stdout",
     "output_type": "stream",
     "text": [
      "Global Epoch: 89 | Client 0 | lr: 0.1 | Time: 36.1 | Test Loss: 1.2138 | Test Acc: 65.05% | Attack Acc 61.96%\n"
     ]
    },
    {
     "name": "stderr",
     "output_type": "stream",
     "text": [
      "Global Epoch: 90 | Drop Num: 0: 100%|██████████| 100/100 [00:35<00:00,  2.85it/s]\n"
     ]
    },
    {
     "name": "stdout",
     "output_type": "stream",
     "text": [
      "Global Epoch: 90 | Client 0 | lr: 0.1 | Time: 35.8 | Test Loss: 1.1467 | Test Acc: 66.11% | Attack Acc 58.84%\n"
     ]
    },
    {
     "name": "stderr",
     "output_type": "stream",
     "text": [
      "Global Epoch: 91 | Drop Num: 0: 100%|██████████| 100/100 [00:35<00:00,  2.85it/s]\n"
     ]
    },
    {
     "name": "stdout",
     "output_type": "stream",
     "text": [
      "Global Epoch: 91 | Client 0 | lr: 0.1 | Time: 35.9 | Test Loss: 1.1823 | Test Acc: 65.10% | Attack Acc 61.75%\n"
     ]
    },
    {
     "name": "stderr",
     "output_type": "stream",
     "text": [
      "Global Epoch: 92 | Drop Num: 0: 100%|██████████| 100/100 [00:35<00:00,  2.84it/s]\n"
     ]
    },
    {
     "name": "stdout",
     "output_type": "stream",
     "text": [
      "Global Epoch: 92 | Client 0 | lr: 0.1 | Time: 36.0 | Test Loss: 1.1023 | Test Acc: 66.97% | Attack Acc 62.53%\n"
     ]
    },
    {
     "name": "stderr",
     "output_type": "stream",
     "text": [
      "Global Epoch: 93 | Drop Num: 0:  44%|████▍     | 44/100 [00:15<00:19,  2.82it/s]"
     ]
    }
   ],
   "source": [
    "all_clients = range(clients)\n",
    "split_index, flat_indice = FlatSplitParams(copy.deepcopy(glob_model), clients)\n",
    "lr = [learning_rate] * clients\n",
    "sec_record, acc_record, loss_record, time_record = [], [], [], []\n",
    "last_ws = [[]] * clients\n",
    "test_sec_model = copy.deepcopy(glob_model)\n",
    "criterion = nn.CrossEntropyLoss()\n",
    "ontrain_frac = 1 - drop_frac\n",
    "dp_strong = 50000\n",
    "\n",
    "for j in range(glob_epochs):\n",
    "   drop_users = random.sample(all_clients[1:], int(clients * drop_frac) ) # client 0 is used to evaluate security\n",
    "   nondrop_users = [x for x in range(clients) if x not in drop_users]\n",
    "   w_locals, weight_slices, noise_slices = [], [], []\n",
    "   start_time = time.time()\n",
    "   # print(\"Global Epoch: \", j, \" | Drop clients: \", drop_users)\n",
    "   for i in tqdm(range(clients), desc=f\"Global Epoch: {j} | Drop Num: {len(drop_users)}\"):\n",
    "      if i in drop_users:\n",
    "         weight_slices.insert(i, \"D\")\n",
    "         noise_slices.insert(i, \"D\")\n",
    "         continue\n",
    "      \n",
    "      if mechanism == 'None':\n",
    "        w = nor_train(copy.deepcopy(glob_model), device, i, lr, local_epochs, train_loader[i], rate_decay)\n",
    "      # elif mechanism == 'DP':\n",
    "      #    w = dp_train(copy.deepcopy(glob_model), device, i, lr, local_epochs, batch_size, train_loader[i], test_loader[i], train_data[i], train_targets[i], test_data[i],\n",
    "      #                 test_targets[i], audit_data[i], audit_targets[i], sec_record, q, batch_size, clip, sigma, len(train_loader[i]))\n",
    "      elif mechanism == 'DP2':\n",
    "         w = dp_trainv2(copy.deepcopy(glob_model), device, i, lr, local_epochs, train_loader[i], eps, delta, glob_epochs, clip, ontrain_frac, rate_decay, dp_strong)\n",
    "      elif mechanism == 'Proposed':\n",
    "         w, weight_slice, noise_slice = proposed_train(copy.deepcopy(glob_model), device, i, lr, local_epochs, glob_epochs, train_loader[i], eps, delta, \n",
    "                                                       split_index, flat_indice, clients, clip, ontrain_frac, rate_decay, dp_strong)\n",
    "         weight_slices.insert(i, weight_slice)\n",
    "         noise_slices.insert(i, noise_slice)\n",
    "      elif mechanism == 'Indust':\n",
    "         w, last_w = indust_train(copy.deepcopy(glob_model), device, i, lr, local_epochs, train_loader[i], last_ws, flat_indice, clip, delta, glob_epochs, \n",
    "                                  eps, ontrain_frac, rate_decay, dp_strong)\n",
    "         last_ws[i] = last_w\n",
    "      else:\n",
    "         print(\"Please select a mechanism above.\")\n",
    "         exit()\n",
    "      w_locals.append(copy.deepcopy(w))\n",
    "\n",
    "   if mechanism == 'Proposed':\n",
    "      for i, id in enumerate(nondrop_users):\n",
    "         ProtectWeight(w_locals[i], noise_slices, weight_slices, split_index, id, flat_indice, device, clip)\n",
    "   \n",
    "   random_id = nondrop_users[0] # randon choose a client\n",
    "   # Evaluate specific user's security\n",
    "   test_sec_model.load_state_dict(copy.deepcopy(w_locals[0]))\n",
    "   loss_audit_results = sec_func(copy.deepcopy(test_sec_model), criterion, device, train_data[random_id], train_targets[random_id], test_data[random_id], test_targets[random_id], audit_data[random_id], audit_targets[random_id])\n",
    "   sec_acc = loss_audit_results[0].roc_auc if loss_audit_results[0].roc_auc != 0.00 else float(loss_audit_results[0].accuracy[0]) # roc_acc = 0 means attacker can't identity member or non-member\n",
    "   sec_record.append(sec_acc)\n",
    "   # Evaluate global model's accuracy and loss\n",
    "   new_glob_w = aggregate(w_locals, device)\n",
    "   glob_model.load_state_dict(copy.deepcopy(new_glob_w))\n",
    "   glob_loss, glob_acc = test(copy.deepcopy(glob_model), device, evl_loader)\n",
    "   acc_record.append(glob_acc)\n",
    "   loss_record.append(glob_loss)\n",
    "   time_record.append(time.time() - start_time)\n",
    "   print(f\"Global Epoch: {j} | Client {random_id} | lr: {lr[random_id]} | Time: {time.time() - start_time:.1f} | Test Loss: {glob_loss:.4f} | Test Acc: {glob_acc:.2f}% | Attack Acc {100 * sec_acc:.2f}%\")"
   ]
  },
  {
   "cell_type": "code",
   "execution_count": null,
   "metadata": {},
   "outputs": [
    {
     "data": {
      "image/png": "[encoded data removed]",
      "text/plain": [
       "<Figure size 640x480 with 1 Axes>"
      ]
     },
     "metadata": {},
     "output_type": "display_data"
    }
   ],
   "source": [
    "plt.figure()\n",
    "plt.ylabel('Attack Accuracy')\n",
    "plt.xlabel('Global Epoch')\n",
    "plt.plot(range(len(sec_record)), sec_record, label='{}'.format(mechanism))\n",
    "plt.title('{} Attack Accuracy'.format('Cifar'))\n",
    "plt.legend()\n",
    "plt.savefig('attack_acc.png')"
   ]
  },
  {
   "cell_type": "code",
   "execution_count": null,
   "metadata": {},
   "outputs": [
    {
     "data": {
      "image/png": "[encoded data removed]",
      "text/plain": [
       "<Figure size 640x480 with 1 Axes>"
      ]
     },
     "metadata": {},
     "output_type": "display_data"
    }
   ],
   "source": [
    "plt.figure()\n",
    "plt.ylabel('Test Accuracy')\n",
    "plt.xlabel('Global Epoch')\n",
    "plt.plot(range(len(acc_record)), acc_record, label='{}'.format(mechanism))\n",
    "plt.title('{} Accuracy'.format('Cifar'))\n",
    "plt.legend()\n",
    "plt.savefig('acc.png')"
   ]
  },
  {
   "cell_type": "code",
   "execution_count": null,
   "metadata": {},
   "outputs": [
    {
     "data": {
      "image/png": "[encoded data removed]",
      "text/plain": [
       "<Figure size 640x480 with 1 Axes>"
      ]
     },
     "metadata": {},
     "output_type": "display_data"
    }
   ],
   "source": [
    "plt.figure()\n",
    "plt.ylabel('Test Loss')\n",
    "plt.xlabel('Global Epoch')\n",
    "plt.plot(range(len(loss_record)), loss_record, label='{}'.format(mechanism))\n",
    "plt.title('{} Loss'.format('Cifar'))\n",
    "plt.legend()\n",
    "plt.savefig('loss.png')"
   ]
  },
  {
   "cell_type": "code",
   "execution_count": null,
   "metadata": {},
   "outputs": [],
   "source": [
    "if not os.path.exists(rootpath):\n",
    "    os.makedirs(rootpath)\n",
    "\n",
    "accfile = open(rootpath + '/acc_{}_{}_{}_drop_{}_iid{}_bs_{}_lr_{}_G_epochs_{}_epsilon_{}_clip_{}_decay{}.dat'.\n",
    "                    format('cifar', model_name, mechanism, drop_frac, iid, batch_size,\n",
    "                           learning_rate, glob_epochs, eps, clip, rate_decay), \"w\")\n",
    "lossfile = open(rootpath + '/loss_{}_{}_{}_drop_{}_iid{}_bs_{}_lr_{}_G_epochs_{}_epsilon_{}_clip_{}_decay{}.dat'.\n",
    "                    format('cifar', model_name, mechanism, drop_frac, iid, batch_size,\n",
    "                           learning_rate, glob_epochs, eps, clip, rate_decay), \"w\")\n",
    "secfile = open(rootpath + '/sec_{}_{}_{}_drop_{}_iid{}_bs_{}_lr_{}_G_epochs_{}_epsilon_{}_clip_{}_decay{}.dat'.\n",
    "                    format('cifar', model_name, mechanism, drop_frac, iid, batch_size,\n",
    "                           learning_rate, glob_epochs, eps, clip, rate_decay), \"w\")\n",
    "\n",
    "tac = str(sum(time_record)) # write execution time in first line of accfile\n",
    "accfile.write(tac)\n",
    "accfile.write('\\n')\n",
    "for ac in acc_record:\n",
    "    sac = str(ac)\n",
    "    accfile.write(sac)\n",
    "    accfile.write('\\n')\n",
    "accfile.close()\n",
    "\n",
    "for lo in loss_record:\n",
    "    slo = str(lo)\n",
    "    lossfile.write(slo)\n",
    "    lossfile.write('\\n')\n",
    "lossfile.close()\n",
    "\n",
    "for se in sec_record:\n",
    "    sse = str(se)\n",
    "    secfile.write(sse)\n",
    "    secfile.write('\\n')\n",
    "secfile.close()"
   ]
  }
 ],
 "metadata": {
  "kernelspec": {
   "display_name": "privacy_meter_test",
   "language": "python",
   "name": "python3"
  },
  "language_info": {
   "codemirror_mode": {
    "name": "ipython",
    "version": 3
   },
   "file_extension": ".py",
   "mimetype": "text/x-python",
   "name": "python",
   "nbconvert_exporter": "python",
   "pygments_lexer": "ipython3",
   "version": "3.9.16"
  },
  "orig_nbformat": 4,
  "vscode": {
   "interpreter": {
    "hash": "af48e0a30d2a0b619bf296aea7d7271ba14c9beb98b0928b3e23c82f12ae949a"
   }
  }
 },
 "nbformat": 4,
 "nbformat_minor": 2
}
