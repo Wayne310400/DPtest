{
 "cells": [
  {
   "attachments": {},
   "cell_type": "markdown",
   "metadata": {},
   "source": [
    "# Whitebox attack using privacy meter"
   ]
  },
  {
   "attachments": {},
   "cell_type": "markdown",
   "metadata": {},
   "source": [
    "# Import"
   ]
  },
  {
   "cell_type": "code",
   "execution_count": 1,
   "metadata": {},
   "outputs": [
    {
     "name": "stderr",
     "output_type": "stream",
     "text": [
      "/home/wayne/.local/lib/python3.9/site-packages/tqdm/auto.py:21: TqdmWarning: IProgress not found. Please update jupyter and ipywidgets. See https://ipywidgets.readthedocs.io/en/stable/user_install.html\n",
      "  from .autonotebook import tqdm as notebook_tqdm\n",
      "2023-08-16 13:50:35.190813: I tensorflow/core/platform/cpu_feature_guard.cc:193] This TensorFlow binary is optimized with oneAPI Deep Neural Network Library (oneDNN) to use the following CPU instructions in performance-critical operations:  AVX2 FMA\n",
      "To enable them in other operations, rebuild TensorFlow with the appropriate compiler flags.\n",
      "2023-08-16 13:50:35.699874: W tensorflow/compiler/xla/stream_executor/platform/default/dso_loader.cc:64] Could not load dynamic library 'libnvinfer.so.7'; dlerror: libnvinfer.so.7: cannot open shared object file: No such file or directory\n",
      "2023-08-16 13:50:35.699922: W tensorflow/compiler/xla/stream_executor/platform/default/dso_loader.cc:64] Could not load dynamic library 'libnvinfer_plugin.so.7'; dlerror: libnvinfer_plugin.so.7: cannot open shared object file: No such file or directory\n",
      "2023-08-16 13:50:35.699929: W tensorflow/compiler/tf2tensorrt/utils/py_utils.cc:38] TF-TRT Warning: Cannot dlopen some TensorRT libraries. If you would like to use Nvidia GPU with TensorRT, please make sure the missing libraries mentioned above are installed properly.\n"
     ]
    }
   ],
   "source": [
    "import numpy as np\n",
    "import matplotlib.pyplot as plt\n",
    "import torch\n",
    "import torchvision\n",
    "import copy\n",
    "import random\n",
    "import os\n",
    "import time\n",
    "import warnings\n",
    "warnings.filterwarnings('ignore')\n",
    "\n",
    "from torch import nn\n",
    "from tqdm import tqdm\n",
    "from ast import List\n",
    "from torchvision import transforms\n",
    "from model import CNNCifar, LeNet, ResNet18, DenseNet121, AlexNet, MobileNetV3, get_model_parameters\n",
    "from train import nor_train, dp_train, dp_trainv2, proposed_train, indust_train, proposed_train2\n",
    "from util import sec_func, test\n",
    "from fed import ProtectWeight, FlatSplitParams, aggregate, ProtectWeight2\n",
    "\n",
    "random.seed(123)\n",
    "np.random.seed(123)\n",
    "torch.manual_seed(123)\n",
    "torch.cuda.manual_seed_all(123)\n",
    "torch.cuda.manual_seed(123)"
   ]
  },
  {
   "attachments": {},
   "cell_type": "markdown",
   "metadata": {},
   "source": [
    "# Define hyper-parameters"
   ]
  },
  {
   "cell_type": "code",
   "execution_count": 2,
   "metadata": {},
   "outputs": [],
   "source": [
    "# for training the target model\n",
    "num_train_points = 500\n",
    "num_test_points = 500\n",
    "num_population_points = 1000\n",
    "batch_size = 64\n",
    "learning_rate = 0.1\n",
    "local_epochs = 10\n",
    "clients = 100\n",
    "glob_epochs = 100\n",
    "drop_frac = 0.1\n",
    "rate_decay = False\n",
    "iid = False\n",
    "\n",
    "q = 0.9 # sampling rate\n",
    "eps = 1.0 # privacy budget\n",
    "delta = 10e-5 # probability of something bad happening\n",
    "cut_num = 100 # the weight cutting count of the proposed scheme\n",
    "# laplace noise: [np.random.laplace(loc=0, scale=1/epsilon) for x in range(100000)]\n",
    "# sensitivity = learning_rate * clip  / num_train_points\n",
    "# sigma = np.sqrt(2 * np.log(1.25 / (delta/ (glob_epochs * (1 - drop_frac))))) * 1 / (eps/ (glob_epochs * (1 - drop_frac)))\n",
    "# gaussian noise: vals_gauss = [np.random.normal(loc=0, scale=sigma) for x in range(100000)]\n",
    "# print(\"sensitivity: \", sensitivity)\n",
    "# print(\"sigma: \", sigma)\n",
    "# print(\"sensitivity * sigma: \", sensitivity * sigma)\n",
    "\n",
    "device = 'cuda:1' if torch.cuda.is_available() else 'cpu' # you can change it to 'cuda' if you have GPU\n",
    "rootpath = './log'\n",
    "mechanism = \"Proposed2\"\n",
    "model_name = 'cnn'"
   ]
  },
  {
   "attachments": {},
   "cell_type": "markdown",
   "metadata": {},
   "source": [
    "# Create the data"
   ]
  },
  {
   "attachments": {},
   "cell_type": "markdown",
   "metadata": {},
   "source": [
    "Load all the data"
   ]
  },
  {
   "cell_type": "code",
   "execution_count": 3,
   "metadata": {},
   "outputs": [
    {
     "name": "stdout",
     "output_type": "stream",
     "text": [
      "Files already downloaded and verified\n"
     ]
    }
   ],
   "source": [
    "# transform = transforms.Compose([\n",
    "#     transforms.RandomCrop(32, padding=4),\n",
    "#     transforms.RandomHorizontalFlip(),\n",
    "#     transforms.ToTensor(),\n",
    "#     transforms.Normalize((0.4914, 0.4822, 0.4465), (0.2023, 0.1994, 0.2010)),\n",
    "# ])\n",
    "\n",
    "transform = transforms.Compose([\n",
    "    transforms.RandomCrop(32, padding=4),\n",
    "    transforms.RandomHorizontalFlip(),\n",
    "    transforms.ToTensor()\n",
    "])\n",
    "\n",
    "# transform = transforms.Compose([\n",
    "# #     transforms.Resize((32,32)),  #resises the image so it can be perfect for our model.\n",
    "#     transforms.RandomHorizontalFlip(), # FLips the image w.r.t horizontal axis\n",
    "#     transforms.RandomRotation(10),     #Rotates the image to a specified angel\n",
    "#     transforms.RandomAffine(0, shear=10, scale=(0.8,1.2)), #Performs actions like zooms, change shear angles.\n",
    "#     transforms.ColorJitter(brightness=0.2, contrast=0.2, saturation=0.2), # Set the color params\n",
    "#     transforms.ToTensor(), # comvert the image to tensor so that it can work with torch\n",
    "# #     transforms.Normalize((0.5, 0.5, 0.5), (0.5, 0.5, 0.5)) #Normalize all the images\n",
    "# ])\n",
    "\n",
    "# transform = transforms.Compose([\n",
    "#     transforms.ToTensor(),\n",
    "#     transforms.Normalize((0.4914, 0.4822, 0.4465), (0.2023, 0.1994, 0.2010)),\n",
    "# ])\n",
    "# transform = transforms.Compose([transforms.ToTensor()])\n",
    "\n",
    "# all_data = torchvision.datasets.CIFAR10(\n",
    "#     root='.', train=True, download=True, transform=transform\n",
    "# )\n",
    "all_data = torchvision.datasets.CIFAR10(\n",
    "    root='.', train=True, download=True, transform=transform\n",
    ")\n",
    "# test_data = torchvision.datasets.CIFAR10(\n",
    "#     root='.', train=False, download=True, transform=transform\n",
    "# )\n",
    "# all_features = np.concatenate([all_data.data, test_data.data], axis=0)\n",
    "# all_targets = np.concatenate([all_data.targets, test_data.targets], axis=0)\n",
    "\n",
    "# all_data.data = all_features\n",
    "# all_data.targets = all_targets"
   ]
  },
  {
   "cell_type": "code",
   "execution_count": 4,
   "metadata": {},
   "outputs": [],
   "source": [
    "def get_dataset_subset(dataset: torchvision.datasets, index: List(int)):\n",
    "    \"\"\"Get a subset of the dataset.\n",
    "\n",
    "    Args:\n",
    "        dataset (torchvision.datasets): Whole dataset.\n",
    "        index (list): List of index.\n",
    "    \"\"\"\n",
    "    assert max(index) < len(dataset) and min(index) >= 0, \"Index out of range\"\n",
    "    data = (\n",
    "        torch.from_numpy(dataset.data[index]).float().permute(0, 3, 1, 2) / 255\n",
    "    )  # channel first\n",
    "    targets = list(np.array(dataset.targets)[index])\n",
    "    targets = torch.tensor(targets, dtype=torch.long)\n",
    "    return data, targets\n",
    "\n",
    "def cifar_noniid(dataset, num_users):\n",
    "    \"\"\"\n",
    "    Sample non-I.I.D client data from CIFAR10 dataset\n",
    "    :param dataset:\n",
    "    :param num_users:\n",
    "    :return:\n",
    "    \"\"\"\n",
    "    num_shards, num_imgs = 1000, 50\n",
    "    idx_shard = [i for i in range(num_shards)]\n",
    "    dict_users = {i: np.array([]) for i in range(num_users)}\n",
    "    idxs = np.arange(num_shards*num_imgs)\n",
    "    # labels = dataset.train_labels.numpy()\n",
    "    labels = np.array(dataset.targets)\n",
    "\n",
    "    # sort labels\n",
    "    idxs_labels = np.vstack((idxs, labels))\n",
    "    idxs_labels = idxs_labels[:, idxs_labels[1, :].argsort()]\n",
    "    idxs = idxs_labels[0, :]\n",
    "\n",
    "    # divide and assign\n",
    "    for i in range(num_users):\n",
    "        rand_set = set(np.random.choice(idx_shard, 10, replace=False))\n",
    "        idx_shard = list(set(idx_shard) - rand_set)\n",
    "        for rand in rand_set:\n",
    "            dict_users[i] = np.concatenate(\n",
    "                (dict_users[i], idxs[rand*num_imgs:(rand+1)*num_imgs]), axis=0)\n",
    "    return dict_users"
   ]
  },
  {
   "attachments": {},
   "cell_type": "markdown",
   "metadata": {},
   "source": [
    "Split the data into train, test and population"
   ]
  },
  {
   "cell_type": "code",
   "execution_count": 5,
   "metadata": {},
   "outputs": [],
   "source": [
    "chosen_index = []\n",
    "train_data, train_targets, test_data, test_targets, audit_data, audit_targets, train_index, test_index = [], [], [], [], [], [], [], []\n",
    "\n",
    "all_index = np.arange(len(all_data))\n",
    "if iid:\n",
    "  for i in range(clients):\n",
    "    train_i = np.random.choice([i for i in all_index if i not in chosen_index], num_train_points, replace=False)\n",
    "    test_i = np.random.choice([i for i in all_index if i not in train_i], num_test_points, replace=False)\n",
    "    population_index = np.random.choice([i for i in all_index if i not in train_i and i not in test_i], num_population_points, replace=False)\n",
    "    chosen_index = np.concatenate((chosen_index,train_i))\n",
    "\n",
    "    train_d, train_t = get_dataset_subset(all_data, train_i)\n",
    "    test_d, test_t = get_dataset_subset(all_data, test_i)\n",
    "    audit_d, audit_t = get_dataset_subset(all_data, population_index)\n",
    "    train_data.insert(i, train_d)\n",
    "    train_targets.insert(i, train_t)\n",
    "    test_data.insert(i, test_d)\n",
    "    test_targets.insert(i, test_t)\n",
    "    audit_data.insert(i, audit_d)\n",
    "    audit_targets.insert(i, audit_t)\n",
    "    train_index.insert(i, train_i)\n",
    "    test_index.insert(i, test_i)\n",
    "else:\n",
    "  train_is = cifar_noniid(all_data, clients)\n",
    "  for i in range(clients):\n",
    "    train_i = train_is[i].astype('int32')\n",
    "    test_i = np.random.choice([i for i in all_index if i not in train_i], num_test_points, replace=False)\n",
    "    population_index = np.random.choice([i for i in all_index if i not in train_i and i not in test_i], num_population_points, replace=False)\n",
    "\n",
    "    train_d, train_t = get_dataset_subset(all_data, train_i)\n",
    "    test_d, test_t = get_dataset_subset(all_data, test_i)\n",
    "    audit_d, audit_t = get_dataset_subset(all_data, population_index)\n",
    "    train_data.insert(i, train_d)\n",
    "    train_targets.insert(i, train_t)\n",
    "    test_data.insert(i, test_d)\n",
    "    test_targets.insert(i, test_t)\n",
    "    audit_data.insert(i, audit_d)\n",
    "    audit_targets.insert(i, audit_t)\n",
    "    train_index.insert(i, train_i)\n",
    "    test_index.insert(i, test_i)"
   ]
  },
  {
   "attachments": {},
   "cell_type": "markdown",
   "metadata": {},
   "source": [
    "Create the data loader for training the target model"
   ]
  },
  {
   "cell_type": "code",
   "execution_count": 6,
   "metadata": {},
   "outputs": [],
   "source": [
    "train_loader, test_loader = [], []\n",
    "for i in range(clients):\n",
    "  train_l = torch.utils.data.DataLoader(\n",
    "              torch.utils.data.Subset(all_data,train_index[i]),\n",
    "              batch_size=batch_size,\n",
    "              shuffle=True,\n",
    "              num_workers=4,\n",
    "              pin_memory=True,\n",
    "              persistent_workers=True,\n",
    "              prefetch_factor=16)\n",
    "  test_l = torch.utils.data.DataLoader(\n",
    "              torch.utils.data.Subset(all_data,test_index[i]),\n",
    "              batch_size=batch_size,\n",
    "              shuffle=True,\n",
    "              num_workers=4,\n",
    "              pin_memory=True,\n",
    "              persistent_workers=True,\n",
    "              prefetch_factor=16)\n",
    "  train_loader.insert(i, train_l)\n",
    "  test_loader.insert(i, test_l)"
   ]
  },
  {
   "cell_type": "code",
   "execution_count": 7,
   "metadata": {},
   "outputs": [
    {
     "name": "stdout",
     "output_type": "stream",
     "text": [
      "Files already downloaded and verified\n"
     ]
    }
   ],
   "source": [
    "transform = transforms.Compose([transforms.ToTensor()])\n",
    "evl_data = torchvision.datasets.CIFAR10(\n",
    "    root='.', train=False, download=True, transform=transform\n",
    ")\n",
    "evl_index = np.arange(len(evl_data))\n",
    "# eval_index = np.random.choice([i for i in evl_index], int(num_train_points * 0.25), replace=False)\n",
    "evl_loader = torch.utils.data.DataLoader(\n",
    "            #   torch.utils.data.Subset(evl_data,eval_index),\n",
    "              evl_data,\n",
    "              batch_size=batch_size,\n",
    "              shuffle=False,\n",
    "              num_workers=4,\n",
    "              pin_memory=True,\n",
    "              persistent_workers=True,\n",
    "              prefetch_factor=16)"
   ]
  },
  {
   "cell_type": "code",
   "execution_count": 8,
   "metadata": {},
   "outputs": [
    {
     "name": "stdout",
     "output_type": "stream",
     "text": [
      "Number of model parameters:  576778\n",
      "Number of model layers:  5\n",
      "['conv1.weight', 'conv1.bias', 'conv2.weight', 'conv2.bias', 'fc1.weight', 'fc1.bias', 'fc2.weight', 'fc2.bias', 'fc3.weight', 'fc3.bias']\n"
     ]
    }
   ],
   "source": [
    "if model_name == 'resnet18': # 11.2 M params -> 195 K\n",
    "   glob_model = ResNet18()\n",
    "# elif model_name == 'resnet34': # 21.3 M params\n",
    "#    glob_model = ResNet34()\n",
    "elif model_name == 'cnn': # 570 K params\n",
    "   glob_model = CNNCifar()\n",
    "   # glob_model = CNNDrop()\n",
    "elif model_name == 'lenet': # 60 K params\n",
    "   glob_model = LeNet()\n",
    "elif model_name == 'densenet': # 7.2 M params -> 1 M\n",
    "   glob_model = DenseNet121()\n",
    "# elif model_name == 'alexnet': # 60 M params\n",
    "#    glob_model = AlexNet()\n",
    "elif model_name == 'mobilenetv3': # L: 3.9 M params, S: 1.8 M params\n",
    "   glob_model = MobileNetV3(model_mode=\"LARGE\", num_classes=10, multiplier=0.75)\n",
    "\n",
    "num_params = get_model_parameters(glob_model)\n",
    "num_layers = len([x for x , y in glob_model.named_parameters() if ('conv' in x or 'fc' in x or 'downsample' in x) and 'weight' in x])\n",
    "print(\"Number of model parameters: \", num_params)\n",
    "print(\"Number of model layers: \", num_layers)\n",
    "print([x for x , y in glob_model.named_parameters()])"
   ]
  },
  {
   "attachments": {},
   "cell_type": "markdown",
   "metadata": {},
   "source": [
    "# Train the target model"
   ]
  },
  {
   "cell_type": "code",
   "execution_count": 9,
   "metadata": {},
   "outputs": [
    {
     "name": "stderr",
     "output_type": "stream",
     "text": [
      "Global Epoch: 0 | Drop Num: 10:   0%|          | 0/100 [00:00<?, ?it/s]"
     ]
    },
    {
     "name": "stderr",
     "output_type": "stream",
     "text": [
      "Global Epoch: 0 | Drop Num: 10:   5%|▌         | 5/100 [00:04<01:14,  1.27it/s]"
     ]
    }
   ],
   "source": [
    "all_clients = range(clients)\n",
    "split_index, flat_indice = FlatSplitParams(copy.deepcopy(glob_model), cut_num)\n",
    "lr = [learning_rate] * clients\n",
    "sec_record, acc_record, loss_record, time_record = [], [], [], []\n",
    "last_ws = [[]] * clients\n",
    "test_sec_model = copy.deepcopy(glob_model)\n",
    "criterion = nn.CrossEntropyLoss()\n",
    "ontrain_frac = 1 - drop_frac\n",
    "# Depending on the different models, their clipping threshold will be different\n",
    "# dp_strong is different from the total number of model parameters\n",
    "if model_name == 'cnn':\n",
    "   dp_strong = 500\n",
    "   clip = 1.0\n",
    "elif model_name == 'resnet18':\n",
    "   dp_strong = 30000\n",
    "   clip = 20.0\n",
    "elif model_name == 'densenet':\n",
    "   dp_strong = 10000\n",
    "   clip = 3.0\n",
    "\n",
    "for j in range(glob_epochs):\n",
    "   drop_users = random.sample(all_clients[1:], int(clients * drop_frac) ) # client 0 is used to evaluate security\n",
    "   nondrop_users = [x for x in range(clients) if x not in drop_users]\n",
    "   w_locals, weight_slices, noise_slices = [], [], []\n",
    "   start_time = time.time()\n",
    "   # print(\"Global Epoch: \", j, \" | Drop clients: \", drop_users)\n",
    "   for i in tqdm(range(clients), desc=f\"Global Epoch: {j} | Drop Num: {len(drop_users)}\"):\n",
    "      if i in drop_users:\n",
    "         weight_slices.insert(i, \"D\")\n",
    "         noise_slices.insert(i, \"D\")\n",
    "         continue\n",
    "      \n",
    "      if mechanism == 'None':\n",
    "        w = nor_train(copy.deepcopy(glob_model), device, i, lr, local_epochs, train_loader[i], rate_decay)\n",
    "      # elif mechanism == 'DP':\n",
    "      #    w = dp_train(copy.deepcopy(glob_model), device, i, lr, local_epochs, batch_size, train_loader[i], test_loader[i], train_data[i], train_targets[i], test_data[i],\n",
    "      #                 test_targets[i], audit_data[i], audit_targets[i], sec_record, q, batch_size, clip, sigma, len(train_loader[i]))\n",
    "      elif mechanism == 'DP2':\n",
    "         w = dp_trainv2(copy.deepcopy(glob_model), device, i, lr, local_epochs, train_loader[i], eps, delta, glob_epochs, clip, ontrain_frac, rate_decay, dp_strong)\n",
    "      elif mechanism == 'Proposed':\n",
    "         w, weight_slice, noise_slice = proposed_train(copy.deepcopy(glob_model), device, i, lr, local_epochs, glob_epochs, train_loader[i], eps, delta, \n",
    "                                                       split_index, flat_indice, clients, clip, ontrain_frac, rate_decay, dp_strong)\n",
    "         weight_slices.insert(i, weight_slice)\n",
    "         noise_slices.insert(i, noise_slice)\n",
    "      elif mechanism == 'Proposed2':\n",
    "         w, weight_slice, noise_slice = proposed_train2(copy.deepcopy(glob_model), device, i, lr, local_epochs, glob_epochs, train_loader[i], eps, delta, \n",
    "                                                       split_index, flat_indice, clip, rate_decay, dp_strong, cut_num)\n",
    "         weight_slices.insert(i, weight_slice)\n",
    "         noise_slices.insert(i, noise_slice)\n",
    "      elif mechanism == 'Indust':\n",
    "         w, last_w = indust_train(copy.deepcopy(glob_model), device, i, lr, local_epochs, train_loader[i], last_ws, flat_indice, clip, delta, glob_epochs, \n",
    "                                  eps, ontrain_frac, rate_decay, dp_strong)\n",
    "         last_ws[i] = last_w\n",
    "      else:\n",
    "         print(\"Please select a mechanism above.\")\n",
    "         exit()\n",
    "      w_locals.append(copy.deepcopy(w))\n",
    "\n",
    "   if mechanism == 'Proposed':\n",
    "      for i, id in enumerate(nondrop_users):\n",
    "         ProtectWeight(w_locals[i], noise_slices, weight_slices, split_index, id, flat_indice, device, clip)\n",
    "\n",
    "   elif mechanism == 'Proposed2':\n",
    "      send_rec_parts = []\n",
    "      for user_u in range(clients): \n",
    "         if user_u in drop_users:\n",
    "            continue\n",
    "         rec_ids  = random.sample([i for i in range(clients) if i != user_u], clients - 1) # choose who the partial weight send to\n",
    "         part_ids = random.sample(range(cut_num), clients - 1) # choose which part of weight want to send\n",
    "         for random_id in range(clients - 1):\n",
    "            send_rec_parts.append({'sender':user_u, 'receiver':rec_ids[random_id], 'part_id':part_ids[random_id]})\n",
    "\n",
    "      for i, id in enumerate(nondrop_users):\n",
    "         ProtectWeight2(w_locals[i], noise_slices, weight_slices, split_index, id, flat_indice, device, clip, cut_num, send_rec_parts)\n",
    "   \n",
    "   new_glob_w = aggregate(w_locals, device)\n",
    "   time_record.append(time.time() - start_time)\n",
    "   \n",
    "   random_id = nondrop_users[0] # randon choose a client\n",
    "   # Evaluate specific user's security\n",
    "   test_sec_model.load_state_dict(copy.deepcopy(w_locals[0]))\n",
    "   loss_audit_results = sec_func(copy.deepcopy(test_sec_model), criterion, device, train_data[random_id], train_targets[random_id], test_data[random_id], test_targets[random_id], audit_data[random_id], audit_targets[random_id])\n",
    "   sec_acc = loss_audit_results[0].roc_auc if loss_audit_results[0].roc_auc != 0.00 else float(loss_audit_results[0].accuracy[0]) # roc_acc = 0 means attacker can't identity member or non-member\n",
    "   sec_record.append(sec_acc)\n",
    "   # Evaluate global model's accuracy and loss\n",
    "   # new_glob_w = aggregate(w_locals, device)\n",
    "   glob_model.load_state_dict(copy.deepcopy(new_glob_w))\n",
    "   glob_loss, glob_acc = test(copy.deepcopy(glob_model), device, evl_loader)\n",
    "   acc_record.append(glob_acc)\n",
    "   loss_record.append(glob_loss)\n",
    "   # time_record.append(time.time() - start_time)\n",
    "   print(f\"Global Epoch: {j} | Client {random_id} | lr: {lr[random_id]} | Time: {time.time() - start_time:.1f} | Test Loss: {glob_loss:.4f} | Test Acc: {glob_acc:.2f}% | Attack Acc {100 * sec_acc:.2f}%\")"
   ]
  },
  {
   "cell_type": "code",
   "execution_count": null,
   "metadata": {},
   "outputs": [
    {
     "data": {
      "image/png": "[encoded data removed]",
      "text/plain": [
       "<Figure size 640x480 with 1 Axes>"
      ]
     },
     "metadata": {},
     "output_type": "display_data"
    }
   ],
   "source": [
    "plt.figure()\n",
    "plt.ylabel('Attack Accuracy')\n",
    "plt.xlabel('Global Epoch')\n",
    "plt.plot(range(len(sec_record)), sec_record, label='{}'.format(mechanism))\n",
    "plt.title('{} Attack Accuracy'.format('Cifar'))\n",
    "plt.legend()\n",
    "plt.savefig('attack_acc.png')"
   ]
  },
  {
   "cell_type": "code",
   "execution_count": null,
   "metadata": {},
   "outputs": [
    {
     "data": {
      "image/png": "[encoded data removed]",
      "text/plain": [
       "<Figure size 640x480 with 1 Axes>"
      ]
     },
     "metadata": {},
     "output_type": "display_data"
    }
   ],
   "source": [
    "plt.figure()\n",
    "plt.ylabel('Test Accuracy')\n",
    "plt.xlabel('Global Epoch')\n",
    "plt.plot(range(len(acc_record)), acc_record, label='{}'.format(mechanism))\n",
    "plt.title('{} Accuracy'.format('Cifar'))\n",
    "plt.legend()\n",
    "plt.savefig('acc.png')"
   ]
  },
  {
   "cell_type": "code",
   "execution_count": null,
   "metadata": {},
   "outputs": [
    {
     "data": {
      "image/png": "[encoded data removed]",
      "text/plain": [
       "<Figure size 640x480 with 1 Axes>"
      ]
     },
     "metadata": {},
     "output_type": "display_data"
    }
   ],
   "source": [
    "plt.figure()\n",
    "plt.ylabel('Test Loss')\n",
    "plt.xlabel('Global Epoch')\n",
    "plt.plot(range(len(loss_record)), loss_record, label='{}'.format(mechanism))\n",
    "plt.title('{} Loss'.format('Cifar'))\n",
    "plt.legend()\n",
    "plt.savefig('loss.png')"
   ]
  },
  {
   "cell_type": "code",
   "execution_count": null,
   "metadata": {},
   "outputs": [],
   "source": [
    "if not os.path.exists(rootpath):\n",
    "    os.makedirs(rootpath)\n",
    "\n",
    "accfile = open(rootpath + '/acc_{}_{}_{}_drop_{}_iid{}_bs_{}_lr_{}_G_epochs_{}_epsilon_{}_clip_{}_decay{}.dat'.\n",
    "                    format('cifar', model_name, mechanism, drop_frac, iid, batch_size,\n",
    "                           learning_rate, glob_epochs, eps, clip, rate_decay), \"w\")\n",
    "lossfile = open(rootpath + '/loss_{}_{}_{}_drop_{}_iid{}_bs_{}_lr_{}_G_epochs_{}_epsilon_{}_clip_{}_decay{}.dat'.\n",
    "                    format('cifar', model_name, mechanism, drop_frac, iid, batch_size,\n",
    "                           learning_rate, glob_epochs, eps, clip, rate_decay), \"w\")\n",
    "secfile = open(rootpath + '/sec_{}_{}_{}_drop_{}_iid{}_bs_{}_lr_{}_G_epochs_{}_epsilon_{}_clip_{}_decay{}.dat'.\n",
    "                    format('cifar', model_name, mechanism, drop_frac, iid, batch_size,\n",
    "                           learning_rate, glob_epochs, eps, clip, rate_decay), \"w\")\n",
    "\n",
    "tac = str(sum(time_record)) # write execution time in first line of accfile\n",
    "accfile.write(tac)\n",
    "accfile.write('\\n')\n",
    "for ac in acc_record:\n",
    "    sac = str(ac)\n",
    "    accfile.write(sac)\n",
    "    accfile.write('\\n')\n",
    "accfile.close()\n",
    "\n",
    "for lo in loss_record:\n",
    "    slo = str(lo)\n",
    "    lossfile.write(slo)\n",
    "    lossfile.write('\\n')\n",
    "lossfile.close()\n",
    "\n",
    "for se in sec_record:\n",
    "    sse = str(se)\n",
    "    secfile.write(sse)\n",
    "    secfile.write('\\n')\n",
    "secfile.close()"
   ]
  }
 ],
 "metadata": {
  "kernelspec": {
   "display_name": "privacy_meter_test",
   "language": "python",
   "name": "python3"
  },
  "language_info": {
   "codemirror_mode": {
    "name": "ipython",
    "version": 3
   },
   "file_extension": ".py",
   "mimetype": "text/x-python",
   "name": "python",
   "nbconvert_exporter": "python",
   "pygments_lexer": "ipython3",
   "version": "3.9.16"
  },
  "orig_nbformat": 4,
  "vscode": {
   "interpreter": {
    "hash": "af48e0a30d2a0b619bf296aea7d7271ba14c9beb98b0928b3e23c82f12ae949a"
   }
  }
 },
 "nbformat": 4,
 "nbformat_minor": 2
}
